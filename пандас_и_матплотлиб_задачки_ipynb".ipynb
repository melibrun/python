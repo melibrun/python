{
  "nbformat": 4,
  "nbformat_minor": 5,
  "metadata": {
    "colab": {
      "provenance": [],
      "include_colab_link": true
    },
    "kernelspec": {
      "display_name": "Python 3",
      "language": "python",
      "name": "python3"
    },
    "language_info": {
      "codemirror_mode": {
        "name": "ipython",
        "version": 3
      },
      "file_extension": ".py",
      "mimetype": "text/x-python",
      "name": "python",
      "nbconvert_exporter": "python",
      "pygments_lexer": "ipython3",
      "version": "3.7.10"
    }
  },
  "cells": [
    {
      "cell_type": "markdown",
      "metadata": {
        "id": "view-in-github",
        "colab_type": "text"
      },
      "source": [
        "<a href=\"https://colab.research.google.com/github/melibrun/python/blob/main/%D0%BF%D0%B0%D0%BD%D0%B4%D0%B0%D1%81_%D0%B8_%D0%BC%D0%B0%D1%82%D0%BF%D0%BB%D0%BE%D1%82%D0%BB%D0%B8%D0%B1_%D0%B7%D0%B0%D0%B4%D0%B0%D1%87%D0%BA%D0%B8_ipynb%22.ipynb\" target=\"_parent\"><img src=\"https://colab.research.google.com/assets/colab-badge.svg\" alt=\"Open In Colab\"/></a>"
      ]
    },
    {
      "cell_type": "markdown",
      "metadata": {
        "id": "230926b2-8d27-4c65-8055-2b8eaa977e04"
      },
      "source": [
        "# Набор задач по Matplotlib и Pandas"
      ],
      "id": "230926b2-8d27-4c65-8055-2b8eaa977e04"
    },
    {
      "cell_type": "code",
      "metadata": {
        "id": "7d344060-4958-4336-90d0-92fbb6ff209c"
      },
      "source": [
        "import numpy as np\n",
        "import pandas as pd\n",
        "import matplotlib.pyplot as plt"
      ],
      "id": "7d344060-4958-4336-90d0-92fbb6ff209c",
      "execution_count": null,
      "outputs": []
    },
    {
      "cell_type": "markdown",
      "metadata": {
        "id": "29c3a31a-80b1-49cc-b181-e9851cacd9bb"
      },
      "source": [
        "### Pandas"
      ],
      "id": "29c3a31a-80b1-49cc-b181-e9851cacd9bb"
    },
    {
      "cell_type": "markdown",
      "metadata": {
        "id": "31ae9450-d115-4a72-951b-d9c0908263a0"
      },
      "source": [
        "#### Задача 5\n",
        "\n",
        "Скачайте [датасет \"Titanic\"](https://kodomo.fbb.msu.ru/FBB/external/py_mipt/lec12_pandas/data/titanic_train.csv) в формате CSV. Загрузите его в Pandas."
      ],
      "id": "31ae9450-d115-4a72-951b-d9c0908263a0"
    },
    {
      "cell_type": "code",
      "metadata": {
        "id": "15ee5c87-1570-449f-8aa4-2575d7e5f3a7",
        "colab": {
          "base_uri": "https://localhost:8080/"
        },
        "outputId": "43b863ea-bac4-4849-b3cf-cac0b0772d9e"
      },
      "source": [
        "!wget https://kodomo.fbb.msu.ru/FBB/external/py_mipt/lec14_pandas_plus/data/titanic_train.csv\n",
        "\n"
      ],
      "id": "15ee5c87-1570-449f-8aa4-2575d7e5f3a7",
      "execution_count": null,
      "outputs": [
        {
          "output_type": "stream",
          "name": "stdout",
          "text": [
            "--2021-12-04 18:56:11--  https://kodomo.fbb.msu.ru/FBB/external/py_mipt/lec14_pandas_plus/data/titanic_train.csv\n",
            "Resolving kodomo.fbb.msu.ru (kodomo.fbb.msu.ru)... 93.180.63.127\n",
            "Connecting to kodomo.fbb.msu.ru (kodomo.fbb.msu.ru)|93.180.63.127|:443... connected.\n",
            "HTTP request sent, awaiting response... 200 OK\n",
            "Length: 61194 (60K) [text/csv]\n",
            "Saving to: ‘titanic_train.csv.1’\n",
            "\n",
            "titanic_train.csv.1 100%[===================>]  59.76K   265KB/s    in 0.2s    \n",
            "\n",
            "2021-12-04 18:56:12 (265 KB/s) - ‘titanic_train.csv.1’ saved [61194/61194]\n",
            "\n"
          ]
        }
      ]
    },
    {
      "cell_type": "code",
      "metadata": {
        "colab": {
          "base_uri": "https://localhost:8080/"
        },
        "id": "l1dSSbDCuFoC",
        "outputId": "55e913c7-eebf-4582-9a79-7d1e85306b1e"
      },
      "source": [
        "titanic = pd.read_csv(\"./titanic_train.csv\")\n",
        "titanic.head()"
      ],
      "id": "l1dSSbDCuFoC",
      "execution_count": null,
      "outputs": [
        {
          "output_type": "execute_result",
          "data": {
            "text/html": [
              "<div>\n",
              "<style scoped>\n",
              "    .dataframe tbody tr th:only-of-type {\n",
              "        vertical-align: middle;\n",
              "    }\n",
              "\n",
              "    .dataframe tbody tr th {\n",
              "        vertical-align: top;\n",
              "    }\n",
              "\n",
              "    .dataframe thead th {\n",
              "        text-align: right;\n",
              "    }\n",
              "</style>\n",
              "<table border=\"1\" class=\"dataframe\">\n",
              "  <thead>\n",
              "    <tr style=\"text-align: right;\">\n",
              "      <th></th>\n",
              "      <th>PassengerId</th>\n",
              "      <th>Survived</th>\n",
              "      <th>Pclass</th>\n",
              "      <th>Name</th>\n",
              "      <th>Sex</th>\n",
              "      <th>Age</th>\n",
              "      <th>SibSp</th>\n",
              "      <th>Parch</th>\n",
              "      <th>Ticket</th>\n",
              "      <th>Fare</th>\n",
              "      <th>Cabin</th>\n",
              "      <th>Embarked</th>\n",
              "    </tr>\n",
              "  </thead>\n",
              "  <tbody>\n",
              "    <tr>\n",
              "      <th>0</th>\n",
              "      <td>1</td>\n",
              "      <td>0</td>\n",
              "      <td>3</td>\n",
              "      <td>Braund, Mr. Owen Harris</td>\n",
              "      <td>male</td>\n",
              "      <td>22.0</td>\n",
              "      <td>1</td>\n",
              "      <td>0</td>\n",
              "      <td>A/5 21171</td>\n",
              "      <td>7.2500</td>\n",
              "      <td>NaN</td>\n",
              "      <td>S</td>\n",
              "    </tr>\n",
              "    <tr>\n",
              "      <th>1</th>\n",
              "      <td>2</td>\n",
              "      <td>1</td>\n",
              "      <td>1</td>\n",
              "      <td>Cumings, Mrs. John Bradley (Florence Briggs Th...</td>\n",
              "      <td>female</td>\n",
              "      <td>38.0</td>\n",
              "      <td>1</td>\n",
              "      <td>0</td>\n",
              "      <td>PC 17599</td>\n",
              "      <td>71.2833</td>\n",
              "      <td>C85</td>\n",
              "      <td>C</td>\n",
              "    </tr>\n",
              "    <tr>\n",
              "      <th>2</th>\n",
              "      <td>3</td>\n",
              "      <td>1</td>\n",
              "      <td>3</td>\n",
              "      <td>Heikkinen, Miss. Laina</td>\n",
              "      <td>female</td>\n",
              "      <td>26.0</td>\n",
              "      <td>0</td>\n",
              "      <td>0</td>\n",
              "      <td>STON/O2. 3101282</td>\n",
              "      <td>7.9250</td>\n",
              "      <td>NaN</td>\n",
              "      <td>S</td>\n",
              "    </tr>\n",
              "    <tr>\n",
              "      <th>3</th>\n",
              "      <td>4</td>\n",
              "      <td>1</td>\n",
              "      <td>1</td>\n",
              "      <td>Futrelle, Mrs. Jacques Heath (Lily May Peel)</td>\n",
              "      <td>female</td>\n",
              "      <td>35.0</td>\n",
              "      <td>1</td>\n",
              "      <td>0</td>\n",
              "      <td>113803</td>\n",
              "      <td>53.1000</td>\n",
              "      <td>C123</td>\n",
              "      <td>S</td>\n",
              "    </tr>\n",
              "    <tr>\n",
              "      <th>4</th>\n",
              "      <td>5</td>\n",
              "      <td>0</td>\n",
              "      <td>3</td>\n",
              "      <td>Allen, Mr. William Henry</td>\n",
              "      <td>male</td>\n",
              "      <td>35.0</td>\n",
              "      <td>0</td>\n",
              "      <td>0</td>\n",
              "      <td>373450</td>\n",
              "      <td>8.0500</td>\n",
              "      <td>NaN</td>\n",
              "      <td>S</td>\n",
              "    </tr>\n",
              "  </tbody>\n",
              "</table>\n",
              "</div>"
            ],
            "text/plain": [
              "   PassengerId  Survived  Pclass  ...     Fare Cabin  Embarked\n",
              "0            1         0       3  ...   7.2500   NaN         S\n",
              "1            2         1       1  ...  71.2833   C85         C\n",
              "2            3         1       3  ...   7.9250   NaN         S\n",
              "3            4         1       1  ...  53.1000  C123         S\n",
              "4            5         0       3  ...   8.0500   NaN         S\n",
              "\n",
              "[5 rows x 12 columns]"
            ]
          },
          "metadata": {},
          "execution_count": 59
        }
      ]
    },
    {
      "cell_type": "markdown",
      "metadata": {
        "id": "36a023ff-350b-4309-af62-ff0d1267f2f5"
      },
      "source": [
        "#### Задача 6\n",
        "\n",
        "Запросите из таблицы колонки с полом, возрастом и классом каюты для пассажиров. Постройте графики распределений каждой из этих переменных (в отдельности)."
      ],
      "id": "36a023ff-350b-4309-af62-ff0d1267f2f5"
    },
    {
      "cell_type": "code",
      "metadata": {
        "id": "d7b4735a-726c-486d-ab31-68d376284f08"
      },
      "source": [
        "gender = titanic [\"Sex\"]\n",
        "age = titanic [\"Age\"]\n",
        "pclass = titanic [\"Pclass\"]\n"
      ],
      "id": "d7b4735a-726c-486d-ab31-68d376284f08",
      "execution_count": null,
      "outputs": []
    },
    {
      "cell_type": "code",
      "metadata": {
        "colab": {
          "base_uri": "https://localhost:8080/"
        },
        "id": "PwGEsP31vqMd",
        "outputId": "f6db8866-878a-4731-c565-a583edd3b0c8"
      },
      "source": [
        "age.plot.hist()"
      ],
      "id": "PwGEsP31vqMd",
      "execution_count": null,
      "outputs": [
        {
          "output_type": "execute_result",
          "data": {
            "text/plain": [
              "<matplotlib.axes._subplots.AxesSubplot at 0x7fdc57b07a10>"
            ]
          },
          "metadata": {},
          "execution_count": 61
        },
        {
          "output_type": "display_data",
          "data": {
            "image/png": "[encoded data removed]",
            "text/plain": [
              "<Figure size 432x288 with 1 Axes>"
            ]
          },
          "metadata": {
            "needs_background": "light"
          }
        }
      ]
    },
    {
      "cell_type": "code",
      "metadata": {
        "colab": {
          "base_uri": "https://localhost:8080/"
        },
        "id": "2L6Ah2jsvtX6",
        "outputId": "927a01b9-f49a-4f69-aae2-97d36bf01b19"
      },
      "source": [
        "pclass.plot.hist()"
      ],
      "id": "2L6Ah2jsvtX6",
      "execution_count": null,
      "outputs": [
        {
          "output_type": "execute_result",
          "data": {
            "text/plain": [
              "<matplotlib.axes._subplots.AxesSubplot at 0x7fdc57a23c90>"
            ]
          },
          "metadata": {},
          "execution_count": 62
        },
        {
          "output_type": "display_data",
          "data": {
            "image/png": "[encoded data removed]",
            "text/plain": [
              "<Figure size 432x288 with 1 Axes>"
            ]
          },
          "metadata": {
            "needs_background": "light"
          }
        }
      ]
    },
    {
      "cell_type": "code",
      "metadata": {
        "colab": {
          "base_uri": "https://localhost:8080/"
        },
        "id": "kGI2uq9FwM6Z",
        "outputId": "53837854-4e54-49f0-e442-64a25f97a59b"
      },
      "source": [
        "gender.value_counts().plot.bar()"
      ],
      "id": "kGI2uq9FwM6Z",
      "execution_count": null,
      "outputs": [
        {
          "output_type": "execute_result",
          "data": {
            "text/plain": [
              "<matplotlib.axes._subplots.AxesSubplot at 0x7fdc579a6910>"
            ]
          },
          "metadata": {},
          "execution_count": 63
        },
        {
          "output_type": "display_data",
          "data": {
            "image/png": "[encoded data removed]",
            "text/plain": [
              "<Figure size 432x288 with 1 Axes>"
            ]
          },
          "metadata": {
            "needs_background": "light"
          }
        }
      ]
    },
    {
      "cell_type": "markdown",
      "metadata": {
        "id": "7e9ec7a3-852c-4c00-b029-930e25a4394e"
      },
      "source": [
        "#### Задача 7\n",
        "\n",
        "Создайте в таблице колонку `Fare_USD` с ценой в долларах. Считайте, что 1 фунт равен примерно 1.6 доллара."
      ],
      "id": "7e9ec7a3-852c-4c00-b029-930e25a4394e"
    },
    {
      "cell_type": "code",
      "metadata": {
        "id": "2a7480f0-7c56-418d-b471-c3265e405d9b",
        "colab": {
          "base_uri": "https://localhost:8080/"
        },
        "outputId": "9ef23801-c279-4a12-b431-6ccdf3c5c932"
      },
      "source": [
        "price = titanic[\"Fare\"] * 1.6\n",
        "titanic[\"Fare_USD\"] = price\n",
        "titanic.head()"
      ],
      "id": "2a7480f0-7c56-418d-b471-c3265e405d9b",
      "execution_count": null,
      "outputs": [
        {
          "output_type": "execute_result",
          "data": {
            "text/html": [
              "<div>\n",
              "<style scoped>\n",
              "    .dataframe tbody tr th:only-of-type {\n",
              "        vertical-align: middle;\n",
              "    }\n",
              "\n",
              "    .dataframe tbody tr th {\n",
              "        vertical-align: top;\n",
              "    }\n",
              "\n",
              "    .dataframe thead th {\n",
              "        text-align: right;\n",
              "    }\n",
              "</style>\n",
              "<table border=\"1\" class=\"dataframe\">\n",
              "  <thead>\n",
              "    <tr style=\"text-align: right;\">\n",
              "      <th></th>\n",
              "      <th>PassengerId</th>\n",
              "      <th>Survived</th>\n",
              "      <th>Pclass</th>\n",
              "      <th>Name</th>\n",
              "      <th>Sex</th>\n",
              "      <th>Age</th>\n",
              "      <th>SibSp</th>\n",
              "      <th>Parch</th>\n",
              "      <th>Ticket</th>\n",
              "      <th>Fare</th>\n",
              "      <th>Cabin</th>\n",
              "      <th>Embarked</th>\n",
              "      <th>Fare_USD</th>\n",
              "    </tr>\n",
              "  </thead>\n",
              "  <tbody>\n",
              "    <tr>\n",
              "      <th>0</th>\n",
              "      <td>1</td>\n",
              "      <td>0</td>\n",
              "      <td>3</td>\n",
              "      <td>Braund, Mr. Owen Harris</td>\n",
              "      <td>male</td>\n",
              "      <td>22.0</td>\n",
              "      <td>1</td>\n",
              "      <td>0</td>\n",
              "      <td>A/5 21171</td>\n",
              "      <td>7.2500</td>\n",
              "      <td>NaN</td>\n",
              "      <td>S</td>\n",
              "      <td>11.60000</td>\n",
              "    </tr>\n",
              "    <tr>\n",
              "      <th>1</th>\n",
              "      <td>2</td>\n",
              "      <td>1</td>\n",
              "      <td>1</td>\n",
              "      <td>Cumings, Mrs. John Bradley (Florence Briggs Th...</td>\n",
              "      <td>female</td>\n",
              "      <td>38.0</td>\n",
              "      <td>1</td>\n",
              "      <td>0</td>\n",
              "      <td>PC 17599</td>\n",
              "      <td>71.2833</td>\n",
              "      <td>C85</td>\n",
              "      <td>C</td>\n",
              "      <td>114.05328</td>\n",
              "    </tr>\n",
              "    <tr>\n",
              "      <th>2</th>\n",
              "      <td>3</td>\n",
              "      <td>1</td>\n",
              "      <td>3</td>\n",
              "      <td>Heikkinen, Miss. Laina</td>\n",
              "      <td>female</td>\n",
              "      <td>26.0</td>\n",
              "      <td>0</td>\n",
              "      <td>0</td>\n",
              "      <td>STON/O2. 3101282</td>\n",
              "      <td>7.9250</td>\n",
              "      <td>NaN</td>\n",
              "      <td>S</td>\n",
              "      <td>12.68000</td>\n",
              "    </tr>\n",
              "    <tr>\n",
              "      <th>3</th>\n",
              "      <td>4</td>\n",
              "      <td>1</td>\n",
              "      <td>1</td>\n",
              "      <td>Futrelle, Mrs. Jacques Heath (Lily May Peel)</td>\n",
              "      <td>female</td>\n",
              "      <td>35.0</td>\n",
              "      <td>1</td>\n",
              "      <td>0</td>\n",
              "      <td>113803</td>\n",
              "      <td>53.1000</td>\n",
              "      <td>C123</td>\n",
              "      <td>S</td>\n",
              "      <td>84.96000</td>\n",
              "    </tr>\n",
              "    <tr>\n",
              "      <th>4</th>\n",
              "      <td>5</td>\n",
              "      <td>0</td>\n",
              "      <td>3</td>\n",
              "      <td>Allen, Mr. William Henry</td>\n",
              "      <td>male</td>\n",
              "      <td>35.0</td>\n",
              "      <td>0</td>\n",
              "      <td>0</td>\n",
              "      <td>373450</td>\n",
              "      <td>8.0500</td>\n",
              "      <td>NaN</td>\n",
              "      <td>S</td>\n",
              "      <td>12.88000</td>\n",
              "    </tr>\n",
              "  </tbody>\n",
              "</table>\n",
              "</div>"
            ],
            "text/plain": [
              "   PassengerId  Survived  Pclass  ... Cabin Embarked   Fare_USD\n",
              "0            1         0       3  ...   NaN        S   11.60000\n",
              "1            2         1       1  ...   C85        C  114.05328\n",
              "2            3         1       3  ...   NaN        S   12.68000\n",
              "3            4         1       1  ...  C123        S   84.96000\n",
              "4            5         0       3  ...   NaN        S   12.88000\n",
              "\n",
              "[5 rows x 13 columns]"
            ]
          },
          "metadata": {},
          "execution_count": 64
        }
      ]
    },
    {
      "cell_type": "markdown",
      "metadata": {
        "id": "5bef996d-c733-4f16-9f13-1d8198ea3fbc"
      },
      "source": [
        "#### Задача 8\n",
        "\n",
        "Рассчитайте средние стоимости билета при посадке в Саутхемптоне, Шербуре и Квинстауне. Визуализируйте распределения цен."
      ],
      "id": "5bef996d-c733-4f16-9f13-1d8198ea3fbc"
    },
    {
      "cell_type": "code",
      "metadata": {
        "id": "e7e364f8-8d12-4ca9-918a-c59c6668f610",
        "colab": {
          "base_uri": "https://localhost:8080/"
        },
        "outputId": "c7c56f54-e285-4277-abbf-8cb109bee7d5"
      },
      "source": [
        "s = titanic.groupby(\"Embarked\").mean()[\"Fare\"]\n",
        "s"
      ],
      "id": "e7e364f8-8d12-4ca9-918a-c59c6668f610",
      "execution_count": null,
      "outputs": [
        {
          "output_type": "execute_result",
          "data": {
            "text/plain": [
              "Embarked\n",
              "C    59.954144\n",
              "Q    13.276030\n",
              "S    27.079812\n",
              "Name: Fare, dtype: float64"
            ]
          },
          "metadata": {},
          "execution_count": 65
        }
      ]
    },
    {
      "cell_type": "markdown",
      "metadata": {
        "id": "85357b18-920d-45b1-a4fb-e44b1665832e"
      },
      "source": [
        "#### Задача 9\n",
        "\n",
        "Постройте сводную таблицу с количествами пассажиров в зависимости от их класса и города посадки на корабль."
      ],
      "id": "85357b18-920d-45b1-a4fb-e44b1665832e"
    },
    {
      "cell_type": "code",
      "metadata": {
        "id": "6611b18c-5ecf-4cd4-ab43-def849a0ee16",
        "colab": {
          "base_uri": "https://localhost:8080/"
        },
        "outputId": "162e784f-930e-4def-fa32-d5f23c63fb72"
      },
      "source": [
        "crtab = pd.crosstab(titanic['Embarked'], titanic['Pclass'])\n",
        "crtab"
      ],
      "id": "6611b18c-5ecf-4cd4-ab43-def849a0ee16",
      "execution_count": null,
      "outputs": [
        {
          "output_type": "execute_result",
          "data": {
            "text/html": [
              "<div>\n",
              "<style scoped>\n",
              "    .dataframe tbody tr th:only-of-type {\n",
              "        vertical-align: middle;\n",
              "    }\n",
              "\n",
              "    .dataframe tbody tr th {\n",
              "        vertical-align: top;\n",
              "    }\n",
              "\n",
              "    .dataframe thead th {\n",
              "        text-align: right;\n",
              "    }\n",
              "</style>\n",
              "<table border=\"1\" class=\"dataframe\">\n",
              "  <thead>\n",
              "    <tr style=\"text-align: right;\">\n",
              "      <th>Pclass</th>\n",
              "      <th>1</th>\n",
              "      <th>2</th>\n",
              "      <th>3</th>\n",
              "    </tr>\n",
              "    <tr>\n",
              "      <th>Embarked</th>\n",
              "      <th></th>\n",
              "      <th></th>\n",
              "      <th></th>\n",
              "    </tr>\n",
              "  </thead>\n",
              "  <tbody>\n",
              "    <tr>\n",
              "      <th>C</th>\n",
              "      <td>85</td>\n",
              "      <td>17</td>\n",
              "      <td>66</td>\n",
              "    </tr>\n",
              "    <tr>\n",
              "      <th>Q</th>\n",
              "      <td>2</td>\n",
              "      <td>3</td>\n",
              "      <td>72</td>\n",
              "    </tr>\n",
              "    <tr>\n",
              "      <th>S</th>\n",
              "      <td>127</td>\n",
              "      <td>164</td>\n",
              "      <td>353</td>\n",
              "    </tr>\n",
              "  </tbody>\n",
              "</table>\n",
              "</div>"
            ],
            "text/plain": [
              "Pclass      1    2    3\n",
              "Embarked               \n",
              "C          85   17   66\n",
              "Q           2    3   72\n",
              "S         127  164  353"
            ]
          },
          "metadata": {},
          "execution_count": 66
        }
      ]
    },
    {
      "cell_type": "markdown",
      "metadata": {
        "id": "XbDdZkpq18wr"
      },
      "source": [
        "### Синтез знаний"
      ],
      "id": "XbDdZkpq18wr"
    },
    {
      "cell_type": "markdown",
      "metadata": {
        "id": "lEp-YZsm18-r"
      },
      "source": [
        "#### Задача 10\n",
        "\n",
        "Загрузите [датасет Heart UCI](https://kodomo.fbb.msu.ru/FBB/external/pyintensive/day6/data/Heart_UCI_modified.csv). Выполните следующие задания:\n",
        "\n",
        "1. Посчитайте количество пациентов каждого пола (можно сделать в одну строчку!).\n",
        "2. Вычислите средний уровень холестерола в крови всех пациентов.\n",
        "3. Сделайте фильтрацию уровня холестерола по полу пациента (создайте два `Series` с холестеролом мужчин и женщин).\n",
        "4. Посчитайте средние уровни холестерола для каждого пола. Сделайте выводы.\n",
        "5. Предложите статистический тест для оценки значимости различия средних значений."
      ],
      "id": "lEp-YZsm18-r"
    },
    {
      "cell_type": "code",
      "metadata": {
        "id": "rMQfeqCi2C51",
        "colab": {
          "base_uri": "https://localhost:8080/"
        },
        "outputId": "3d9776e2-97a4-41dc-c1a2-ed218c287b6c"
      },
      "source": [
        "!wget https://kodomo.fbb.msu.ru/FBB/external/pyintensive/day6/data/Heart_UCI_modified.csv"
      ],
      "id": "rMQfeqCi2C51",
      "execution_count": null,
      "outputs": [
        {
          "output_type": "stream",
          "name": "stdout",
          "text": [
            "--2021-12-04 18:56:13--  https://kodomo.fbb.msu.ru/FBB/external/pyintensive/day6/data/Heart_UCI_modified.csv\n",
            "Resolving kodomo.fbb.msu.ru (kodomo.fbb.msu.ru)... 93.180.63.127\n",
            "Connecting to kodomo.fbb.msu.ru (kodomo.fbb.msu.ru)|93.180.63.127|:443... connected.\n",
            "HTTP request sent, awaiting response... 200 OK\n",
            "Length: 28752 (28K) [text/csv]\n",
            "Saving to: ‘Heart_UCI_modified.csv.2’\n",
            "\n",
            "Heart_UCI_modified. 100%[===================>]  28.08K  --.-KB/s    in 0.1s    \n",
            "\n",
            "2021-12-04 18:56:13 (248 KB/s) - ‘Heart_UCI_modified.csv.2’ saved [28752/28752]\n",
            "\n"
          ]
        }
      ]
    },
    {
      "cell_type": "code",
      "metadata": {
        "colab": {
          "base_uri": "https://localhost:8080/",
          "height": 274
        },
        "id": "1w4rCnY-me1D",
        "outputId": "b557494d-ccba-4851-d0c8-5834188391a3"
      },
      "source": [
        "heart_uci = pd.read_csv(\"./Heart_UCI_modified.csv\")\n",
        "heart_uci.head()"
      ],
      "id": "1w4rCnY-me1D",
      "execution_count": null,
      "outputs": [
        {
          "output_type": "execute_result",
          "data": {
            "text/html": [
              "<div>\n",
              "<style scoped>\n",
              "    .dataframe tbody tr th:only-of-type {\n",
              "        vertical-align: middle;\n",
              "    }\n",
              "\n",
              "    .dataframe tbody tr th {\n",
              "        vertical-align: top;\n",
              "    }\n",
              "\n",
              "    .dataframe thead th {\n",
              "        text-align: right;\n",
              "    }\n",
              "</style>\n",
              "<table border=\"1\" class=\"dataframe\">\n",
              "  <thead>\n",
              "    <tr style=\"text-align: right;\">\n",
              "      <th></th>\n",
              "      <th>Age</th>\n",
              "      <th>Sex</th>\n",
              "      <th>Chest_pain_type</th>\n",
              "      <th>Resting_blood_pressure</th>\n",
              "      <th>Serum_cholesterol</th>\n",
              "      <th>Fasting_blood_sugar</th>\n",
              "      <th>Rest_ECG</th>\n",
              "      <th>Max_heart_rate</th>\n",
              "      <th>Exercise_angina</th>\n",
              "      <th>Exercise_ST_depression</th>\n",
              "      <th>ST_peak_slope</th>\n",
              "      <th>Vessels_colored</th>\n",
              "      <th>Heart_disease</th>\n",
              "    </tr>\n",
              "  </thead>\n",
              "  <tbody>\n",
              "    <tr>\n",
              "      <th>0</th>\n",
              "      <td>63</td>\n",
              "      <td>male</td>\n",
              "      <td>non-anginal pain</td>\n",
              "      <td>145</td>\n",
              "      <td>233</td>\n",
              "      <td>&gt; 120 mg/dl</td>\n",
              "      <td>normal</td>\n",
              "      <td>150</td>\n",
              "      <td>no angina</td>\n",
              "      <td>2.3</td>\n",
              "      <td>upsloping</td>\n",
              "      <td>0</td>\n",
              "      <td>diseased</td>\n",
              "    </tr>\n",
              "    <tr>\n",
              "      <th>1</th>\n",
              "      <td>37</td>\n",
              "      <td>male</td>\n",
              "      <td>atypical angina</td>\n",
              "      <td>130</td>\n",
              "      <td>250</td>\n",
              "      <td>&lt; 120 mg/dl</td>\n",
              "      <td>ST-T wave abnormality</td>\n",
              "      <td>187</td>\n",
              "      <td>no angina</td>\n",
              "      <td>3.5</td>\n",
              "      <td>upsloping</td>\n",
              "      <td>0</td>\n",
              "      <td>diseased</td>\n",
              "    </tr>\n",
              "    <tr>\n",
              "      <th>2</th>\n",
              "      <td>41</td>\n",
              "      <td>female</td>\n",
              "      <td>typical angina</td>\n",
              "      <td>130</td>\n",
              "      <td>204</td>\n",
              "      <td>&lt; 120 mg/dl</td>\n",
              "      <td>normal</td>\n",
              "      <td>172</td>\n",
              "      <td>no angina</td>\n",
              "      <td>1.4</td>\n",
              "      <td>downsloping</td>\n",
              "      <td>0</td>\n",
              "      <td>diseased</td>\n",
              "    </tr>\n",
              "    <tr>\n",
              "      <th>3</th>\n",
              "      <td>56</td>\n",
              "      <td>male</td>\n",
              "      <td>typical angina</td>\n",
              "      <td>120</td>\n",
              "      <td>236</td>\n",
              "      <td>&lt; 120 mg/dl</td>\n",
              "      <td>ST-T wave abnormality</td>\n",
              "      <td>178</td>\n",
              "      <td>no angina</td>\n",
              "      <td>0.8</td>\n",
              "      <td>downsloping</td>\n",
              "      <td>0</td>\n",
              "      <td>diseased</td>\n",
              "    </tr>\n",
              "    <tr>\n",
              "      <th>4</th>\n",
              "      <td>57</td>\n",
              "      <td>female</td>\n",
              "      <td>asymptomatic</td>\n",
              "      <td>120</td>\n",
              "      <td>354</td>\n",
              "      <td>&lt; 120 mg/dl</td>\n",
              "      <td>ST-T wave abnormality</td>\n",
              "      <td>163</td>\n",
              "      <td>angina</td>\n",
              "      <td>0.6</td>\n",
              "      <td>downsloping</td>\n",
              "      <td>0</td>\n",
              "      <td>diseased</td>\n",
              "    </tr>\n",
              "  </tbody>\n",
              "</table>\n",
              "</div>"
            ],
            "text/plain": [
              "   Age     Sex   Chest_pain_type  ...  ST_peak_slope  Vessels_colored Heart_disease\n",
              "0   63    male  non-anginal pain  ...      upsloping                0      diseased\n",
              "1   37    male   atypical angina  ...      upsloping                0      diseased\n",
              "2   41  female    typical angina  ...    downsloping                0      diseased\n",
              "3   56    male    typical angina  ...    downsloping                0      diseased\n",
              "4   57  female      asymptomatic  ...    downsloping                0      diseased\n",
              "\n",
              "[5 rows x 13 columns]"
            ]
          },
          "metadata": {},
          "execution_count": 68
        }
      ]
    },
    {
      "cell_type": "code",
      "metadata": {
        "colab": {
          "base_uri": "https://localhost:8080/"
        },
        "id": "4nRK_f5CnGWG",
        "outputId": "cbac2c7a-42da-43f9-b241-95e6e12b46a4"
      },
      "source": [
        "heart_uci[\"Sex\"].value_counts()"
      ],
      "id": "4nRK_f5CnGWG",
      "execution_count": null,
      "outputs": [
        {
          "output_type": "execute_result",
          "data": {
            "text/plain": [
              "male      207\n",
              "female     96\n",
              "Name: Sex, dtype: int64"
            ]
          },
          "metadata": {},
          "execution_count": 69
        }
      ]
    },
    {
      "cell_type": "code",
      "metadata": {
        "colab": {
          "base_uri": "https://localhost:8080/"
        },
        "id": "y6Mha6wKnoZD",
        "outputId": "b7dc58da-9a15-4dcc-d766-7305cf111282"
      },
      "source": [
        "mean_ch = heart_uci['Serum_cholesterol'].mean()\n",
        "mean_ch"
      ],
      "id": "y6Mha6wKnoZD",
      "execution_count": null,
      "outputs": [
        {
          "output_type": "execute_result",
          "data": {
            "text/plain": [
              "246.26402640264027"
            ]
          },
          "metadata": {},
          "execution_count": 70
        }
      ]
    },
    {
      "cell_type": "code",
      "metadata": {
        "colab": {
          "base_uri": "https://localhost:8080/",
          "height": 141
        },
        "id": "JLdycI1poH3k",
        "outputId": "c26a0e94-4fbb-4e80-f7ef-0c6f0461dc57"
      },
      "source": [
        "mean_all = heart_uci.groupby(\"Sex\").mean()[['Serum_cholesterol']]\n",
        "mean_all.head()"
      ],
      "id": "JLdycI1poH3k",
      "execution_count": null,
      "outputs": [
        {
          "output_type": "execute_result",
          "data": {
            "text/html": [
              "<div>\n",
              "<style scoped>\n",
              "    .dataframe tbody tr th:only-of-type {\n",
              "        vertical-align: middle;\n",
              "    }\n",
              "\n",
              "    .dataframe tbody tr th {\n",
              "        vertical-align: top;\n",
              "    }\n",
              "\n",
              "    .dataframe thead th {\n",
              "        text-align: right;\n",
              "    }\n",
              "</style>\n",
              "<table border=\"1\" class=\"dataframe\">\n",
              "  <thead>\n",
              "    <tr style=\"text-align: right;\">\n",
              "      <th></th>\n",
              "      <th>Serum_cholesterol</th>\n",
              "    </tr>\n",
              "    <tr>\n",
              "      <th>Sex</th>\n",
              "      <th></th>\n",
              "    </tr>\n",
              "  </thead>\n",
              "  <tbody>\n",
              "    <tr>\n",
              "      <th>female</th>\n",
              "      <td>261.302083</td>\n",
              "    </tr>\n",
              "    <tr>\n",
              "      <th>male</th>\n",
              "      <td>239.289855</td>\n",
              "    </tr>\n",
              "  </tbody>\n",
              "</table>\n",
              "</div>"
            ],
            "text/plain": [
              "        Serum_cholesterol\n",
              "Sex                      \n",
              "female         261.302083\n",
              "male           239.289855"
            ]
          },
          "metadata": {},
          "execution_count": 71
        }
      ]
    },
    {
      "cell_type": "code",
      "metadata": {
        "colab": {
          "base_uri": "https://localhost:8080/"
        },
        "id": "S23yfxL6tZWq",
        "outputId": "d5ca0ed0-0417-47bc-cb32-bee7277b8c9d"
      },
      "source": [
        "#for male\n",
        "m = heart_uci[\"Sex\"] == \"male\"\n",
        "heart_uci_male = heart_uci[m]\n",
        "import scipy\n",
        "stat, p = scipy.stats.shapiro(heart_uci_male['Serum_cholesterol']) # тест Шапиро-Уилк \n",
        "print('Statistics=%.3f, p-value=%.3f' % (stat, p)) \n",
        "alpha = 0.05 \n",
        "if p > alpha: \n",
        "  print('Принять гипотезу о нормальности') \n",
        "else: \n",
        "  print('Отклонить гипотезу о нормальности')"
      ],
      "id": "S23yfxL6tZWq",
      "execution_count": null,
      "outputs": [
        {
          "output_type": "stream",
          "name": "stdout",
          "text": [
            "Statistics=0.994, p-value=0.527\n",
            "Принять гипотезу о нормальности\n"
          ]
        }
      ]
    },
    {
      "cell_type": "code",
      "metadata": {
        "colab": {
          "base_uri": "https://localhost:8080/"
        },
        "id": "11KBLs600y-a",
        "outputId": "9b382ad7-46c3-47cd-dd38-de93d581fab6"
      },
      "source": [
        "#for male\n",
        "f = heart_uci[\"Sex\"] == \"female\"\n",
        "heart_uci_female = heart_uci[f]\n",
        "import scipy\n",
        "stat, p = scipy.stats.shapiro(heart_uci_female['Serum_cholesterol']) # тест Шапиро-Уилк \n",
        "print('Statistics=%.3f, p-value=%.3f' % (stat, p)) \n",
        "alpha = 0.05 \n",
        "if p > alpha: \n",
        "  print('Принять гипотезу о нормальности') \n",
        "else: \n",
        "  print('Отклонить гипотезу о нормальности')"
      ],
      "id": "11KBLs600y-a",
      "execution_count": null,
      "outputs": [
        {
          "output_type": "stream",
          "name": "stdout",
          "text": [
            "Statistics=0.923, p-value=0.000\n",
            "Отклонить гипотезу о нормальности\n"
          ]
        }
      ]
    },
    {
      "cell_type": "code",
      "metadata": {
        "id": "zOalOZCM2aoj"
      },
      "source": [],
      "id": "zOalOZCM2aoj",
      "execution_count": null,
      "outputs": []
    },
    {
      "cell_type": "markdown",
      "metadata": {
        "id": "brKPSj3m2aKz"
      },
      "source": [
        "значится используем непараметрические критерии (манна уитни?)"
      ],
      "id": "brKPSj3m2aKz"
    },
    {
      "cell_type": "code",
      "metadata": {
        "colab": {
          "base_uri": "https://localhost:8080/"
        },
        "id": "gi3aTGZw6zMr",
        "outputId": "df65491f-f68d-49d6-820f-843a3e23b364"
      },
      "source": [
        "scipy.stats.mannwhitneyu(heart_uci_female['Serum_cholesterol'],\n",
        "                         heart_uci_male['Serum_cholesterol'])\n"
      ],
      "id": "gi3aTGZw6zMr",
      "execution_count": null,
      "outputs": [
        {
          "output_type": "execute_result",
          "data": {
            "text/plain": [
              "MannwhitneyuResult(statistic=8070.0, pvalue=0.004277542430612009)"
            ]
          },
          "metadata": {},
          "execution_count": 89
        }
      ]
    },
    {
      "cell_type": "markdown",
      "metadata": {
        "id": "KMVBoMO_7tcn"
      },
      "source": [
        "p.value < 0.05, принимаем, различия есть"
      ],
      "id": "KMVBoMO_7tcn"
    }
  ]
}