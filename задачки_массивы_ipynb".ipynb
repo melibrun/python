{
  "nbformat": 4,
  "nbformat_minor": 5,
  "metadata": {
    "colab": {
      "provenance": [],
      "include_colab_link": true
    },
    "kernelspec": {
      "display_name": "Python 3",
      "language": "python",
      "name": "python3"
    },
    "language_info": {
      "codemirror_mode": {
        "name": "ipython",
        "version": 3
      },
      "file_extension": ".py",
      "mimetype": "text/x-python",
      "name": "python",
      "nbconvert_exporter": "python",
      "pygments_lexer": "ipython3",
      "version": "3.7.10"
    }
  },
  "cells": [
    {
      "cell_type": "markdown",
      "metadata": {
        "id": "view-in-github",
        "colab_type": "text"
      },
      "source": [
        "<a href=\"https://colab.research.google.com/github/melibrun/python/blob/main/%D0%B7%D0%B0%D0%B4%D0%B0%D1%87%D0%BA%D0%B8_%D0%BC%D0%B0%D1%81%D1%81%D0%B8%D0%B2%D1%8B_ipynb%22.ipynb\" target=\"_parent\"><img src=\"https://colab.research.google.com/assets/colab-badge.svg\" alt=\"Open In Colab\"/></a>"
      ]
    },
    {
      "cell_type": "markdown",
      "metadata": {
        "id": "230926b2-8d27-4c65-8055-2b8eaa977e04"
      },
      "source": [
        "# Набор задач по NumPy и MPL"
      ],
      "id": "230926b2-8d27-4c65-8055-2b8eaa977e04"
    },
    {
      "cell_type": "markdown",
      "metadata": {
        "id": "652b99f4-1261-40c5-b19f-119a0e819b1c"
      },
      "source": [
        "### NumPy"
      ],
      "id": "652b99f4-1261-40c5-b19f-119a0e819b1c"
    },
    {
      "cell_type": "markdown",
      "metadata": {
        "id": "c9202e11-f0ee-4689-872b-6c0b13ca6039"
      },
      "source": [
        "#### Задача 1.1\n",
        "\n",
        "Дано два списка. Получите новый список, содержащий их поэлементную сумму."
      ],
      "id": "c9202e11-f0ee-4689-872b-6c0b13ca6039"
    },
    {
      "cell_type": "code",
      "metadata": {
        "id": "85ff2836-0fc3-422f-8187-283ab6fe778c"
      },
      "source": [
        "list1 = [2, 8, 1, 4]\n",
        "list2 = [4, 8, 15, 16]"
      ],
      "id": "85ff2836-0fc3-422f-8187-283ab6fe778c",
      "execution_count": null,
      "outputs": []
    },
    {
      "cell_type": "code",
      "metadata": {
        "id": "148c1316-e848-460f-8ee6-a5ad7c956895"
      },
      "source": [
        "import numpy as np"
      ],
      "id": "148c1316-e848-460f-8ee6-a5ad7c956895",
      "execution_count": null,
      "outputs": []
    },
    {
      "cell_type": "code",
      "metadata": {
        "colab": {
          "base_uri": "https://localhost:8080/"
        },
        "id": "DxCFtraUML2z",
        "outputId": "2ae9e07f-3299-415b-8477-6fec5659229f"
      },
      "source": [
        "a = np.array(list1)\n",
        "b = np.array(list2)\n",
        "c = a + b\n",
        "print(c)"
      ],
      "id": "DxCFtraUML2z",
      "execution_count": null,
      "outputs": [
        {
          "output_type": "stream",
          "name": "stdout",
          "text": [
            "[ 6 16 16 20]\n"
          ]
        }
      ]
    },
    {
      "cell_type": "markdown",
      "metadata": {
        "id": "8TPXXTbxLPWf"
      },
      "source": [],
      "id": "8TPXXTbxLPWf"
    },
    {
      "cell_type": "markdown",
      "metadata": {
        "id": "2f5dcef5-5166-4daf-87a7-65513db2f350"
      },
      "source": [
        "#### Задача 1.2\n",
        "\n",
        "Сделайте то же самое с помощью векторизованных операций NumPy"
      ],
      "id": "2f5dcef5-5166-4daf-87a7-65513db2f350"
    },
    {
      "cell_type": "code",
      "metadata": {
        "id": "3f29b999-2b8c-40f3-8f9d-0afeff240d26"
      },
      "source": [
        "list1 = [2, 8, 1, 4]\n",
        "list2 = [4, 8, 15, 16]"
      ],
      "id": "3f29b999-2b8c-40f3-8f9d-0afeff240d26",
      "execution_count": null,
      "outputs": []
    },
    {
      "cell_type": "code",
      "metadata": {
        "id": "8e077e1e-c544-4a01-b319-fc7192a2c708",
        "colab": {
          "base_uri": "https://localhost:8080/"
        },
        "outputId": "059e5fe0-780f-4f11-a7c6-b9db366370cc"
      },
      "source": [
        "new = []\n",
        "for i in range(len(list1)):\n",
        "  new.append(list1[i]+list2[i])\n",
        "\n",
        "print(new)"
      ],
      "id": "8e077e1e-c544-4a01-b319-fc7192a2c708",
      "execution_count": null,
      "outputs": [
        {
          "output_type": "stream",
          "name": "stdout",
          "text": [
            "[6, 16, 16, 20]\n"
          ]
        }
      ]
    },
    {
      "cell_type": "markdown",
      "metadata": {
        "id": "f825acc6-8cf1-414e-b4f8-15f2571ae052"
      },
      "source": [
        "#### Задача 2\n",
        "\n",
        "Дан массив NumPy. Выясните его тип данных, размеры и размерность. Преобразуйте его в другой тип данных с помощью метода `.astype`. Транспонируйте массив."
      ],
      "id": "f825acc6-8cf1-414e-b4f8-15f2571ae052"
    },
    {
      "cell_type": "code",
      "metadata": {
        "id": "eb859e9c-d757-4234-a00f-bebcd9cc6c29"
      },
      "source": [
        "gamma_array = np.array([[5.24, 0.35, 4.70, 9.72, 4.02, 4.47, 4.47, 6.67, 5.41, 5.47],\n",
        "                        [1.88, 7.73, 3.67, 2.89, 3.18, 1.38, 2.35, 9.50, 6.94, 2.38],\n",
        "                        [3.66, 5.81, 5.16, 6.18, 5.54, 5.68, 4.64, 7.32, 8.45, 4.36]])"
      ],
      "id": "eb859e9c-d757-4234-a00f-bebcd9cc6c29",
      "execution_count": null,
      "outputs": []
    },
    {
      "cell_type": "code",
      "metadata": {
        "id": "d94c050e-0c76-456a-8572-4d885fe6e968",
        "colab": {
          "base_uri": "https://localhost:8080/"
        },
        "outputId": "c5c5ad2c-c826-4d8a-acce-585e1f5bd5ab"
      },
      "source": [
        "gamma_array.dtype\n",
        "gamma_array.shape\n",
        "gamma_array.ndim\n"
      ],
      "id": "d94c050e-0c76-456a-8572-4d885fe6e968",
      "execution_count": null,
      "outputs": [
        {
          "output_type": "execute_result",
          "data": {
            "text/plain": [
              "2"
            ]
          },
          "metadata": {},
          "execution_count": 11
        }
      ]
    },
    {
      "cell_type": "markdown",
      "metadata": {
        "id": "80f1af78-29dc-47c0-9981-bad552a2e46b"
      },
      "source": [
        "#### Задача 3\n",
        "\n",
        "Создайте массив действительных чисел от 10 до 0 (включительно!) с шагом -0.1. Выведите последние 5 элементов созданного массива."
      ],
      "id": "80f1af78-29dc-47c0-9981-bad552a2e46b"
    },
    {
      "cell_type": "code",
      "metadata": {
        "id": "70a01bd7-c674-462e-9eb6-8563479dd679",
        "colab": {
          "base_uri": "https://localhost:8080/"
        },
        "outputId": "e1f99d03-4f4a-4578-f62f-c64758fb5fc3"
      },
      "source": [
        "gamma_array.astype(\"int\")"
      ],
      "id": "70a01bd7-c674-462e-9eb6-8563479dd679",
      "execution_count": null,
      "outputs": [
        {
          "output_type": "execute_result",
          "data": {
            "text/plain": [
              "array([[5, 0, 4, 9, 4, 4, 4, 6, 5, 5],\n",
              "       [1, 7, 3, 2, 3, 1, 2, 9, 6, 2],\n",
              "       [3, 5, 5, 6, 5, 5, 4, 7, 8, 4]])"
            ]
          },
          "metadata": {},
          "execution_count": 12
        }
      ]
    },
    {
      "cell_type": "code",
      "metadata": {
        "colab": {
          "base_uri": "https://localhost:8080/"
        },
        "id": "loOQp8gUVwZW",
        "outputId": "86841b05-aba3-41fd-b788-ea6a4a14ca18"
      },
      "source": [
        "x = np.arange(10, 0 - 0.1, -0.1)\n",
        "x[-5:]\n",
        "\n",
        "#накопленная ошибка шага"
      ],
      "id": "loOQp8gUVwZW",
      "execution_count": null,
      "outputs": [
        {
          "output_type": "execute_result",
          "data": {
            "text/plain": [
              "array([4.00000000e-01, 3.00000000e-01, 2.00000000e-01, 1.00000000e-01,\n",
              "       3.55271368e-14])"
            ]
          },
          "metadata": {},
          "execution_count": 25
        }
      ]
    },
    {
      "cell_type": "code",
      "metadata": {
        "colab": {
          "base_uri": "https://localhost:8080/"
        },
        "id": "1n1fmAJmWhdQ",
        "outputId": "be5e62dc-ab61-4f5f-886a-676ed257b9db"
      },
      "source": [
        "np.linspace(10, 0, 100, endpoint=True)\n",
        "np.linspace(10, 0, int(10/0.1) + 1, endpoint=True)"
      ],
      "id": "1n1fmAJmWhdQ",
      "execution_count": null,
      "outputs": [
        {
          "output_type": "execute_result",
          "data": {
            "text/plain": [
              "array([10. ,  9.9,  9.8,  9.7,  9.6,  9.5,  9.4,  9.3,  9.2,  9.1,  9. ,\n",
              "        8.9,  8.8,  8.7,  8.6,  8.5,  8.4,  8.3,  8.2,  8.1,  8. ,  7.9,\n",
              "        7.8,  7.7,  7.6,  7.5,  7.4,  7.3,  7.2,  7.1,  7. ,  6.9,  6.8,\n",
              "        6.7,  6.6,  6.5,  6.4,  6.3,  6.2,  6.1,  6. ,  5.9,  5.8,  5.7,\n",
              "        5.6,  5.5,  5.4,  5.3,  5.2,  5.1,  5. ,  4.9,  4.8,  4.7,  4.6,\n",
              "        4.5,  4.4,  4.3,  4.2,  4.1,  4. ,  3.9,  3.8,  3.7,  3.6,  3.5,\n",
              "        3.4,  3.3,  3.2,  3.1,  3. ,  2.9,  2.8,  2.7,  2.6,  2.5,  2.4,\n",
              "        2.3,  2.2,  2.1,  2. ,  1.9,  1.8,  1.7,  1.6,  1.5,  1.4,  1.3,\n",
              "        1.2,  1.1,  1. ,  0.9,  0.8,  0.7,  0.6,  0.5,  0.4,  0.3,  0.2,\n",
              "        0.1,  0. ])"
            ]
          },
          "metadata": {},
          "execution_count": 27
        }
      ]
    },
    {
      "cell_type": "code",
      "metadata": {
        "id": "xpWglXiwV0m2"
      },
      "source": [],
      "id": "xpWglXiwV0m2",
      "execution_count": null,
      "outputs": []
    },
    {
      "cell_type": "markdown",
      "metadata": {
        "id": "c4360f05-4d02-42f8-956c-e5f809c56195"
      },
      "source": [
        "#### Задача 4\n",
        "\n",
        "Дан список. Работая с ним как с выборкой, проведите стандартизацию значений в нем с помощью инстументария NumPy."
      ],
      "id": "c4360f05-4d02-42f8-956c-e5f809c56195"
    },
    {
      "cell_type": "markdown",
      "metadata": {
        "id": "ufuLCyuNZLS4"
      },
      "source": [],
      "id": "ufuLCyuNZLS4"
    },
    {
      "cell_type": "markdown",
      "metadata": {
        "id": "YghtOmYGZLO5"
      },
      "source": [],
      "id": "YghtOmYGZLO5"
    },
    {
      "cell_type": "code",
      "metadata": {
        "id": "fb9e0e55-c0fd-41ce-b308-1ea958716f32"
      },
      "source": [
        "sel = [5, 3, 3, 7, 6, 2, 4, 7, 4, 5, 3, 8, 6, 6, 2]"
      ],
      "id": "fb9e0e55-c0fd-41ce-b308-1ea958716f32",
      "execution_count": null,
      "outputs": []
    },
    {
      "cell_type": "code",
      "metadata": {
        "id": "5e255c68-da2f-4c92-9c90-18eba2b75ed6",
        "colab": {
          "base_uri": "https://localhost:8080/"
        },
        "outputId": "407e92f1-1028-44e2-ca63-e4354c31dd09"
      },
      "source": [
        "a = np.array(sel)\n",
        "b = (a - a.mean()) / a.std()\n",
        "print(b)\n",
        "\n",
        "print(np.mean(b))"
      ],
      "id": "5e255c68-da2f-4c92-9c90-18eba2b75ed6",
      "execution_count": null,
      "outputs": [
        {
          "output_type": "stream",
          "name": "stdout",
          "text": [
            "[ 0.14471492 -0.94064699 -0.94064699  1.23007683  0.68739588 -1.48332794\n",
            " -0.39796603  1.23007683 -0.39796603  0.14471492 -0.94064699  1.77275778\n",
            "  0.68739588  0.68739588 -1.48332794]\n",
            "-2.960594732333751e-17\n"
          ]
        }
      ]
    },
    {
      "cell_type": "markdown",
      "metadata": {
        "id": "372193ca-3079-43ef-9bca-eb7b62f3cfce"
      },
      "source": [
        "#### Задача 5.1\n",
        "\n",
        "Дано два списка списков (внешний и вложенные списки имеют одинаковый размер). Просуммируйте их поэлементно. "
      ],
      "id": "372193ca-3079-43ef-9bca-eb7b62f3cfce"
    },
    {
      "cell_type": "code",
      "metadata": {
        "id": "4dcb8623-7110-47de-8fe1-7e58a163692d"
      },
      "source": [
        "matrix1 = [[8, 4, 7, 3],\n",
        "           [9, 6, 5, 6],\n",
        "           [3, 9, 7, 4],\n",
        "           [6, 5, 4, 0]]\n",
        "matrix2 = [[5, 3, 2, 5],\n",
        "           [6, 0, 1, 3],\n",
        "           [5, 6, 4, 3],\n",
        "           [8, 4, 1, 5]]"
      ],
      "id": "4dcb8623-7110-47de-8fe1-7e58a163692d",
      "execution_count": null,
      "outputs": []
    },
    {
      "cell_type": "code",
      "metadata": {
        "id": "5c0378eb-a5cc-40ff-9816-c962ae3ca03c"
      },
      "source": [],
      "id": "5c0378eb-a5cc-40ff-9816-c962ae3ca03c",
      "execution_count": null,
      "outputs": []
    },
    {
      "cell_type": "markdown",
      "metadata": {
        "id": "34354cba-bbae-4667-9383-4520bb0e0138"
      },
      "source": [
        "#### Задача 5.2\n",
        "\n",
        "Сделайте то же самое с помощью векторизованных операций NumPy"
      ],
      "id": "34354cba-bbae-4667-9383-4520bb0e0138"
    },
    {
      "cell_type": "code",
      "metadata": {
        "id": "1149880a-45be-4f0e-9544-e8133a5d026c"
      },
      "source": [
        "matrix1 = [[8, 4, 7, 3],\n",
        "           [9, 6, 5, 6],\n",
        "           [3, 9, 7, 4],\n",
        "           [6, 5, 4, 0]]\n",
        "matrix2 = [[5, 3, 2, 5],\n",
        "           [6, 0, 1, 3],\n",
        "           [5, 6, 4, 3],\n",
        "           [8, 4, 1, 5]]"
      ],
      "id": "1149880a-45be-4f0e-9544-e8133a5d026c",
      "execution_count": null,
      "outputs": []
    },
    {
      "cell_type": "code",
      "metadata": {
        "id": "ad1d3c1b-87dc-4d59-8046-608325422c1f",
        "colab": {
          "base_uri": "https://localhost:8080/"
        },
        "outputId": "0eca0277-2273-4343-8df3-aa32df6f7027"
      },
      "source": [
        "a = np.array(matrix1)\n",
        "b = np.array(matrix2)\n",
        "a + b"
      ],
      "id": "ad1d3c1b-87dc-4d59-8046-608325422c1f",
      "execution_count": null,
      "outputs": [
        {
          "output_type": "execute_result",
          "data": {
            "text/plain": [
              "array([[13,  7,  9,  8],\n",
              "       [15,  6,  6,  9],\n",
              "       [ 8, 15, 11,  7],\n",
              "       [14,  9,  5,  5]])"
            ]
          },
          "metadata": {},
          "execution_count": 29
        }
      ]
    },
    {
      "cell_type": "markdown",
      "metadata": {
        "id": "9d8af07a-b35c-4583-ba8c-b7f9ae9dc4d1"
      },
      "source": [
        "#### Задача 6\n",
        "\n",
        "Какие из следующих пар массивов можно векторизованно сложить?\n",
        "* `(10, 2)` и число.\n",
        "* `(12,)` и `(2, 6)`\n",
        "* `(4,)` и `(4, 1)`\n",
        "* `(22,)` и `(7, 22)`\n",
        "* `(8, 6)` и `(2, 8, 1)`\n",
        "* `(12,)` и `(12, 12)`\n",
        "\n",
        "Проверьте те пары, которые вызывают у вас сомнения."
      ],
      "id": "9d8af07a-b35c-4583-ba8c-b7f9ae9dc4d1"
    },
    {
      "cell_type": "code",
      "metadata": {
        "id": "BxTqFrggc8M4"
      },
      "source": [],
      "id": "BxTqFrggc8M4",
      "execution_count": null,
      "outputs": []
    },
    {
      "cell_type": "code",
      "metadata": {
        "id": "f79c4c04-0ff6-4697-8a0f-17beb2c8874a",
        "colab": {
          "base_uri": "https://localhost:8080/"
        },
        "outputId": "2b582caa-66ef-4c78-d7b5-3311e5bfbc85"
      },
      "source": [
        "c = np.zeros((8,)) + np.ones((8,8))\n",
        "c\n"
      ],
      "id": "f79c4c04-0ff6-4697-8a0f-17beb2c8874a",
      "execution_count": null,
      "outputs": [
        {
          "output_type": "execute_result",
          "data": {
            "text/plain": [
              "array([[1., 1., 1., 1., 1., 1., 1., 1.],\n",
              "       [1., 1., 1., 1., 1., 1., 1., 1.],\n",
              "       [1., 1., 1., 1., 1., 1., 1., 1.],\n",
              "       [1., 1., 1., 1., 1., 1., 1., 1.],\n",
              "       [1., 1., 1., 1., 1., 1., 1., 1.],\n",
              "       [1., 1., 1., 1., 1., 1., 1., 1.],\n",
              "       [1., 1., 1., 1., 1., 1., 1., 1.],\n",
              "       [1., 1., 1., 1., 1., 1., 1., 1.]])"
            ]
          },
          "metadata": {},
          "execution_count": 44
        }
      ]
    },
    {
      "cell_type": "markdown",
      "metadata": {
        "id": "8f30b313-2408-46a5-b19c-ff154a3e6f2f"
      },
      "source": [
        "#### Задача 7\n",
        "\n",
        "Дан двумерный массив. Посчитайте его среднее и стандатное отклонение:\n",
        "1) По всему массиву\n",
        "2) Построчно\n",
        "3) В каждом столбце "
      ],
      "id": "8f30b313-2408-46a5-b19c-ff154a3e6f2f"
    },
    {
      "cell_type": "code",
      "metadata": {
        "id": "5355f390-d384-4ae2-bf3b-1544414c4458"
      },
      "source": [
        "data = np.array([[80, 76, 79, 79, 83, 86],\n",
        "                 [80, 78, 85, 78, 92, 83],\n",
        "                 [85, 81, 84, 79, 82, 79],\n",
        "                 [80, 80, 85, 78, 74, 87],\n",
        "                 [78, 78, 84, 77, 76, 81],\n",
        "                 [90, 77, 73, 75, 79, 76]])"
      ],
      "id": "5355f390-d384-4ae2-bf3b-1544414c4458",
      "execution_count": null,
      "outputs": []
    },
    {
      "cell_type": "code",
      "metadata": {
        "id": "6ad9a63d-8a28-40a0-b5d8-bc8f1063f957",
        "colab": {
          "base_uri": "https://localhost:8080/"
        },
        "outputId": "2473d6a9-015f-4ad5-8808-38b3f8bbd735"
      },
      "source": [
        "print(data.std(axis = 1), data.mean(axis=1)) #строчка\n",
        "#пусто, 0, 1\n",
        "print(data.std(axis = 0),  data.mean(axis=0)) #столбик\n",
        "print(data.std(), data.mean())"
      ],
      "id": "6ad9a63d-8a28-40a0-b5d8-bc8f1063f957",
      "execution_count": null,
      "outputs": [
        {
          "output_type": "stream",
          "name": "stdout",
          "text": [
            "[3.20156212 4.8876261  2.2852182  4.30761599 2.7080128  5.52770798] [80.5        82.66666667 81.66666667 80.66666667 79.         78.33333333]\n",
            "[4.09945796 1.69967317 4.38431548 1.37436854 5.83095189 3.82970843] [82.16666667 78.33333333 81.66666667 77.66666667 81.         82.        ]\n",
            "4.2588868597264495 80.47222222222223\n"
          ]
        }
      ]
    },
    {
      "cell_type": "markdown",
      "metadata": {
        "id": "d093c34e-60d9-4e7e-b0d6-a48a14677114"
      },
      "source": [
        "#### Задача 8\n",
        "\n",
        "Дано два списка с полом и уровнем холестерола в крови пациентов из датасета Heart UCI. Выполните следующе задания:\n",
        "1) Преобразуйте данные вам списки в массивы NumPy.\n",
        "2) Посчитайте количество пациентов каждого пола (можно сделать в одну строчку!).\n",
        "3) Вычислите средний уровень холестерола в крови всех пациентов.\n",
        "4) Сделайте фильтрацию уровня холестерола по полу пациента (создайте два массива с холестеролом мужчин и женщин).\n",
        "5) Посчитайте средние уровни холестерола для каждого пола. Сделайте выводы.\n",
        "6) Предложите статистический тест для оценки значимости различия средних значений."
      ],
      "id": "d093c34e-60d9-4e7e-b0d6-a48a14677114"
    },
    {
      "cell_type": "code",
      "metadata": {
        "id": "b88ac959-6df7-4570-ab49-a398b83506bc"
      },
      "source": [
        "patient_sex = ['m', 'm', 'm', 'm', 'm', 'f', 'm', 'f', 'm', 'f', 'f', 'f', 'm', 'm', 'f', 'f', 'm', 'm', 'm', 'm']\n",
        "cholesterol = [226, 230, 245, 231, 353, 195, 255, 295, 250, 304, 277, 268, 227, 235, 288, 197, 244, 257, 208, 204]"
      ],
      "id": "b88ac959-6df7-4570-ab49-a398b83506bc",
      "execution_count": null,
      "outputs": []
    },
    {
      "cell_type": "code",
      "metadata": {
        "id": "313fb2c3-448d-43c7-9fd1-1e28f7e0adaf",
        "colab": {
          "base_uri": "https://localhost:8080/"
        },
        "outputId": "c458be69-9054-459e-f64f-72e8e0b2a599"
      },
      "source": [
        "p = np.array(patient_sex)\n",
        "c = np.array(cholesterol)\n",
        "from collections import Counter\n",
        "Counter(p)\n",
        "c.mean()\n"
      ],
      "id": "313fb2c3-448d-43c7-9fd1-1e28f7e0adaf",
      "execution_count": null,
      "outputs": [
        {
          "output_type": "execute_result",
          "data": {
            "text/plain": [
              "249.45"
            ]
          },
          "metadata": {},
          "execution_count": 109
        }
      ]
    },
    {
      "cell_type": "code",
      "metadata": {
        "colab": {
          "base_uri": "https://localhost:8080/"
        },
        "id": "pnBlGHWYmmq3",
        "outputId": "0295b82c-ca4a-4b4e-8d5b-e44a237e8497"
      },
      "source": [
        "c[p==\"f\"]\n",
        "c[p==\"m\"] #можно в переменную вложить фильтр (f = p ==\"f\")"
      ],
      "id": "pnBlGHWYmmq3",
      "execution_count": null,
      "outputs": [
        {
          "output_type": "execute_result",
          "data": {
            "text/plain": [
              "array([226, 230, 245, 231, 353, 255, 250, 227, 235, 244, 257, 208, 204])"
            ]
          },
          "metadata": {},
          "execution_count": 66
        }
      ]
    },
    {
      "cell_type": "markdown",
      "metadata": {
        "id": "71757d29-7177-448b-aa4c-d61ef12d17bc"
      },
      "source": [
        "### Matplotlib"
      ],
      "id": "71757d29-7177-448b-aa4c-d61ef12d17bc"
    },
    {
      "cell_type": "markdown",
      "metadata": {
        "id": "9fbf7a36-b6b5-4416-b188-bd99a59d7680"
      },
      "source": [
        "#### Задача 9\n",
        "\n",
        "Сгенерируйте массив действительных чисел от $-\\dfrac{\\pi}{2}$ до $\\dfrac{\\pi}{2}$. Вычислите тангенс по этому набору значений.\n",
        "\n",
        "Нарисуйте график тангенса для соответствующих `x` и `y`. Что не так с графиком?"
      ],
      "id": "9fbf7a36-b6b5-4416-b188-bd99a59d7680"
    },
    {
      "cell_type": "code",
      "metadata": {
        "id": "91c2f6ce-ef7d-4373-8046-ff5b9780aacc",
        "colab": {
          "base_uri": "https://localhost:8080/",
          "height": 293
        },
        "outputId": "fe4ac54c-e864-4067-9150-e48f1db1adc0"
      },
      "source": [
        "import matplotlib.pyplot as plt\n",
        "x = np.linspace(-np.pi/2, np.pi/2, 1000)\n",
        "y = np.tan(x)\n",
        "plt.plot(x, y)\n",
        "#почему он квадратный?"
      ],
      "id": "91c2f6ce-ef7d-4373-8046-ff5b9780aacc",
      "execution_count": null,
      "outputs": [
        {
          "output_type": "execute_result",
          "data": {
            "text/plain": [
              "[<matplotlib.lines.Line2D at 0x7f9e13146490>]"
            ]
          },
          "metadata": {},
          "execution_count": 74
        },
        {
          "output_type": "display_data",
          "data": {
            "image/png": "[encoded data removed]",
            "text/plain": [
              "<Figure size 432x288 with 1 Axes>"
            ]
          },
          "metadata": {
            "needs_background": "light"
          }
        }
      ]
    },
    {
      "cell_type": "markdown",
      "metadata": {
        "id": "rOTeCotbYq7l"
      },
      "source": [
        "#### Задача 10\n",
        "\n",
        "Добавьте подписи осей к графику по данным из предыдущей задачи (код для построения графиков можно скопировать)."
      ],
      "id": "rOTeCotbYq7l"
    },
    {
      "cell_type": "code",
      "metadata": {
        "id": "zIdjAEAHowmH",
        "colab": {
          "base_uri": "https://localhost:8080/",
          "height": 290
        },
        "outputId": "d28409e6-f300-4169-a342-d43439ed0e37"
      },
      "source": [
        "import numpy as np\n",
        "import matplotlib.pyplot as plt\n",
        "x = np.linspace(-np.pi/2, np.pi/2, 1000)\n",
        "y = np.tan(x)\n",
        "\n",
        "fig, graphtan = plt.subplots()\n",
        "\n",
        "graphtan.plot(x, y)\n",
        "#ax.grid()-сетка\n",
        "\n",
        "#  Добавляем подписи к осям:\n",
        "graphtan.set_xlabel('pi')\n",
        "graphtan.set_ylabel('units')\n",
        "\n",
        "plt.show()"
      ],
      "id": "zIdjAEAHowmH",
      "execution_count": null,
      "outputs": [
        {
          "output_type": "display_data",
          "data": {
            "image/png": "[encoded data removed]",
            "text/plain": [
              "<Figure size 432x288 with 1 Axes>"
            ]
          },
          "metadata": {
            "needs_background": "light"
          }
        }
      ]
    },
    {
      "cell_type": "code",
      "metadata": {
        "colab": {
          "base_uri": "https://localhost:8080/",
          "height": 312
        },
        "id": "NI3-Us0e1pXq",
        "outputId": "dbc65641-a67d-4568-cc33-b2d0649d7b8b"
      },
      "source": [],
      "id": "NI3-Us0e1pXq",
      "execution_count": null,
      "outputs": [
        {
          "output_type": "execute_result",
          "data": {
            "text/plain": [
              "Text(0.5, 1.0, 'Tan of X')"
            ]
          },
          "metadata": {},
          "execution_count": 94
        },
        {
          "output_type": "display_data",
          "data": {
            "image/png": "[encoded data removed]",
            "text/plain": [
              "<Figure size 432x288 with 1 Axes>"
            ]
          },
          "metadata": {
            "needs_background": "light"
          }
        }
      ]
    },
    {
      "cell_type": "markdown",
      "metadata": {
        "id": "814554c2-de4e-4185-b6e4-54e89e005eea"
      },
      "source": [
        "#### Задача 11\n",
        "\n",
        "Измените подписи на шкале X."
      ],
      "id": "814554c2-de4e-4185-b6e4-54e89e005eea"
    },
    {
      "cell_type": "code",
      "metadata": {
        "id": "8b4bbdc7-f15f-40ad-a35e-d4b627d4cd90",
        "colab": {
          "base_uri": "https://localhost:8080/",
          "height": 312
        },
        "outputId": "04b035c6-b4d6-4904-ee3b-3a1163016a12"
      },
      "source": [
        "#очевидно\n",
        "plt.plot(x, y)\n",
        "#plt.ylim(-2, 2)\n",
        "plt.xlabel(\"X\")\n",
        "plt.ylabel(\"tag X\")\n",
        "plt.title(\"Tan of X\")"
      ],
      "id": "8b4bbdc7-f15f-40ad-a35e-d4b627d4cd90",
      "execution_count": null,
      "outputs": [
        {
          "output_type": "execute_result",
          "data": {
            "text/plain": [
              "Text(0.5, 1.0, 'Tan of X')"
            ]
          },
          "metadata": {},
          "execution_count": 95
        },
        {
          "output_type": "display_data",
          "data": {
            "image/png": "[encoded data removed]",
            "text/plain": [
              "<Figure size 432x288 with 1 Axes>"
            ]
          },
          "metadata": {
            "needs_background": "light"
          }
        }
      ]
    },
    {
      "cell_type": "markdown",
      "metadata": {
        "id": "2f7150b1-b9b0-415d-b30d-b6e3afcb4c45"
      },
      "source": [
        "#### Задача 12\n",
        "\n",
        "Нарисуйте на одном холсте график $\\sin x$, $\\cos x$ и $\\dfrac{\\cos 2x}{2}$ на промежутке от $-\\pi$ до $\\pi$. Отобразите:\n",
        "1. График $\\sin x$ - жирной зеленой пунктирной линией.\n",
        "2. График $\\cos x$ - полужирной оранжевой штриховой линией.\n",
        "3. График $\\frac{\\cos 2x}{2}$ - тонкой фиолетовой штрихпунктирной линией."
      ],
      "id": "2f7150b1-b9b0-415d-b30d-b6e3afcb4c45"
    },
    {
      "cell_type": "code",
      "metadata": {
        "id": "0aac68c4-3ce5-43b8-8334-4d33d95a813e",
        "colab": {
          "base_uri": "https://localhost:8080/",
          "height": 282
        },
        "outputId": "d63f2ee2-5a6a-4c6d-9c23-f00fcb2c42e9"
      },
      "source": [
        "import matplotlib.pyplot as plt\n",
        "x = np.linspace(-np.pi, np.pi, 100)\n",
        "y1 = np.sin(x)\n",
        "y2 = np.cos(x)\n",
        "y3 = np.cos(2 * x) / 2\n",
        "plt.plot(x, y1, \"--\", lw=4, color = \"green\")\n",
        "plt.plot(x, y2, ls=\":\", lw=2, color=\"orange\")\n",
        "plt.plot(x, y3, ls =\"-.\", color = '#D418FF')"
      ],
      "id": "0aac68c4-3ce5-43b8-8334-4d33d95a813e",
      "execution_count": null,
      "outputs": [
        {
          "output_type": "execute_result",
          "data": {
            "text/plain": [
              "[<matplotlib.lines.Line2D at 0x7f9e125f0250>]"
            ]
          },
          "metadata": {},
          "execution_count": 106
        },
        {
          "output_type": "display_data",
          "data": {
            "image/png": "[encoded data removed]",
            "text/plain": [
              "<Figure size 432x288 with 1 Axes>"
            ]
          },
          "metadata": {
            "needs_background": "light"
          }
        }
      ]
    },
    {
      "cell_type": "code",
      "metadata": {
        "id": "35e78321-d447-47f2-9209-945aa47bb4d6"
      },
      "source": [],
      "id": "35e78321-d447-47f2-9209-945aa47bb4d6",
      "execution_count": null,
      "outputs": []
    },
    {
      "cell_type": "markdown",
      "metadata": {
        "id": "a012d9fe-cebe-4a50-9888-88adfd7c6f85"
      },
      "source": [
        "#### Задача 13\n",
        "\n",
        "Скопируйте код из задачи 12 и добавьте к нему легенду."
      ],
      "id": "a012d9fe-cebe-4a50-9888-88adfd7c6f85"
    },
    {
      "cell_type": "code",
      "metadata": {
        "id": "49fc0c1a-c623-4530-94ee-be10a0df5f89",
        "colab": {
          "base_uri": "https://localhost:8080/",
          "height": 312
        },
        "outputId": "8c7b08b0-9aca-4e3e-da6c-b889229ec623"
      },
      "source": [
        "x = np.linspace(-np.pi, np.pi, 100)\n",
        "y1 = np.sin(x)\n",
        "y2 = np.cos(x)\n",
        "y3 = np.cos(2 * x) / 2\n",
        "plt.plot(x, y1, \"--\", lw=4, color = \"green\")\n",
        "plt.plot(x, y2, ls=\":\", lw=2, color=\"orange\")\n",
        "plt.plot(x, y3, ls =\"-.\", color = '#D418FF')\n",
        "plt.xlabel(\"pi\")\n",
        "plt.ylabel(\"X\")\n",
        "plt.title(\"All\")"
      ],
      "id": "49fc0c1a-c623-4530-94ee-be10a0df5f89",
      "execution_count": null,
      "outputs": [
        {
          "output_type": "execute_result",
          "data": {
            "text/plain": [
              "Text(0.5, 1.0, 'All')"
            ]
          },
          "metadata": {},
          "execution_count": 107
        },
        {
          "output_type": "display_data",
          "data": {
            "image/png": "[encoded data removed]",
            "text/plain": [
              "<Figure size 432x288 with 1 Axes>"
            ]
          },
          "metadata": {
            "needs_background": "light"
          }
        }
      ]
    },
    {
      "cell_type": "markdown",
      "metadata": {
        "id": "7e68ef09-51b9-4b4c-8688-1aacb448ede3"
      },
      "source": [
        "#### Задача 14\n",
        "\n",
        "Нарисуйте box plot для данных из задачи 8."
      ],
      "id": "7e68ef09-51b9-4b4c-8688-1aacb448ede3"
    },
    {
      "cell_type": "code",
      "metadata": {
        "id": "b56faa46-61a9-4c07-aaef-2cab36dbeb65",
        "colab": {
          "base_uri": "https://localhost:8080/",
          "height": 406
        },
        "outputId": "642c1597-dd2c-46b4-9c2f-1b3247bc07ee"
      },
      "source": [
        "p = np.array(patient_sex)\n",
        "c = np.array(cholesterol)\n",
        "plt.boxplot(c)"
      ],
      "id": "b56faa46-61a9-4c07-aaef-2cab36dbeb65",
      "execution_count": null,
      "outputs": [
        {
          "output_type": "execute_result",
          "data": {
            "text/plain": [
              "{'boxes': [<matplotlib.lines.Line2D at 0x7f9e123a2f50>],\n",
              " 'caps': [<matplotlib.lines.Line2D at 0x7f9e123a7690>,\n",
              "  <matplotlib.lines.Line2D at 0x7f9e123a42d0>],\n",
              " 'fliers': [<matplotlib.lines.Line2D at 0x7f9e12395f90>],\n",
              " 'means': [],\n",
              " 'medians': [<matplotlib.lines.Line2D at 0x7f9e12331a10>],\n",
              " 'whiskers': [<matplotlib.lines.Line2D at 0x7f9e123a7050>,\n",
              "  <matplotlib.lines.Line2D at 0x7f9e123a7e50>]}"
            ]
          },
          "metadata": {},
          "execution_count": 110
        },
        {
          "output_type": "display_data",
          "data": {
            "image/png": "[encoded data removed]",
            "text/plain": [
              "<Figure size 432x288 with 1 Axes>"
            ]
          },
          "metadata": {
            "needs_background": "light"
          }
        }
      ]
    }
  ]
}