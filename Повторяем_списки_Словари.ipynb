{
  "nbformat": 4,
  "nbformat_minor": 0,
  "metadata": {
    "colab": {
      "provenance": [],
      "collapsed_sections": [
        "t0PrrUPZ5G_k",
        "OZcMn7BM4BJd",
        "7EFmx8588UKe",
        "3mRuW6DN_PMp"
      ],
      "include_colab_link": true
    },
    "kernelspec": {
      "name": "python3",
      "display_name": "Python 3"
    },
    "language_info": {
      "name": "python"
    }
  },
  "cells": [
    {
      "cell_type": "markdown",
      "metadata": {
        "id": "view-in-github",
        "colab_type": "text"
      },
      "source": [
        "<a href=\"https://colab.research.google.com/github/melibrun/python/blob/main/%D0%9F%D0%BE%D0%B2%D1%82%D0%BE%D1%80%D1%8F%D0%B5%D0%BC_%D1%81%D0%BF%D0%B8%D1%81%D0%BA%D0%B8_%D0%A1%D0%BB%D0%BE%D0%B2%D0%B0%D1%80%D0%B8.ipynb\" target=\"_parent\"><img src=\"https://colab.research.google.com/assets/colab-badge.svg\" alt=\"Open In Colab\"/></a>"
      ]
    },
    {
      "cell_type": "markdown",
      "metadata": {
        "id": "Osm2IPyP0mzo"
      },
      "source": [
        "# Списки (повторение)\n",
        "\n",
        "Решим несколько задач на списки и паттерны"
      ]
    },
    {
      "cell_type": "markdown",
      "metadata": {
        "id": "PczVsSlN0m1p"
      },
      "source": [
        "## Задание 1\n",
        "\n",
        "Даны два списка одинаковой длины **a** и **b**. Напишите программу, получающую список **с** путём поэлементного сложения элементов из a и b по следующему правилу:\n",
        "если результат сложения $a_i + b_i$ без остатка делится на 3, то $c_i$ присваивается значение 0, а если нет -- то полученная сумма."
      ]
    },
    {
      "cell_type": "code",
      "metadata": {
        "id": "fEMNbipr0eDE",
        "colab": {
          "base_uri": "https://localhost:8080/"
        },
        "outputId": "8ef1404f-f965-40e2-daaf-26506ae0ab75"
      },
      "source": [
        "a = [5, 8, 12, 25, 144, 56, 778]\n",
        "b = [6, 4, 77, 17, 57, 888, 459]\n",
        "new = []\n",
        "i = 0\n",
        "c = len (a)\n",
        "for i in range (c):\n",
        "  if (a[i]+b[i]) % 3 == 0:\n",
        "    new.append(0)\n",
        "  else:\n",
        "   d = a[i]+b[i]\n",
        "   new.append(d)\n",
        "\n",
        "print(new)\n",
        "\n",
        "\n",
        "\n",
        "# Ответ: [11, 0, 89, 0, 0, 944, 1237]"
      ],
      "execution_count": null,
      "outputs": [
        {
          "output_type": "stream",
          "name": "stdout",
          "text": [
            "[11, 0, 89, 0, 0, 944, 1237]\n"
          ]
        }
      ]
    },
    {
      "cell_type": "markdown",
      "metadata": {
        "id": "Y2Rlacuv0m3p"
      },
      "source": [
        "## Задание 2\n",
        "\n",
        "<a href=\"https://en.wikipedia.org/wiki/Dot_product\">Скалярное произведение</a> двух векторов \n",
        "\n",
        "$\\mathbf a=(a_1,a_2\\dots a_n), \\mathbf b=(b_1,b_2\\dots b_n)$\n",
        "\n",
        "можно определить так: \n",
        "\n",
        "$\\langle\\mathbf a, \\mathbf b\\rangle = a_1b_1 + a_2b_2 + a_3b_3 + \\dots + a_nb_n$\n",
        "\n",
        "Напишите программу, вычисляющую скалярное произведение двух векторов произвольной длины."
      ]
    },
    {
      "cell_type": "code",
      "metadata": {
        "colab": {
          "base_uri": "https://localhost:8080/"
        },
        "id": "cIlfr9RbG3nm",
        "outputId": "160eba7f-4a47-453a-96ae-49d199797eff"
      },
      "source": [
        "a = [2, 3, 5, 6]\n",
        "b = [7, 8, 9, -1]\n",
        "\n",
        "new = []\n",
        "i = 0\n",
        "c = len (a)\n",
        "while i < c:\n",
        "  d = a[i]*b[i]\n",
        "  new.append(d)\n",
        "  i = i + 1\n",
        "\n",
        "for j in range (len(new)):\n",
        "  f = new[j] + f\n",
        "\n",
        "print (f)\n",
        "\n",
        "# Ответ: 77"
      ],
      "execution_count": null,
      "outputs": [
        {
          "output_type": "stream",
          "name": "stdout",
          "text": [
            "77\n"
          ]
        }
      ]
    },
    {
      "cell_type": "markdown",
      "metadata": {
        "id": "NGq_96FxHBm_"
      },
      "source": [
        "## Задание 3\n",
        "\n",
        "В Python <a href=\"https://en.wikipedia.org/wiki/Matrix_(mathematics)\">матрицу</a> можно представить как список списков одинаковой длины.\n",
        "\n",
        "Напишите код, поэлементно умножающий заданную матрицу *M* на скаляр *s*."
      ]
    },
    {
      "cell_type": "code",
      "metadata": {
        "colab": {
          "base_uri": "https://localhost:8080/"
        },
        "id": "5IKtKTygHBux",
        "outputId": "f14cfc04-7cfa-4c47-988e-23c5b0b99e01"
      },
      "source": [
        "M = [[1,2,3],[4,5,6],[7,8,9]]\n",
        "\n",
        "for array in M:\n",
        "    print(*array, sep=\"\\t\")"
      ],
      "execution_count": null,
      "outputs": [
        {
          "output_type": "stream",
          "name": "stdout",
          "text": [
            "1\t2\t3\n",
            "4\t5\t6\n",
            "7\t8\t9\n"
          ]
        }
      ]
    },
    {
      "cell_type": "code",
      "metadata": {
        "colab": {
          "base_uri": "https://localhost:8080/"
        },
        "id": "4BZziwisJJjM",
        "outputId": "a6f11ec0-602a-46d0-addc-ffebc8f5b462"
      },
      "source": [
        "s = -4\n",
        "M = [[1,2,3],[4,5,6],[7,8,9]]\n",
        "N = []\n",
        "for j in range (len(M)):\n",
        " for i in range (len(M)):\n",
        "  t = M[i][j]*s\n",
        "  N.append(t)\n",
        "\n",
        "print (N)"
      ],
      "execution_count": null,
      "outputs": [
        {
          "output_type": "stream",
          "name": "stdout",
          "text": [
            "[-4, -16, -28, -8, -20, -32, -12, -24, -36]\n"
          ]
        }
      ]
    },
    {
      "cell_type": "markdown",
      "metadata": {
        "id": "zUC0dJoNHdls"
      },
      "source": [
        "## Задание 4\n",
        "\n",
        "Дан список паттернов и длинная строка. Осуществите поиск паттернов в строке до первого успеха (сначала первый, если найден -- успех, выводим паттерн и индекс его первого нахождения в строке и прекращаем поиск, если не нашли -- ищем второй паттерн...)\n",
        "\n",
        "Вам может помочь строковый метод *str.find* <a href=\"https://docs.python.org/3/library/stdtypes.html#str.find\">ссылка</a>"
      ]
    },
    {
      "cell_type": "code",
      "metadata": {
        "id": "98LSpJBsHdsh",
        "colab": {
          "base_uri": "https://localhost:8080/"
        },
        "outputId": "6e44520b-cbe6-46e5-b6b1-5baccf319d82"
      },
      "source": [
        "s = \"ggaaaatcaattccaacaaaacaaaacaaacttaaaacaacattacacacataaccacgaaccaaaatcggttaaaacaaaaccactttcgttcattatgtcgaaaatcagaaacgtgtt\"\n",
        "ps = [\"ggggg\", \"xyz5$\", \"cgttca\", \"tTtggG\"]\n",
        "for i in ps:\n",
        "  if i in s: #позволяет найти и в строке\n",
        "    print (i, s.find(i))\n",
        "    break\n",
        "\n",
        "\n",
        "\n",
        "# Ответ: cgttca 89"
      ],
      "execution_count": null,
      "outputs": [
        {
          "output_type": "stream",
          "name": "stdout",
          "text": [
            "cgttca 89\n"
          ]
        }
      ]
    },
    {
      "cell_type": "code",
      "metadata": {
        "colab": {
          "base_uri": "https://localhost:8080/"
        },
        "id": "ADLvrQBS_XL7",
        "outputId": "8c3b3cb3-ea89-4207-c2c1-bb85bda0a7b3"
      },
      "source": [
        "s = \"ggaaaatcaattccaacaaaacaaaacaaacttaaaacaacattacacacataaccacgaaccaaaatcggttaaaacaaaaccactttcgttcattatgtcgaaaatcagaaacgtgtt\"\n",
        "ps = [\"ggggg\", \"xyz5$\", \"cgttca\", \"tTtggG\"]\n",
        "for i in ps:\n",
        "  res = s.find(i)\n",
        "  if res != -1:\n",
        "    print (i, res)\n",
        "    break"
      ],
      "execution_count": null,
      "outputs": [
        {
          "output_type": "stream",
          "name": "stdout",
          "text": [
            "cgttca 89\n"
          ]
        }
      ]
    },
    {
      "cell_type": "markdown",
      "metadata": {
        "id": "9fvshzKH0m5x"
      },
      "source": [
        "# Словари\n",
        "\n",
        "<b>Словарь</b> (dict) – это тип данных, хранящий соответствие одних значений другим (ключам словаря), т.е. отображение множества ключей на множество значений. \n",
        "\n",
        "Похожие структуры в других языках программирования называются <b>хэш-таблицами.</b>\n",
        "\n",
        "![hash-table](https://habrastorage.org/webt/qy/ue/ke/qyueke3baeooxaxzskg8dphcpli.png)"
      ]
    },
    {
      "cell_type": "code",
      "metadata": {
        "id": "6Ybdy-MB1ssU"
      },
      "source": [
        "d = {'GME': 'ToTheMoon', '13': 37, 'tik': ['t', 'o', 'k'], 1: 2}"
      ],
      "execution_count": null,
      "outputs": []
    },
    {
      "cell_type": "code",
      "metadata": {
        "colab": {
          "base_uri": "https://localhost:8080/"
        },
        "id": "JWFxzOVh1sud",
        "outputId": "b39bb971-f328-41bc-9cc9-2db87d31e1db"
      },
      "source": [
        "type(d)"
      ],
      "execution_count": null,
      "outputs": [
        {
          "output_type": "execute_result",
          "data": {
            "text/plain": [
              "dict"
            ]
          },
          "metadata": {},
          "execution_count": 42
        }
      ]
    },
    {
      "cell_type": "code",
      "metadata": {
        "colab": {
          "base_uri": "https://localhost:8080/"
        },
        "id": "Ukg_rFs11sw2",
        "outputId": "fa968bf8-3f6b-4a6f-b680-7d863ddc3d00"
      },
      "source": [
        "d[1]"
      ],
      "execution_count": null,
      "outputs": [
        {
          "output_type": "execute_result",
          "data": {
            "text/plain": [
              "2"
            ]
          },
          "metadata": {},
          "execution_count": 45
        }
      ]
    },
    {
      "cell_type": "code",
      "metadata": {
        "colab": {
          "base_uri": "https://localhost:8080/",
          "height": 163
        },
        "id": "05RtUYL-1sy1",
        "outputId": "0c49b7e7-e22b-4a77-88b5-8d00c482b90f"
      },
      "source": [
        "d['Hi']    # Если обратиться по отсутствующему ключу, будет ошибка."
      ],
      "execution_count": null,
      "outputs": [
        {
          "output_type": "error",
          "ename": "KeyError",
          "evalue": "ignored",
          "traceback": [
            "\u001b[0;31m---------------------------------------------------------------------------\u001b[0m",
            "\u001b[0;31mKeyError\u001b[0m                                  Traceback (most recent call last)",
            "\u001b[0;32m<ipython-input-4-fc67fbfc4bb8>\u001b[0m in \u001b[0;36m<module>\u001b[0;34m()\u001b[0m\n\u001b[0;32m----> 1\u001b[0;31m \u001b[0md\u001b[0m\u001b[0;34m[\u001b[0m\u001b[0;34m'Hi'\u001b[0m\u001b[0;34m]\u001b[0m    \u001b[0;31m# Если обратиться по отсутствующему ключу, будет ошибка.\u001b[0m\u001b[0;34m\u001b[0m\u001b[0;34m\u001b[0m\u001b[0m\n\u001b[0m",
            "\u001b[0;31mKeyError\u001b[0m: 'Hi'"
          ]
        }
      ]
    },
    {
      "cell_type": "code",
      "metadata": {
        "colab": {
          "base_uri": "https://localhost:8080/"
        },
        "id": "IIW1B5lK11YG",
        "outputId": "d55f899f-e762-4a46-e776-e0d591099a26"
      },
      "source": [
        "print(dir(d))"
      ],
      "execution_count": null,
      "outputs": [
        {
          "output_type": "stream",
          "name": "stdout",
          "text": [
            "['__class__', '__contains__', '__delattr__', '__delitem__', '__dir__', '__doc__', '__eq__', '__format__', '__ge__', '__getattribute__', '__getitem__', '__gt__', '__hash__', '__init__', '__init_subclass__', '__iter__', '__le__', '__len__', '__lt__', '__ne__', '__new__', '__reduce__', '__reduce_ex__', '__repr__', '__setattr__', '__setitem__', '__sizeof__', '__str__', '__subclasshook__', 'clear', 'copy', 'fromkeys', 'get', 'items', 'keys', 'pop', 'popitem', 'setdefault', 'update', 'values']\n"
          ]
        }
      ]
    },
    {
      "cell_type": "markdown",
      "metadata": {
        "id": "hYDvtKhs2Rfp"
      },
      "source": [
        "Метод <b>get( )</b> возвращает значение словаря по ключу. При обращении по несуществующему ключу возвращает значение по умолчанию (None, можно задать любое своё, передав методу вторым аргументом)."
      ]
    },
    {
      "cell_type": "code",
      "metadata": {
        "colab": {
          "base_uri": "https://localhost:8080/"
        },
        "id": "kL5y5NNU2LEM",
        "outputId": "2eb4b22d-864e-4c14-aca3-afb4974d23e7"
      },
      "source": [
        "print(d.get('13'))"
      ],
      "execution_count": null,
      "outputs": [
        {
          "output_type": "stream",
          "name": "stdout",
          "text": [
            "37\n"
          ]
        }
      ]
    },
    {
      "cell_type": "code",
      "metadata": {
        "colab": {
          "base_uri": "https://localhost:8080/"
        },
        "id": "aidyDQeh11ac",
        "outputId": "8bc2db75-77a4-485a-ee21-46565698210c"
      },
      "source": [
        "print(d.get('Hi')) "
      ],
      "execution_count": null,
      "outputs": [
        {
          "output_type": "stream",
          "name": "stdout",
          "text": [
            "None\n"
          ]
        }
      ]
    },
    {
      "cell_type": "code",
      "metadata": {
        "colab": {
          "base_uri": "https://localhost:8080/",
          "height": 35
        },
        "id": "g6ZDO5VM11cn",
        "outputId": "7df9284d-2db2-4a2a-d188-a925ce84dd67"
      },
      "source": [
        "d.get('Hi', 'Hello!')"
      ],
      "execution_count": null,
      "outputs": [
        {
          "output_type": "execute_result",
          "data": {
            "application/vnd.google.colaboratory.intrinsic+json": {
              "type": "string"
            },
            "text/plain": [
              "'Hello!'"
            ]
          },
          "metadata": {},
          "execution_count": 7
        }
      ]
    },
    {
      "cell_type": "markdown",
      "metadata": {
        "id": "t0PrrUPZ5G_k"
      },
      "source": [
        "### Множества ключей и значений словаря"
      ]
    },
    {
      "cell_type": "markdown",
      "metadata": {
        "id": "XDIje5cP3FKc"
      },
      "source": [
        "Как получить множество ключей словаря?"
      ]
    },
    {
      "cell_type": "code",
      "metadata": {
        "colab": {
          "base_uri": "https://localhost:8080/"
        },
        "id": "SbXe0DVl11e3",
        "outputId": "7366b2a5-52f1-4fc1-bc56-d748de92c61b"
      },
      "source": [
        "d.keys()"
      ],
      "execution_count": null,
      "outputs": [
        {
          "output_type": "execute_result",
          "data": {
            "text/plain": [
              "dict_keys(['GME', '13', 'tik', 1])"
            ]
          },
          "metadata": {},
          "execution_count": 11
        }
      ]
    },
    {
      "cell_type": "markdown",
      "metadata": {
        "id": "jmzbtUK43JvU"
      },
      "source": [
        "Вроде похоже на список, только какой-то странный..."
      ]
    },
    {
      "cell_type": "code",
      "metadata": {
        "colab": {
          "base_uri": "https://localhost:8080/",
          "height": 163
        },
        "id": "C6X9MmLE11hO",
        "outputId": "1d7198d5-eb45-480a-bcfd-4a7cb6ff3471"
      },
      "source": [
        "d.keys()[0]"
      ],
      "execution_count": null,
      "outputs": [
        {
          "output_type": "error",
          "ename": "TypeError",
          "evalue": "ignored",
          "traceback": [
            "\u001b[0;31m---------------------------------------------------------------------------\u001b[0m",
            "\u001b[0;31mTypeError\u001b[0m                                 Traceback (most recent call last)",
            "\u001b[0;32m<ipython-input-14-8ea809e8b798>\u001b[0m in \u001b[0;36m<module>\u001b[0;34m()\u001b[0m\n\u001b[0;32m----> 1\u001b[0;31m \u001b[0md\u001b[0m\u001b[0;34m.\u001b[0m\u001b[0mkeys\u001b[0m\u001b[0;34m(\u001b[0m\u001b[0;34m)\u001b[0m\u001b[0;34m[\u001b[0m\u001b[0;36m0\u001b[0m\u001b[0;34m]\u001b[0m\u001b[0;34m\u001b[0m\u001b[0;34m\u001b[0m\u001b[0m\n\u001b[0m",
            "\u001b[0;31mTypeError\u001b[0m: 'dict_keys' object is not subscriptable"
          ]
        }
      ]
    },
    {
      "cell_type": "markdown",
      "metadata": {
        "id": "Y6UWwjXN3R9-"
      },
      "source": [
        "Ой! Нет, это не список. "
      ]
    },
    {
      "cell_type": "code",
      "metadata": {
        "colab": {
          "base_uri": "https://localhost:8080/"
        },
        "id": "IqpBeYk-3p_6",
        "outputId": "2554674e-fe17-4da3-f9fc-21d712a8ceac"
      },
      "source": [
        "type(d.keys())"
      ],
      "execution_count": null,
      "outputs": [
        {
          "output_type": "execute_result",
          "data": {
            "text/plain": [
              "dict_keys"
            ]
          },
          "metadata": {},
          "execution_count": 18
        }
      ]
    },
    {
      "cell_type": "code",
      "metadata": {
        "colab": {
          "base_uri": "https://localhost:8080/"
        },
        "id": "ZGNnLKpZ11jp",
        "outputId": "2b25e24a-23b9-4b6f-acb1-29b572c74753"
      },
      "source": [
        "print(dir(d.keys()))"
      ],
      "execution_count": null,
      "outputs": [
        {
          "output_type": "stream",
          "name": "stdout",
          "text": [
            "['__and__', '__class__', '__contains__', '__delattr__', '__dir__', '__doc__', '__eq__', '__format__', '__ge__', '__getattribute__', '__gt__', '__hash__', '__init__', '__init_subclass__', '__iter__', '__le__', '__len__', '__lt__', '__ne__', '__new__', '__or__', '__rand__', '__reduce__', '__reduce_ex__', '__repr__', '__ror__', '__rsub__', '__rxor__', '__setattr__', '__sizeof__', '__str__', '__sub__', '__subclasshook__', '__xor__', 'isdisjoint']\n"
          ]
        }
      ]
    },
    {
      "cell_type": "markdown",
      "metadata": {
        "id": "de7_XE8M3tMq"
      },
      "source": [
        "Точно такая же история со значениями словаря..."
      ]
    },
    {
      "cell_type": "code",
      "metadata": {
        "colab": {
          "base_uri": "https://localhost:8080/"
        },
        "id": "jxBx3A_s3aed",
        "outputId": "c8629c1d-18ac-497a-b43c-281198c5aec5"
      },
      "source": [
        "d.values()"
      ],
      "execution_count": null,
      "outputs": [
        {
          "output_type": "execute_result",
          "data": {
            "text/plain": [
              "dict_values(['ToTheMoon', 37, ['t', 'o', 'k'], 2])"
            ]
          },
          "metadata": {},
          "execution_count": 19
        }
      ]
    },
    {
      "cell_type": "code",
      "metadata": {
        "colab": {
          "base_uri": "https://localhost:8080/"
        },
        "id": "UIlW32kS3agT",
        "outputId": "4666022f-9aaf-45d5-9b61-ac1c94ee0759"
      },
      "source": [
        "type(d.values())"
      ],
      "execution_count": null,
      "outputs": [
        {
          "output_type": "execute_result",
          "data": {
            "text/plain": [
              "dict_values"
            ]
          },
          "metadata": {},
          "execution_count": 20
        }
      ]
    },
    {
      "cell_type": "code",
      "metadata": {
        "colab": {
          "base_uri": "https://localhost:8080/"
        },
        "id": "yLR-uQaO3aiL",
        "outputId": "0ce38169-5e50-4e2c-b8cf-c31d41ca268e"
      },
      "source": [
        "print(dir(d.values()))"
      ],
      "execution_count": null,
      "outputs": [
        {
          "output_type": "stream",
          "name": "stdout",
          "text": [
            "['__class__', '__delattr__', '__dir__', '__doc__', '__eq__', '__format__', '__ge__', '__getattribute__', '__gt__', '__hash__', '__init__', '__init_subclass__', '__iter__', '__le__', '__len__', '__lt__', '__ne__', '__new__', '__reduce__', '__reduce_ex__', '__repr__', '__setattr__', '__sizeof__', '__str__', '__subclasshook__']\n"
          ]
        }
      ]
    },
    {
      "cell_type": "markdown",
      "metadata": {
        "id": "WIDjiVdG33Xy"
      },
      "source": [
        "И с парами ключ-значение!"
      ]
    },
    {
      "cell_type": "code",
      "metadata": {
        "colab": {
          "base_uri": "https://localhost:8080/"
        },
        "id": "jnCQIbM-3akE",
        "outputId": "6d9eea8f-edb2-4d4c-953e-4e8d4ac42c2e"
      },
      "source": [
        "d.items()"
      ],
      "execution_count": null,
      "outputs": [
        {
          "output_type": "execute_result",
          "data": {
            "text/plain": [
              "dict_items([('GME', 'ToTheMoon'), ('13', 37), ('tik', ['t', 'o', 'k']), (1, 2)])"
            ]
          },
          "metadata": {},
          "execution_count": 22
        }
      ]
    },
    {
      "cell_type": "code",
      "metadata": {
        "colab": {
          "base_uri": "https://localhost:8080/"
        },
        "id": "tjoSzNYY3al7",
        "outputId": "22b2cc25-434c-4a42-f42f-f8f0b81f1d77"
      },
      "source": [
        "type(d.items())"
      ],
      "execution_count": null,
      "outputs": [
        {
          "output_type": "execute_result",
          "data": {
            "text/plain": [
              "dict_items"
            ]
          },
          "metadata": {},
          "execution_count": 23
        }
      ]
    },
    {
      "cell_type": "code",
      "metadata": {
        "colab": {
          "base_uri": "https://localhost:8080/"
        },
        "id": "ZgOEdsVd3aoP",
        "outputId": "7a7a0958-978d-4ea8-ff38-2370e801449c"
      },
      "source": [
        "print(dir(d.items()))"
      ],
      "execution_count": null,
      "outputs": [
        {
          "output_type": "stream",
          "name": "stdout",
          "text": [
            "['__and__', '__class__', '__contains__', '__delattr__', '__dir__', '__doc__', '__eq__', '__format__', '__ge__', '__getattribute__', '__gt__', '__hash__', '__init__', '__init_subclass__', '__iter__', '__le__', '__len__', '__lt__', '__ne__', '__new__', '__or__', '__rand__', '__reduce__', '__reduce_ex__', '__repr__', '__ror__', '__rsub__', '__rxor__', '__setattr__', '__sizeof__', '__str__', '__sub__', '__subclasshook__', '__xor__', 'isdisjoint']\n"
          ]
        }
      ]
    },
    {
      "cell_type": "markdown",
      "metadata": {
        "id": "OZcMn7BM4BJd"
      },
      "source": [
        "### Добавление ключей-значений в словарь\n",
        "\n",
        "Для того, чтобы добавить что-то в словарь, достаточно при обращении по ключу (неважно, уже существующему или нет) присвоить какое-либо значение. "
      ]
    },
    {
      "cell_type": "code",
      "metadata": {
        "colab": {
          "base_uri": "https://localhost:8080/"
        },
        "id": "Z1OztrwP4BQE",
        "outputId": "515518a8-6afa-4206-8c44-aa632a953624"
      },
      "source": [
        "d2 = dict()\n",
        "d2['GME'] = 'DiamondHands'\n",
        "d2['Hi'] = 'Hi!'\n",
        "d2"
      ],
      "execution_count": null,
      "outputs": [
        {
          "output_type": "execute_result",
          "data": {
            "text/plain": [
              "{'GME': 'DiamondHands', 'Hi': 'Hi!'}"
            ]
          },
          "metadata": {},
          "execution_count": 6
        }
      ]
    },
    {
      "cell_type": "code",
      "metadata": {
        "colab": {
          "base_uri": "https://localhost:8080/"
        },
        "id": "ewS0k4H24BR8",
        "outputId": "15dd34a1-e37c-4866-866d-0be9e2a153e2"
      },
      "source": [
        "d2[1] = [1, 2., 3]\n",
        "d2"
      ],
      "execution_count": null,
      "outputs": [
        {
          "output_type": "execute_result",
          "data": {
            "text/plain": [
              "{1: [1, 2.0, 3], 'GME': 'DiamondHands', 'Hi': 'Hi!'}"
            ]
          },
          "metadata": {},
          "execution_count": 26
        }
      ]
    },
    {
      "cell_type": "markdown",
      "metadata": {
        "id": "i6hUuuHi7QYO"
      },
      "source": [
        "В качестве ключей могут быть только неизменяемые типы данных."
      ]
    },
    {
      "cell_type": "code",
      "metadata": {
        "colab": {
          "base_uri": "https://localhost:8080/",
          "height": 163
        },
        "id": "vblFMrJu4BUN",
        "outputId": "dbd3ceae-b290-400b-8916-8b50c65b0015"
      },
      "source": [
        "d2[[1, 2., 3]] = 1"
      ],
      "execution_count": null,
      "outputs": [
        {
          "output_type": "error",
          "ename": "TypeError",
          "evalue": "ignored",
          "traceback": [
            "\u001b[0;31m---------------------------------------------------------------------------\u001b[0m",
            "\u001b[0;31mTypeError\u001b[0m                                 Traceback (most recent call last)",
            "\u001b[0;32m<ipython-input-27-d8bcfe21126d>\u001b[0m in \u001b[0;36m<module>\u001b[0;34m()\u001b[0m\n\u001b[0;32m----> 1\u001b[0;31m \u001b[0md2\u001b[0m\u001b[0;34m[\u001b[0m\u001b[0;34m[\u001b[0m\u001b[0;36m1\u001b[0m\u001b[0;34m,\u001b[0m \u001b[0;36m2.\u001b[0m\u001b[0;34m,\u001b[0m \u001b[0;36m3\u001b[0m\u001b[0;34m]\u001b[0m\u001b[0;34m]\u001b[0m \u001b[0;34m=\u001b[0m \u001b[0;36m1\u001b[0m\u001b[0;34m\u001b[0m\u001b[0;34m\u001b[0m\u001b[0m\n\u001b[0m",
            "\u001b[0;31mTypeError\u001b[0m: unhashable type: 'list'"
          ]
        }
      ]
    },
    {
      "cell_type": "markdown",
      "metadata": {
        "id": "gf_jgTW97WBE"
      },
      "source": [
        "Можно объединять словари (с перезаписью значений пересекающихся ключей)."
      ]
    },
    {
      "cell_type": "code",
      "metadata": {
        "colab": {
          "base_uri": "https://localhost:8080/"
        },
        "id": "nzhjN6W-7cMZ",
        "outputId": "e2fb0e90-e6b4-4358-e005-26bb12a6ccc2"
      },
      "source": [
        "d"
      ],
      "execution_count": null,
      "outputs": [
        {
          "output_type": "execute_result",
          "data": {
            "text/plain": [
              "{1: 2, '13': 37, 'GME': 'ToTheMoon', 'tik': ['t', 'o', 'k']}"
            ]
          },
          "metadata": {},
          "execution_count": 30
        }
      ]
    },
    {
      "cell_type": "code",
      "metadata": {
        "colab": {
          "base_uri": "https://localhost:8080/"
        },
        "id": "zCLa_NR74BWF",
        "outputId": "f812c307-eceb-4d10-c964-444fb70ce818"
      },
      "source": [
        "d.update(d2)\n",
        "d "
      ],
      "execution_count": null,
      "outputs": [
        {
          "output_type": "execute_result",
          "data": {
            "text/plain": [
              "{1: [1, 2.0, 3],\n",
              " '13': 37,\n",
              " 'GME': 'DiamondHands',\n",
              " 'Hi': 'Hi!',\n",
              " 'tik': ['t', 'o', 'k']}"
            ]
          },
          "metadata": {},
          "execution_count": 31
        }
      ]
    },
    {
      "cell_type": "markdown",
      "metadata": {
        "id": "gz1l5-Wj7u9L"
      },
      "source": [
        "Можно удалять пары ключ-значение по ключу."
      ]
    },
    {
      "cell_type": "code",
      "metadata": {
        "colab": {
          "base_uri": "https://localhost:8080/"
        },
        "id": "gocIVRQH4BX3",
        "outputId": "b551f6dc-7e36-468f-cf9d-cd9c800c22af"
      },
      "source": [
        "del d['GME']\n",
        "d "
      ],
      "execution_count": null,
      "outputs": [
        {
          "output_type": "execute_result",
          "data": {
            "text/plain": [
              "{1: [1, 2.0, 3], '13': 37, 'Hi': 'Hi!', 'tik': ['t', 'o', 'k']}"
            ]
          },
          "metadata": {},
          "execution_count": 32
        }
      ]
    },
    {
      "cell_type": "markdown",
      "metadata": {
        "id": "W-fU2F0P7yJ0"
      },
      "source": [
        "Красивее вот так:\n",
        "\n",
        "метод **pop( )** удаляет из словаря значение по ключу и возвращает удаленное значение:"
      ]
    },
    {
      "cell_type": "code",
      "metadata": {
        "colab": {
          "base_uri": "https://localhost:8080/"
        },
        "id": "s0xDe6Ki7yPN",
        "outputId": "8f1e8d17-8e05-4d6a-aab1-204990d179ad"
      },
      "source": [
        "d.pop('tik')"
      ],
      "execution_count": null,
      "outputs": [
        {
          "output_type": "execute_result",
          "data": {
            "text/plain": [
              "['t', 'o', 'k']"
            ]
          },
          "metadata": {},
          "execution_count": 33
        }
      ]
    },
    {
      "cell_type": "code",
      "metadata": {
        "colab": {
          "base_uri": "https://localhost:8080/"
        },
        "id": "i-1POWjw7yRV",
        "outputId": "39fc76f0-8272-4d76-e654-4b8e9d7b6a31"
      },
      "source": [
        "d"
      ],
      "execution_count": null,
      "outputs": [
        {
          "output_type": "execute_result",
          "data": {
            "text/plain": [
              "{1: [1, 2.0, 3], '13': 37, 'Hi': 'Hi!'}"
            ]
          },
          "metadata": {},
          "execution_count": 35
        }
      ]
    },
    {
      "cell_type": "markdown",
      "metadata": {
        "id": "Dz9BzHUS8bpE"
      },
      "source": [
        "Попытка удалить значение по несуществующему ключу вызывает ошибку"
      ]
    },
    {
      "cell_type": "code",
      "metadata": {
        "colab": {
          "base_uri": "https://localhost:8080/",
          "height": 163
        },
        "id": "CXo8lnfs7yTV",
        "outputId": "d7cabe5e-f443-4fdb-cdcc-3d4febcc92f4"
      },
      "source": [
        "del d['tik']"
      ],
      "execution_count": null,
      "outputs": [
        {
          "output_type": "error",
          "ename": "KeyError",
          "evalue": "ignored",
          "traceback": [
            "\u001b[0;31m---------------------------------------------------------------------------\u001b[0m",
            "\u001b[0;31mKeyError\u001b[0m                                  Traceback (most recent call last)",
            "\u001b[0;32m<ipython-input-36-d7701d4d7c76>\u001b[0m in \u001b[0;36m<module>\u001b[0;34m()\u001b[0m\n\u001b[0;32m----> 1\u001b[0;31m \u001b[0;32mdel\u001b[0m \u001b[0md\u001b[0m\u001b[0;34m[\u001b[0m\u001b[0;34m'tik'\u001b[0m\u001b[0;34m]\u001b[0m\u001b[0;34m\u001b[0m\u001b[0;34m\u001b[0m\u001b[0m\n\u001b[0m",
            "\u001b[0;31mKeyError\u001b[0m: 'tik'"
          ]
        }
      ]
    },
    {
      "cell_type": "code",
      "metadata": {
        "colab": {
          "base_uri": "https://localhost:8080/",
          "height": 163
        },
        "id": "OX_e-Z8C8KKo",
        "outputId": "006942cb-d2b5-4ae2-a734-050a7e02a59e"
      },
      "source": [
        "d.pop('tik')"
      ],
      "execution_count": null,
      "outputs": [
        {
          "output_type": "error",
          "ename": "KeyError",
          "evalue": "ignored",
          "traceback": [
            "\u001b[0;31m---------------------------------------------------------------------------\u001b[0m",
            "\u001b[0;31mKeyError\u001b[0m                                  Traceback (most recent call last)",
            "\u001b[0;32m<ipython-input-37-dadcf23b9807>\u001b[0m in \u001b[0;36m<module>\u001b[0;34m()\u001b[0m\n\u001b[0;32m----> 1\u001b[0;31m \u001b[0md\u001b[0m\u001b[0;34m.\u001b[0m\u001b[0mpop\u001b[0m\u001b[0;34m(\u001b[0m\u001b[0;34m'tik'\u001b[0m\u001b[0;34m)\u001b[0m\u001b[0;34m\u001b[0m\u001b[0;34m\u001b[0m\u001b[0m\n\u001b[0m",
            "\u001b[0;31mKeyError\u001b[0m: 'tik'"
          ]
        }
      ]
    },
    {
      "cell_type": "code",
      "metadata": {
        "colab": {
          "base_uri": "https://localhost:8080/"
        },
        "id": "cHkHJ7fr8M-T",
        "outputId": "d99b3bb2-03a3-4a17-8369-794819222086"
      },
      "source": [
        "print(d.pop('tik', None))    # Можно сказать, чтобы выводил None, если ключ не найден. "
      ],
      "execution_count": null,
      "outputs": [
        {
          "output_type": "stream",
          "name": "stdout",
          "text": [
            "None\n"
          ]
        }
      ]
    },
    {
      "cell_type": "markdown",
      "metadata": {
        "id": "7EFmx8588UKe"
      },
      "source": [
        "### Итерирование по словарям\n",
        "\n",
        "Выше мы видели, что множества ключей и значений словаря *неупорядочены*, к ним нельзя обратиться по индексу (иными словами, с точки зрения Python они не являются *последовательностями*).\n",
        "\n",
        "Однако они *итерируемы*, то есть любое из этих множеств можно обойти в цикле!"
      ]
    },
    {
      "cell_type": "code",
      "metadata": {
        "id": "PN1DPQlA8UUY"
      },
      "source": [
        "my_dict = {\n",
        "    'gamma': 0.5,\n",
        "    'beta': 2.,\n",
        "    'alpha': 0.4\n",
        "}"
      ],
      "execution_count": null,
      "outputs": []
    },
    {
      "cell_type": "code",
      "metadata": {
        "colab": {
          "base_uri": "https://localhost:8080/"
        },
        "id": "bjMHVxbj8UWj",
        "outputId": "f71e074d-8ccd-4b56-e0a6-50169e3d864e"
      },
      "source": [
        "my_dict.keys()"
      ],
      "execution_count": null,
      "outputs": [
        {
          "output_type": "execute_result",
          "data": {
            "text/plain": [
              "dict_keys(['gamma', 'beta', 'alpha'])"
            ]
          },
          "metadata": {},
          "execution_count": 40
        }
      ]
    },
    {
      "cell_type": "markdown",
      "metadata": {
        "id": "ThIg7NEp-Ias"
      },
      "source": [
        "В новых версиях Python порядок ключей в словаре соотвествует порядку их добавления. "
      ]
    },
    {
      "cell_type": "code",
      "metadata": {
        "colab": {
          "base_uri": "https://localhost:8080/"
        },
        "id": "HQfpQEfm8UYd",
        "outputId": "80bf9bfc-b112-4990-d4ea-8e9bcf541e4c"
      },
      "source": [
        "for key in my_dict:    # По умолчанию итерирование идёт по ключам.\n",
        "    print(key)"
      ],
      "execution_count": null,
      "outputs": [
        {
          "output_type": "stream",
          "name": "stdout",
          "text": [
            "gamma\n",
            "beta\n",
            "alpha\n"
          ]
        }
      ]
    },
    {
      "cell_type": "code",
      "metadata": {
        "colab": {
          "base_uri": "https://localhost:8080/"
        },
        "id": "KvYovf7f-Man",
        "outputId": "c8108301-8d20-4c05-9b15-7c00bcf2ba25"
      },
      "source": [
        "for key in my_dict.keys():    # То же самое, но обращаемся к ключам напрямую\n",
        "    print(key)"
      ],
      "execution_count": null,
      "outputs": [
        {
          "output_type": "stream",
          "name": "stdout",
          "text": [
            "gamma\n",
            "beta\n",
            "alpha\n"
          ]
        }
      ]
    },
    {
      "cell_type": "markdown",
      "metadata": {
        "id": "hyTACp2M-W43"
      },
      "source": [
        "Аналогично со значениями..."
      ]
    },
    {
      "cell_type": "code",
      "metadata": {
        "colab": {
          "base_uri": "https://localhost:8080/"
        },
        "id": "Oi0e2Sl7-XCn",
        "outputId": "2a568696-6535-49c3-e402-0a7fdb96bd9f"
      },
      "source": [
        "my_dict.values()"
      ],
      "execution_count": null,
      "outputs": [
        {
          "output_type": "execute_result",
          "data": {
            "text/plain": [
              "dict_values([0.5, 2.0, 0.4])"
            ]
          },
          "metadata": {},
          "execution_count": 43
        }
      ]
    },
    {
      "cell_type": "code",
      "metadata": {
        "colab": {
          "base_uri": "https://localhost:8080/"
        },
        "id": "HKJNc5Px-XE8",
        "outputId": "34ae7988-e56b-4582-8589-b7f7971546d5"
      },
      "source": [
        "for value in my_dict.values():\n",
        "    print(value)"
      ],
      "execution_count": null,
      "outputs": [
        {
          "output_type": "stream",
          "name": "stdout",
          "text": [
            "0.5\n",
            "2.0\n",
            "0.4\n"
          ]
        }
      ]
    },
    {
      "cell_type": "markdown",
      "metadata": {
        "id": "NEWYRrT9-cL7"
      },
      "source": [
        "И с множеством пар ключ-значение"
      ]
    },
    {
      "cell_type": "code",
      "metadata": {
        "colab": {
          "base_uri": "https://localhost:8080/"
        },
        "id": "GJxGuaLU-gp1",
        "outputId": "26594da8-ca16-454c-c5ae-485b74cd1dcf"
      },
      "source": [
        "my_dict.items()"
      ],
      "execution_count": null,
      "outputs": [
        {
          "output_type": "execute_result",
          "data": {
            "text/plain": [
              "dict_items([('gamma', 0.5), ('beta', 2.0), ('alpha', 0.4)])"
            ]
          },
          "metadata": {},
          "execution_count": 45
        }
      ]
    },
    {
      "cell_type": "code",
      "metadata": {
        "colab": {
          "base_uri": "https://localhost:8080/"
        },
        "id": "SOilpLjI-gsK",
        "outputId": "f1711bbc-1d60-4533-a573-03800284b247"
      },
      "source": [
        "for key, value in my_dict.items():\n",
        "    print(f\"Key: {key}, Value: {value}\")"
      ],
      "execution_count": null,
      "outputs": [
        {
          "output_type": "stream",
          "name": "stdout",
          "text": [
            "Key: gamma, Value: 0.5\n",
            "Key: beta, Value: 2.0\n",
            "Key: alpha, Value: 0.4\n"
          ]
        }
      ]
    },
    {
      "cell_type": "markdown",
      "metadata": {
        "id": "3mRuW6DN_PMp"
      },
      "source": [
        "### Полезные примеры работы со словарями"
      ]
    },
    {
      "cell_type": "code",
      "metadata": {
        "colab": {
          "base_uri": "https://localhost:8080/"
        },
        "id": "Kun0j3Ss_7dI",
        "outputId": "4a6b454b-00dc-4e77-993a-f22edcb5d239"
      },
      "source": [
        "# Объединение словарей через распаковку ** \n",
        "# Поддерживается начиная с версии 3.6\n",
        "\n",
        "dict1 = {'a': 1, 'b': 2}\n",
        "dict2 = {'c': 3, 'd': 4}\n",
        "\n",
        "{**dict1, **dict2}"
      ],
      "execution_count": null,
      "outputs": [
        {
          "output_type": "execute_result",
          "data": {
            "text/plain": [
              "{'a': 1, 'b': 2, 'c': 3, 'd': 4}"
            ]
          },
          "metadata": {},
          "execution_count": 48
        }
      ]
    },
    {
      "cell_type": "code",
      "metadata": {
        "colab": {
          "base_uri": "https://localhost:8080/"
        },
        "id": "MQEOau7R_7fg",
        "outputId": "1b544988-8f0c-4b52-caab-dc60f95f6d9f"
      },
      "source": [
        "# Проверка на присутствие ключа в словаре\n",
        "\n",
        "dict1 = {'a': 1, 'b': 2}\n",
        "\n",
        "'a' in dict1"
      ],
      "execution_count": null,
      "outputs": [
        {
          "output_type": "execute_result",
          "data": {
            "text/plain": [
              "True"
            ]
          },
          "metadata": {},
          "execution_count": 49
        }
      ]
    },
    {
      "cell_type": "code",
      "metadata": {
        "colab": {
          "base_uri": "https://localhost:8080/",
          "height": 35
        },
        "id": "qC6wAezy_7kf",
        "outputId": "ac02dac9-86f8-4ab8-938f-85583618f3d6"
      },
      "source": [
        "# Получаем ключ, соответствующий максимальному значению в словаре\n",
        "\n",
        "stats = {'a':1000, 'b':3000, 'c': 100}\n",
        "\n",
        "max(stats, key=stats.get)"
      ],
      "execution_count": null,
      "outputs": [
        {
          "output_type": "execute_result",
          "data": {
            "application/vnd.google.colaboratory.intrinsic+json": {
              "type": "string"
            },
            "text/plain": [
              "'b'"
            ]
          },
          "metadata": {},
          "execution_count": 50
        }
      ]
    },
    {
      "cell_type": "code",
      "metadata": {
        "colab": {
          "base_uri": "https://localhost:8080/"
        },
        "id": "styc9opg_7mv",
        "outputId": "4160b0ca-a369-427f-8a48-04e5c093ca0a"
      },
      "source": [
        "# А если нам нужен и ключ, и значение?\n",
        "\n",
        "import operator\n",
        "stats = {'a':1000, 'b':3000, 'c': 100}\n",
        "\n",
        "max(stats.items(), key=operator.itemgetter(1))"
      ],
      "execution_count": null,
      "outputs": [
        {
          "output_type": "execute_result",
          "data": {
            "text/plain": [
              "('b', 3000)"
            ]
          },
          "metadata": {},
          "execution_count": 57
        }
      ]
    },
    {
      "cell_type": "markdown",
      "metadata": {
        "id": "O2QByqiKdTvp"
      },
      "source": [
        "## Упражнение\n",
        "\n",
        "Даны два словаря. Удалите из словаря **a** значение по ключу 42, а из словаря **b** -- значения по ключам \"64\" и \"sample text\". Объедините два словаря в результирующий словарь **c**."
      ]
    },
    {
      "cell_type": "code",
      "metadata": {
        "id": "nA9lOGXqdXT2",
        "colab": {
          "base_uri": "https://localhost:8080/"
        },
        "outputId": "c2743407-64ab-4436-81eb-088536ee4f9d"
      },
      "source": [
        "a = {\n",
        "     42: 'ultimate question of life, the universe, and everything',\n",
        "     \"a\": -1,\n",
        "     \"b\": -2,\n",
        "     \"c\": 28,\n",
        "     (3,4): \"set\"\n",
        "}\n",
        "\n",
        "b = {\n",
        "     64: \"ffff\",\n",
        "     'b': 22,\n",
        "     \"64\": 128,\n",
        "     \"sample text\": \"sample text\"\n",
        "}\n",
        "a.pop(42)\n",
        "b.pop(\"sample text\")\n",
        "b.pop(\"64\")\n",
        "del b[64]\n",
        "c = {**a, **b}\n",
        "print(c)\n"
      ],
      "execution_count": null,
      "outputs": [
        {
          "output_type": "stream",
          "name": "stdout",
          "text": [
            "{'a': -1, 'b': 22, 'c': 28, (3, 4): 'set'}\n"
          ]
        }
      ]
    },
    {
      "cell_type": "code",
      "metadata": {
        "id": "-38IyrArdXbq"
      },
      "source": [],
      "execution_count": null,
      "outputs": []
    },
    {
      "cell_type": "markdown",
      "metadata": {
        "id": "t7vfD-0hB7wP"
      },
      "source": [
        "## Задание 5\n",
        "\n",
        "Дана длинная строка *s* и список паттернов *ps*. Для каждого паттерна получите список координат его непересекающихся вхождений в s и соберите их в словарь следующего вида: **{паттерн : список координат}**.\n",
        "\n",
        "Гарантируется, что все паттерны встречаются в строке хотя бы один раз.\n",
        "\n",
        "Вам может помочь строковый <a href=\"https://pythonz.net/references/named/str.startswith/\">метод</a> str.startswith(prefix[, start[, end] ] ), где *start* -- позиция с которой следует начать поиск паттерна *prefix*."
      ]
    },
    {
      "cell_type": "code",
      "metadata": {
        "id": "VWgLi-lEPFnr",
        "colab": {
          "base_uri": "https://localhost:8080/"
        },
        "outputId": "f8cef455-9438-43f8-ccdc-4939c0dc0ce9"
      },
      "source": [
        "s = \"ggaaaatcaattccaacaaaacaaaacaaacttaaaacaacattacacacataaccacgaaccaaaatcggttaaaacaaaaccactttcgttcattatgtcgaaaatcagaaacgtgtt\"\n",
        "ps = [\"gtt\", \"aac\", \"cgttca\", \"aacaa\"]\n",
        "dct = {}\n",
        "for pattern in ps:\n",
        " dct[pattern]=[]\n",
        " for i in range (len(s)):\n",
        "   if s.startswith(pattern,i):\n",
        "    dct[pattern].append(i)\n",
        "    \n",
        "dct\n",
        "  \n",
        "\n",
        "dct"
      ],
      "execution_count": null,
      "outputs": [
        {
          "output_type": "execute_result",
          "data": {
            "text/plain": [
              "{'aac': [14, 19, 24, 28, 35, 38, 52, 59, 75, 80, 112],\n",
              " 'aacaa': [14, 19, 24, 35, 75],\n",
              " 'cgttca': [89],\n",
              " 'gtt': [70, 90, 117]}"
            ]
          },
          "metadata": {},
          "execution_count": 1
        }
      ]
    },
    {
      "cell_type": "markdown",
      "metadata": {
        "id": "9IoeR_U9O3n-"
      },
      "source": [
        "## Задание 6\n",
        "Возьмите словарь, полученный при выполнении задания 5. Замените в нём значения: каждый список координат замените на сумму по этому списку."
      ]
    },
    {
      "cell_type": "code",
      "metadata": {
        "id": "LwVefiqDB77v",
        "colab": {
          "base_uri": "https://localhost:8080/"
        },
        "outputId": "91602be2-caeb-449d-ec40-b88a1e0ea3e8"
      },
      "source": [
        "for i  in dct:\n",
        "  p = 0\n",
        "  for t in dct[i]:\n",
        "    p = p + t\n",
        "  dct[i] = p\n",
        "\n",
        "dct  "
      ],
      "execution_count": null,
      "outputs": [
        {
          "output_type": "execute_result",
          "data": {
            "text/plain": [
              "{'aac': 536, 'aacaa': 167, 'cgttca': 89, 'gtt': 277}"
            ]
          },
          "metadata": {},
          "execution_count": 2
        }
      ]
    },
    {
      "cell_type": "markdown",
      "metadata": {
        "id": "wTLxWsqFO6mn"
      },
      "source": [
        "## Задание 7\n",
        "\n",
        "Возьмите словарь, полученный при выполнении задания 6. Выведите ключ, соотвествующий *минимальному* значению."
      ]
    },
    {
      "cell_type": "code",
      "metadata": {
        "id": "zYp-e_uvB79y",
        "colab": {
          "base_uri": "https://localhost:8080/",
          "height": 35
        },
        "outputId": "d140ccb0-da4a-4aca-9f31-63600cfd6f7d"
      },
      "source": [
        "min(dct, key=dct.get)"
      ],
      "execution_count": null,
      "outputs": [
        {
          "output_type": "execute_result",
          "data": {
            "application/vnd.google.colaboratory.intrinsic+json": {
              "type": "string"
            },
            "text/plain": [
              "'cgttca'"
            ]
          },
          "metadata": {},
          "execution_count": 3
        }
      ]
    },
    {
      "cell_type": "markdown",
      "metadata": {
        "id": "MOvZbedEUHjf"
      },
      "source": [
        "## Задание 8\n",
        "Значениями (но не ключами!) в словаре могут быть другие словари.\n",
        "\n",
        "Дан словарь, содержащий фрагмент полей из записи NCBI GenBank. Выведите координаты и protein_id гена AVX_gp3."
      ]
    },
    {
      "cell_type": "code",
      "metadata": {
        "id": "oZIwGbVCUJN6"
      },
      "source": [
        "dct = {\n",
        "    \"ACCESSION\":\"NC_007408\",\n",
        "    \"VERSION\":\"NC_007408.1\",\n",
        "    \"SOURCE\":\"Alstroemeria virus X\",\n",
        "    \"FEATURES\": {\n",
        "        \"source\": {\n",
        "            \"coords\":(1, 7009),\n",
        "            \"mol_type\": \"genomic RNA\",\n",
        "            \"country\": \"Japan\",\n",
        "            \"organism\": \"Alstroemeria virus X\"\n",
        "        },\n",
        "        \"AVX_gp1\": {\"coords\": (98, 5038),\n",
        "                    \"product\": \"replicase protein\",\n",
        "                    \"protein_id\": \"YP_319827.1\" \n",
        "                    },\n",
        "        \"AVX_gp2\": {\"coords\": (5067, 5771),\n",
        "                    \"product\": \"triple gene block protein 1\",\n",
        "                    \"protein_id\": \"YP_319828.1\"\n",
        "                    },\n",
        "        \"AVX_gp3\": {\"coords\": (5746, 6078),\n",
        "                    \"product\": \"triple gene block protein 2\",\n",
        "                    \"protein_id\": \"YP_319829.1\" \n",
        "                    },\n",
        "        \"AVX_gp4\": {\"coords\": (5903, 6202),\n",
        "                    \"product\": \"triple gene block protein 3\",\n",
        "                    \"protein_id\": \"YP_319830.1\"\n",
        "                    },\n",
        "        \"AVX_gp5\": {\"coords\": (6240, 6932),\n",
        "                    \"product\": \"coat protein\",\n",
        "                    \"protein_id\": \"YP_319831.1\" \n",
        "                    },\n",
        "    }\n",
        "}"
      ],
      "execution_count": null,
      "outputs": []
    },
    {
      "cell_type": "code",
      "metadata": {
        "id": "LugHAad1chTR",
        "colab": {
          "base_uri": "https://localhost:8080/"
        },
        "outputId": "cd879d10-4b17-4440-b826-adda8ebd61e9"
      },
      "source": [
        "dct[\"FEATURES\"][\"AVX_gp3\"][\"coords\"]"
      ],
      "execution_count": null,
      "outputs": [
        {
          "output_type": "execute_result",
          "data": {
            "text/plain": [
              "(5746, 6078)"
            ]
          },
          "metadata": {},
          "execution_count": 5
        }
      ]
    }
  ]
}