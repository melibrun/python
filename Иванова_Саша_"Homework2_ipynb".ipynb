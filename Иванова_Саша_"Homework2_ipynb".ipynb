{
  "nbformat": 4,
  "nbformat_minor": 0,
  "metadata": {
    "kernelspec": {
      "display_name": "Python 3",
      "language": "python",
      "name": "python3"
    },
    "language_info": {
      "codemirror_mode": {
        "name": "ipython",
        "version": 3
      },
      "file_extension": ".py",
      "mimetype": "text/x-python",
      "name": "python",
      "nbconvert_exporter": "python",
      "pygments_lexer": "ipython3",
      "version": "3.7.10"
    },
    "colab": {
      "provenance": [],
      "include_colab_link": true
    }
  },
  "cells": [
    {
      "cell_type": "markdown",
      "metadata": {
        "id": "view-in-github",
        "colab_type": "text"
      },
      "source": [
        "<a href=\"https://colab.research.google.com/github/melibrun/python/blob/main/%D0%98%D0%B2%D0%B0%D0%BD%D0%BE%D0%B2%D0%B0_%D0%A1%D0%B0%D1%88%D0%B0_%22Homework2_ipynb%22.ipynb\" target=\"_parent\"><img src=\"https://colab.research.google.com/assets/colab-badge.svg\" alt=\"Open In Colab\"/></a>"
      ]
    },
    {
      "cell_type": "markdown",
      "metadata": {
        "id": "f3w7_x4xpp_b"
      },
      "source": [
        "# Набор задач по основам Python"
      ]
    },
    {
      "cell_type": "markdown",
      "metadata": {
        "id": "O1vq8wgYpp_j"
      },
      "source": [
        "## Строки. Методы строк. Форматирование выдачи (f-строки). Условные операторы. Циклы."
      ]
    },
    {
      "cell_type": "markdown",
      "metadata": {
        "id": "tMIGIuA9pp_k"
      },
      "source": [
        "#### Задача 1\n",
        "\n",
        "Пользователь вводит две строки: свое имя и род деятельности. Программа выводит эти данные в оформлении для досье (см. пример). Если имя или должность записаны менее чем тремя буквами, вместо этого программа предлагает перепроверить данные.\n",
        "\n",
        "**Пример ввода №1**:\n",
        "\n",
        "    Иннокентий\n",
        "    Актер\n",
        "\n",
        "**Пример вывода №1**:\n",
        "\n",
        "    Имя: Иннокентий\n",
        "    Род деятельности: Актер\n",
        "\n",
        "**Пример ввода №2**:\n",
        "\n",
        "    Жу\n",
        "    Колобок\n",
        "\n",
        "**Пример вывода №2**:\n",
        "\n",
        "    Проверьте правильность данных"
      ]
    },
    {
      "cell_type": "code",
      "metadata": {
        "id": "2xk5eENgpp_m",
        "colab": {
          "base_uri": "https://localhost:8080/"
        },
        "outputId": "7352abc7-6d9a-43fa-9811-b34870117e4c"
      },
      "source": [
        "a = input()\n",
        "b = input()\n",
        "c = len (a)\n",
        "if c < 3:\n",
        "  print (\"Check the date, please\")\n",
        "else:\n",
        "  print (\"Name:\", a, \"\\nProfession:\", b)"
      ],
      "execution_count": null,
      "outputs": [
        {
          "output_type": "stream",
          "name": "stdout",
          "text": [
            "wrfewr\n",
            "wrewr\n",
            "Name: wrfewr \n",
            "Profession: wrewr\n"
          ]
        }
      ]
    },
    {
      "cell_type": "markdown",
      "metadata": {
        "id": "2nBZa-_Ipp_n"
      },
      "source": [
        "#### Задача 2\n",
        "\n",
        "Пользователь вводит строку. Программа выводит ее же, записанную только заглавными буквами.\n",
        "\n",
        "_Подсказка_: Изучите, что делают методы строки `.lower`, `.capitalize` и `.upper` (в Интернете или с помощью `?str.<method>`). Какой из них подойдет для решения этой задачи?\n",
        "\n",
        "**Пример ввода**:\n",
        "\n",
        "    AlphaBetA\n",
        "\n",
        "**Пример вывода**:\n",
        "\n",
        "    ALPHABETA"
      ]
    },
    {
      "cell_type": "code",
      "metadata": {
        "id": "rqTt7033pp_o",
        "colab": {
          "base_uri": "https://localhost:8080/"
        },
        "outputId": "d032883c-6f21-41af-ced5-6e7bf7a3d5ec"
      },
      "source": [
        "# code here\n",
        "a = input()\n",
        "print (a.upper())"
      ],
      "execution_count": null,
      "outputs": [
        {
          "output_type": "stream",
          "name": "stdout",
          "text": [
            "iuhOHefef\n",
            "IUHOHEFEF\n"
          ]
        }
      ]
    },
    {
      "cell_type": "markdown",
      "metadata": {
        "id": "JLCk4cmwpp_p"
      },
      "source": [
        "#### Задача 3\n",
        "\n",
        "Пользователь вводит два числа: рост (в см) и вес (в кг). Программа выводит индекс массы тела человека с точностью до двух знаков после запятой и его интерпретацию по ВОЗ.\n",
        "\n",
        "_Указание_: Найдите таблицу с интерпретацией ИМТ самостоятельно. Приветствуется указание ссылки на страницу с источником информации.\n",
        "\n",
        "**Пример ввода**:\n",
        "\n",
        "    178\n",
        "    55\n",
        "\n",
        "**Пример вывода**:\n",
        "\n",
        "    ИМТ = 17.36\n",
        "    Дефицит массы тела"
      ]
    },
    {
      "cell_type": "markdown",
      "metadata": {
        "id": "Gf9cQjj2pTvw"
      },
      "source": [
        "http://39.rospotrebnadzor.ru/content/indeks-massy-tela-i-risk-razvitiya-zabolevaniy Роспотребнадзор вроде норм источник\n",
        "\n",
        "Менее 18,5 кг/ м2\n",
        "\n",
        "Пониженный вес. Вам надо лучше питаться\n",
        "\n",
        "18,5-24,9 кг/ м2\n",
        "\n",
        "Нормальная масса тела, нет оснований для беспокойства\n",
        "\n",
        "25,0-29,9 кг/ м2\n",
        "\n",
        "Избыточный вес и риск развития атеросклероза, сахарного диабета и других заболеваний\n",
        "\n",
        "30,0-39,9 кг/ м2\n",
        "\n",
        "Выраженный избыточный вес (ожирение), увеличивается риск для здоровья\n",
        "\n",
        "Более 40 кг/ м2\n",
        "\n",
        "Резко выраженный избыточный вес (сверхтучность). Риск для здоровья очень высокий."
      ]
    },
    {
      "cell_type": "code",
      "metadata": {
        "id": "p1Bld5QIK_Xm",
        "colab": {
          "base_uri": "https://localhost:8080/"
        },
        "outputId": "f4572502-aa38-4d3d-bd73-b6353c7dcecb"
      },
      "source": [
        "a = input()\n",
        "b = input()\n",
        "a = int (a)\n",
        "b = int (b)\n",
        "d = a/100\n",
        "c = b / (d**2)\n",
        "if c <= 18.5:\n",
        "  print (\"Пониженный вес\")\n",
        "else:\n",
        "  if c > 18.5 and c <= 24.9:\n",
        "    print (\"Норма\")\n",
        "  else:\n",
        "    if c > 24.9 and c <= 29.9:\n",
        "      print (\"Избыточный вес\")\n",
        "    else:\n",
        "      if c > 29.9 and c <= 39:\n",
        "        print (\"Ожирение\")\n",
        "      else:\n",
        "        if c > 39:\n",
        "         print (\"Тучность\")\n",
        "        else:\n",
        "          print (\"как закончить ifelse без элсе\")\n",
        "\n"
      ],
      "execution_count": null,
      "outputs": [
        {
          "output_type": "stream",
          "name": "stdout",
          "text": [
            "165\n",
            "75\n",
            "Избыточный вес\n"
          ]
        }
      ]
    },
    {
      "cell_type": "code",
      "metadata": {
        "id": "HB8bPO7Mpp_r"
      },
      "source": [
        "# code here"
      ],
      "execution_count": null,
      "outputs": []
    },
    {
      "cell_type": "markdown",
      "metadata": {
        "id": "WM0zxe3ypp_t"
      },
      "source": [
        "#### Задача 4\n",
        "\n",
        "Пользователь вводит текущее время в формате `HH:MM:SS` и время для таймера в формате `HH:MM:SS`. Программа выводит время, в которое должен сработать таймер, в том же формате (`HH:MM:SS`).\n",
        "\n",
        "_Подсказка_: Попробуйте, что делает следующий тип форматирования целого числа: `{my_number:05d}`. Постарайтесь догадаться, как это использовать для решения этой задачи.\n",
        "\n",
        "**Пример ввода**:\n",
        "\n",
        "    23:55:51\n",
        "    00:15:00\n",
        "\n",
        "**Пример вывода**:\n",
        "\n",
        "    00:10:51"
      ]
    },
    {
      "cell_type": "code",
      "metadata": {
        "id": "kLB7x94lssRI"
      },
      "source": [
        "print (f\"{899:05d}\"):"
      ],
      "execution_count": null,
      "outputs": []
    },
    {
      "cell_type": "code",
      "metadata": {
        "id": "FZmt6bPwpp_v",
        "colab": {
          "base_uri": "https://localhost:8080/"
        },
        "outputId": "a978bd17-506a-4a6f-872c-6f7019e6f3e6"
      },
      "source": [
        "# code here\n",
        "a = input()\n",
        "b = input()\n",
        "d = a.split(\":\")\n",
        "e = b.split(\":\")\n",
        "k1 = int (d[0])\n",
        "k2 = int (d[1])\n",
        "k3 = int (d[2])\n",
        "l1 = int (e[0])\n",
        "l2 = int (e[1])\n",
        "l3 = int (e[2])\n",
        "c = (k1 + l1)%24\n",
        "f = (k2 + l2)%60\n",
        "g = (k3 + l3)%60\n",
        "if (k2 + l2) >= 60:\n",
        "  c = c + 1\n",
        "\n",
        "if c == 24:\n",
        "  c = 0\n",
        "\n",
        "if (k3 + l3) >= 60:\n",
        "  f = f+1\n",
        "\n",
        "if f == 60:\n",
        "  f =0\n",
        "\n",
        "if c < 10 or f < 10 or g < 10:\n",
        "  print (f\"{c:02d}:{f:02d}:{g:02d}\")\n",
        "else:\n",
        " print (f\"{c}:{f}:{g}\")\n",
        "\n",
        "\n",
        "\n"
      ],
      "execution_count": null,
      "outputs": [
        {
          "output_type": "stream",
          "name": "stdout",
          "text": [
            "17:00:00\n",
            "03:00:00\n",
            "20:00:00\n"
          ]
        }
      ]
    },
    {
      "cell_type": "markdown",
      "metadata": {
        "id": "s-57W5DEpp_v"
      },
      "source": [
        "#### Задача 5\n",
        "\n",
        "Пользователь вводит строку. Проверьте, является ли она палиндромом.\n",
        "\n",
        "**Пример ввода №1**:\n",
        "\n",
        "    ABBABBA\n",
        "\n",
        "**Пример вывода №1**:\n",
        "\n",
        "    ABBABBA - палиндром\n",
        "\n",
        "**Пример ввода №2**:\n",
        "\n",
        "    XAAXXA\n",
        "\n",
        "**Пример вывода №2**:\n",
        "\n",
        "    XAAXA не палиндром"
      ]
    },
    {
      "cell_type": "code",
      "metadata": {
        "id": "ikjNquaHpp_w",
        "colab": {
          "base_uri": "https://localhost:8080/"
        },
        "outputId": "ae75c174-10e2-47a1-e1d6-f9f724fdfbea"
      },
      "source": [
        "# code here\n",
        "a = input()\n",
        "\n",
        "c = len(a) \n",
        "i = 0\n",
        "for i in range (c):\n",
        "  b = len(a)-1-i\n",
        "  if a[i] == a[b]:\n",
        "    i = i + 1\n",
        "   \n",
        "  else:\n",
        "    break \n",
        "\n",
        "if i == len (a):\n",
        "  print (\"yes\")\n",
        "else:\n",
        "  print (\"no\")"
      ],
      "execution_count": null,
      "outputs": [
        {
          "output_type": "stream",
          "name": "stdout",
          "text": [
            "phjijpefd\n",
            "no\n"
          ]
        }
      ]
    },
    {
      "cell_type": "markdown",
      "metadata": {
        "id": "fqaSTqDTpp_w"
      },
      "source": [
        "#### Задача 6\n",
        "\n",
        "Программа получает на вход три числа:\n",
        "* Начало диапазона,\n",
        "* Конец диапазона (включительный),\n",
        "* Делитель (`n`),\n",
        "* Порядковый номер (`m`)\n",
        "\n",
        "Программа печатает `m`-е число из диапазона, которое делится нацело на `n`.\n",
        "\n",
        "**Пример ввода**:\n",
        "\n",
        "    100\n",
        "    400\n",
        "    200\n",
        "    2\n",
        "\n",
        "**Пример вывода**:\n",
        "\n",
        "    400 - 2-е число из диапазона [100; 400], делящееся нацело на 200. "
      ]
    },
    {
      "cell_type": "code",
      "metadata": {
        "id": "W0ebdOchpp_x",
        "colab": {
          "base_uri": "https://localhost:8080/"
        },
        "outputId": "043bc901-50e7-4045-d1ec-2f82f0d44a01"
      },
      "source": [
        "# code here\n",
        "a = input()\n",
        "b = input()\n",
        "c = input()\n",
        "d = input()\n",
        "a = int (a)\n",
        "b = int (b)\n",
        "c = int (c)\n",
        "d = int (d)\n",
        "list1 = list(range(a, b+1))\n",
        "new = []\n",
        "i = 0\n",
        "while i < (len(list1)):\n",
        " \n",
        "  if list1[i] % c == 0:\n",
        "    new.append(list1[i])\n",
        "  i = i + 1\n",
        "print (f\"{new[d-1]}-{d} число из диапозона [{a}:{b}], делящиеся нацело на {c}.\")"
      ],
      "execution_count": null,
      "outputs": [
        {
          "output_type": "stream",
          "name": "stdout",
          "text": [
            "32\n",
            "45\n",
            "5\n",
            "1\n",
            "35-1 число из диапозона [32:45], делящиеся нацело на 5.\n"
          ]
        }
      ]
    },
    {
      "cell_type": "markdown",
      "metadata": {
        "id": "XBXXNTcEpp_x"
      },
      "source": [
        "#### Задача 7\n",
        "\n",
        "Программа запрашивает числа до тех пор, пока пользователь не напишет `stop`. После этого программа выводит среднее гармоническое всех введенных чисел с точностью до 4 знаков после запятой.\n",
        "\n",
        "_Указание_: Найдите формулу для подсчета среднего гармонического самостоятельно. Задача решаема без использования списков.\n",
        "\n",
        "**Пример ввода**:\n",
        "\n",
        "    1.2\n",
        "    7.12\n",
        "    12.66\n",
        "    22.0\n",
        "\n",
        "**Пример вывода**:\n",
        "\n",
        "    3.6422"
      ]
    },
    {
      "cell_type": "code",
      "metadata": {
        "id": "wj17GVGvpp_x",
        "colab": {
          "base_uri": "https://localhost:8080/"
        },
        "outputId": "6ffdb632-4f8d-436d-b14d-b1a3d5fb0a10"
      },
      "source": [
        "answer = input()\n",
        "new = []\n",
        "while answer != \"stop\":\n",
        "    answer = float(answer)\n",
        "    new.append(answer)\n",
        "    answer = input ()\n",
        "    \n",
        "i = 0\n",
        "a = 0\n",
        "while i < len(new):\n",
        "  a += 1/(new[i])\n",
        "  i = i + 1\n",
        "a = len(new)/a\n",
        "print (a)\n",
        "\n"
      ],
      "execution_count": null,
      "outputs": [
        {
          "output_type": "stream",
          "name": "stdout",
          "text": [
            "7.12\n",
            "22\n",
            "12.66\n",
            "1.2\n",
            "stop\n",
            "3.64223671479484\n"
          ]
        }
      ]
    },
    {
      "cell_type": "markdown",
      "metadata": {
        "id": "MhEtGkQIpp_x"
      },
      "source": [
        "#### Задача 8\n",
        "\n",
        "Программа получает на вход три числа:\n",
        "* Начало диапазона,\n",
        "* Конец диапазона (включительный),\n",
        "* Делитель (`n`),\n",
        "* Порядковый номер (`m`)\n",
        "\n",
        "Программа печатает `m`-е число из диапазона, которое делится нацело на `n`.\n",
        "\n",
        "**Пример ввода**:\n",
        "\n",
        "    100\n",
        "    400\n",
        "    200\n",
        "    2\n",
        "\n",
        "**Пример вывода**:\n",
        "\n",
        "    400 - 2-е число из диапазона [100; 400], делящееся нацело на 200. "
      ]
    },
    {
      "cell_type": "code",
      "metadata": {
        "id": "Ph46SyXcpp_y"
      },
      "source": [
        "# code here"
      ],
      "execution_count": null,
      "outputs": []
    },
    {
      "cell_type": "markdown",
      "metadata": {
        "id": "sVB1viJWpp_y"
      },
      "source": [
        "Метод строки `.split` создает список из строк, разделенных по аргументу, переданному в `.split` (если аргумент не передан, разделение производится по \"пустым\" символам).\n",
        "\n",
        "**Пример использования**:\n",
        "\n",
        "    >>> a = \"Hello, world!\"\n",
        "    >>> a.split()\n",
        "    [\"Hello,\", \"world!\"]\n",
        "    >>> a.split(\"o\")\n",
        "    [\"Hell\", \", w\", \"rld!\"]"
      ]
    },
    {
      "cell_type": "markdown",
      "metadata": {
        "id": "4SWg4uAepp_y"
      },
      "source": [
        "#### Задача 9\n",
        "\n",
        "Пользователь вводит число строк в тексте (целое) и сам текст, содержащий нужное количество строк. Программа считает количество слов во всем тексте.\n",
        "\n",
        "_Допущения_:\n",
        "* Словом можно считать множество символов, ограниченных пробелами. Можно предположить, что отдельно стоящих знаков препинания (как, например, тире) не встречается.\n",
        "* Можно считать, что перенос слов запрещается.\n",
        "\n",
        "В качестве **дополнительного** задания вы можете отказаться от этих предположений.\n",
        "\n",
        "**Пример ввода**:\n",
        "\n",
        "    4\n",
        "    Бесконечно можно смотреть на три вещи:\n",
        "    на горящий огонь,\n",
        "    на бегущую воду\n",
        "    и на собственный код месячной давности.\n",
        "\n",
        "**Пример вывода**:\n",
        "\n",
        "    В тексте 18 слов"
      ]
    },
    {
      "cell_type": "code",
      "metadata": {
        "colab": {
          "base_uri": "https://localhost:8080/"
        },
        "id": "gqut-dVVwhlJ",
        "outputId": "abb5530b-c9a7-44f2-867a-412b55e38ecc"
      },
      "source": [
        "\n",
        "text = input()\n",
        "a = text.split()\n",
        "i = 0\n",
        "new = []\n",
        "while i < (len(a)):\n",
        "    if a[i] == '-' or a[i] == \"=\":\n",
        "     new.append(i)\n",
        "    i = i + 1\n",
        "      \n",
        "print (f\"в тексте {len(a)-len(new)} слов \")\n",
        "\n"
      ],
      "execution_count": null,
      "outputs": [
        {
          "output_type": "stream",
          "name": "stdout",
          "text": [
            "не по-нятно зачем вводить количество =  строк - сначала\n",
            "в тексте 7 слов \n"
          ]
        }
      ]
    },
    {
      "cell_type": "markdown",
      "metadata": {
        "id": "CcXCmKpEpp_y"
      },
      "source": [
        "### Дополнительные задачи\n",
        "\n",
        "(на случай, если вы заскучали)\n",
        "\n",
        "_Подсказка_: Для этих заданий не дается подсказок в этом `.ipynb`-файле, но можно советоваться с преподавателями. Не забывайте скинуть условие задачи вместе с вопросом!"
      ]
    },
    {
      "cell_type": "markdown",
      "metadata": {
        "id": "v0o_h_l5pp_z"
      },
      "source": [
        "#### Задача 10*\n",
        "\n",
        "Напишите программу, которая проверяет правильность вводимой скобочной формулы. В такой формуле каждой открывающей скобке соответствует закрывающая скобка после нее. Все скобки круглые.\n",
        "\n",
        "Пример корректной скобочной формулы:\n",
        "\n",
        "`(()()((())))`\n",
        "\n",
        "Пример некорректной скобочной формулы:\n",
        "\n",
        "`))))()`"
      ]
    },
    {
      "cell_type": "code",
      "metadata": {
        "id": "jDH6tOtvpp_z"
      },
      "source": [],
      "execution_count": null,
      "outputs": []
    },
    {
      "cell_type": "markdown",
      "metadata": {
        "id": "sg35uVWCpp_z"
      },
      "source": [
        "#### Задача 11**\n",
        "\n",
        "Напишите программу, которая проверяет правильность вводимой скобочной формулы. В такой формуле каждой открывающей скобке соответствует закрывающая скобка после нее. Скобки могут быть круглыми, квадратными и фигурными.\n",
        "\n",
        "Пример корректной скобочной формулы:\n",
        "\n",
        "`((){}({[]}))`\n",
        "\n",
        "Пример некорректной скобочной формулы:\n",
        "\n",
        "`{[}]`"
      ]
    },
    {
      "cell_type": "code",
      "metadata": {
        "id": "qhaRS1Wfpp_z",
        "colab": {
          "base_uri": "https://localhost:8080/"
        },
        "outputId": "a233bf88-96ca-4c47-f2e0-09eec11d2e94"
      },
      "source": [
        "h = input()\n",
        "l = len(h)\n",
        "r = []\n",
        "key = 0\n",
        "for i in range (l):\n",
        "    if h[i] == '(' or h[i] == '[' or h[i] == '{':\n",
        "        r.append(0)\n",
        "    else:\n",
        "        t = i - 1\n",
        "        \n",
        "        while t >= 0 :\n",
        "          if h[i] == ')':\n",
        "            if r[t] == 0 :\n",
        "              if h[t] == '(':\n",
        "                r[t] = 1\n",
        "                r.append(1)\n",
        "                break\n",
        "              else:\n",
        "                key = 1\n",
        "                break\n",
        "          if h[i] == ']':\n",
        "            if r[t] == 0 :\n",
        "              if h[t] == '[':\n",
        "                r[t] = 1\n",
        "                r.append(1)\n",
        "                break\n",
        "              else:\n",
        "                key = 1\n",
        "                break\n",
        "          if h[i] == '}':\n",
        "            if r[t] == 0 :\n",
        "              if h[t] == '{':\n",
        "                r[t] = 1\n",
        "                r.append(1)\n",
        "                break\n",
        "              else:\n",
        "                key = 1\n",
        "                break\n",
        "          t = t-1\n",
        "    if key == 1 or len(r) == i:\n",
        "      print(\"vse plokho\")\n",
        "      key = 1\n",
        "      break\n",
        "if key == 0:\n",
        "  print(\"vse khorosho\")"
      ],
      "execution_count": null,
      "outputs": [
        {
          "output_type": "stream",
          "name": "stdout",
          "text": [
            "((()))\n",
            "vse khorosho\n"
          ]
        }
      ]
    },
    {
      "cell_type": "markdown",
      "metadata": {
        "id": "aqBTESNcpp_0"
      },
      "source": [
        "#### Задача 12*\n",
        "\n",
        "Пользователь вводит целое положительное число, программа добавляет в него разделители между тысячными разрядами.\n",
        "\n",
        "**Пример ввода**:\n",
        "\n",
        "    1000000\n",
        "\n",
        "**Пример вывода**:\n",
        "\n",
        "    1,000,000"
      ]
    },
    {
      "cell_type": "code",
      "metadata": {
        "id": "JXPDxlWVpp_0",
        "colab": {
          "base_uri": "https://localhost:8080/",
          "height": 34
        },
        "outputId": "98e576e7-7b30-4a26-a4a1-8d7ce90e1a95"
      },
      "source": [
        "a = 1000000\n",
        "t = \"\"\n",
        "i = 1\n",
        "while int(a / 10) != 0:\n",
        "  t = str(int(a%10)) + t\n",
        "  if i % 3 == 0:\n",
        "    t = \",\" + t\n",
        "  a = a/10\n",
        "  i = i+1\n",
        "t = str(int(a)) + t\n",
        "t"
      ],
      "execution_count": null,
      "outputs": [
        {
          "output_type": "execute_result",
          "data": {
            "application/vnd.google.colaboratory.intrinsic+json": {
              "type": "string"
            },
            "text/plain": [
              "'1,000,000'"
            ]
          },
          "metadata": {},
          "execution_count": 3
        }
      ]
    },
    {
      "cell_type": "markdown",
      "metadata": {
        "id": "sYFghU27pp_0"
      },
      "source": [
        "#### Задача 13*\n",
        "\n",
        "Пользователь вводит целое число и строку. Программа применяет к строке шифр Цезаря со сдивигом, равным числу.\n",
        "\n",
        "**Пример ввода**:\n",
        "\n",
        "    1\n",
        "    ABCDe\n",
        "\n",
        "**Пример вывода**:\n",
        "\n",
        "    BCDEf"
      ]
    },
    {
      "cell_type": "code",
      "metadata": {
        "id": "Zz0jb75cpp_1",
        "colab": {
          "base_uri": "https://localhost:8080/",
          "height": 69
        },
        "outputId": "0727e085-954d-466b-e358-6235cf73ccc6"
      },
      "source": [
        "\n",
        "a = input()\n",
        "a = int(a)\n",
        "b = input()\n",
        "d =\"\"\n",
        "for i in  b:\n",
        "  if ord(i) < ord('Z') and ord(i) > ord('A'):\n",
        "    d = d + chr(ord('A') +(ord(i) - ord(\"A\") + a ) %26 ) \n",
        "  else:\n",
        "    d = d + chr(ord('a') + (ord(i) - ord(\"a\") + a) % 26) \n",
        "d"
      ],
      "execution_count": null,
      "outputs": [
        {
          "name": "stdout",
          "output_type": "stream",
          "text": [
            "1\n",
            "AbcdE\n"
          ]
        },
        {
          "output_type": "execute_result",
          "data": {
            "application/vnd.google.colaboratory.intrinsic+json": {
              "type": "string"
            },
            "text/plain": [
              "'vcdeF'"
            ]
          },
          "metadata": {},
          "execution_count": 2
        }
      ]
    }
  ]
}