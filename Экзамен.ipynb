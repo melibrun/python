{
  "nbformat": 4,
  "nbformat_minor": 0,
  "metadata": {
    "colab": {
      "provenance": [],
      "include_colab_link": true
    },
    "kernelspec": {
      "name": "python3",
      "display_name": "Python 3"
    },
    "language_info": {
      "name": "python"
    }
  },
  "cells": [
    {
      "cell_type": "markdown",
      "metadata": {
        "id": "view-in-github",
        "colab_type": "text"
      },
      "source": [
        "<a href=\"https://colab.research.google.com/github/melibrun/python/blob/main/%D0%AD%D0%BA%D0%B7%D0%B0%D0%BC%D0%B5%D0%BD.ipynb\" target=\"_parent\"><img src=\"https://colab.research.google.com/assets/colab-badge.svg\" alt=\"Open In Colab\"/></a>"
      ]
    },
    {
      "cell_type": "code",
      "execution_count": null,
      "metadata": {
        "id": "JWrIdYeJxFU2"
      },
      "outputs": [],
      "source": []
    },
    {
      "cell_type": "markdown",
      "source": [
        "1. На вход дается строка. Необходимо подсчитать число различных букв в ней и вывести его\n"
      ],
      "metadata": {
        "id": "UNy59BRZ787z"
      }
    },
    {
      "cell_type": "code",
      "source": [
        "a = input()\n",
        "b = a.upper()\n",
        "new = set()\n",
        "for i in range(len(b)):\n",
        "  new.add(b[i])\n",
        "\n",
        "d = len(new)\n",
        "print(d)"
      ],
      "metadata": {
        "colab": {
          "base_uri": "https://localhost:8080/"
        },
        "id": "IFdbny5SQqZe",
        "outputId": "02070d25-ad21-4b84-bf1e-07f093d62692"
      },
      "execution_count": null,
      "outputs": [
        {
          "output_type": "stream",
          "name": "stdout",
          "text": [
            "YCHUYHTHUCHYGCBYHA\n",
            "8\n"
          ]
        }
      ]
    },
    {
      "cell_type": "markdown",
      "source": [
        "2. Напишите программу, которая определяет, является ли переданное ей на вход натуральное число степенью 7\n",
        "\n"
      ],
      "metadata": {
        "id": "VC_tVdmqP6hH"
      }
    },
    {
      "cell_type": "code",
      "source": [
        "n = int(input())\n",
        "i = 1\n",
        "while i < n:\n",
        "    i = i * 7\n",
        "if i == n:\n",
        "    print(\"True\")\n",
        "else:\n",
        "    print(\"False\")\n"
      ],
      "metadata": {
        "colab": {
          "base_uri": "https://localhost:8080/"
        },
        "id": "2kzmFZguRqW1",
        "outputId": "8338d340-c220-4185-c719-d9098ea6ee6f"
      },
      "execution_count": null,
      "outputs": [
        {
          "output_type": "stream",
          "name": "stdout",
          "text": [
            "149\n",
            "False\n"
          ]
        }
      ]
    },
    {
      "cell_type": "markdown",
      "source": [
        "3. Пользователь вводит выборку (несколько числе через пробел). Программу выводит медиану переданных чисел с точностью до 4 знаков после запятой 7\n",
        "\n"
      ],
      "metadata": {
        "id": "y5uvNRNHQAz_"
      }
    },
    {
      "cell_type": "code",
      "source": [
        "a = input()\n",
        "b = a.split()\n",
        "resultb = [float(item) for item in b]\n",
        "b = sorted(resultb)\n",
        "f = len(b)\n",
        "if f % 2 == 1:\n",
        "  novau = (f+1)//2 - 1\n",
        "  c = b[novau]\n",
        "else:\n",
        "  novau1 = f // 2 - 1\n",
        "  c = (b[novau1] + b[novau1+1])/2\n",
        "\n",
        "print(f\"{c:.4f}\")"
      ],
      "metadata": {
        "colab": {
          "base_uri": "https://localhost:8080/"
        },
        "id": "o5IqXAIwSh-z",
        "outputId": "4ccfc85d-a08a-4672-ad7b-f3d652f2d431"
      },
      "execution_count": null,
      "outputs": [
        {
          "output_type": "stream",
          "name": "stdout",
          "text": [
            "1 2 3\n",
            "2.0000\n"
          ]
        }
      ]
    },
    {
      "cell_type": "code",
      "source": [
        " import statistics\n",
        "a = input()\n",
        "b = a.split()\n",
        "resultb = [float(item) for item in b]\n",
        "b = sorted(resultb)\n",
        "v = statistics.median(b)\n",
        "print(f\"{v:.4f}\")"
      ],
      "metadata": {
        "colab": {
          "base_uri": "https://localhost:8080/"
        },
        "id": "TP1TqkKtV3oF",
        "outputId": "0ec5f9f3-d94c-43ca-e7b2-e47321e25057"
      },
      "execution_count": null,
      "outputs": [
        {
          "output_type": "stream",
          "name": "stdout",
          "text": [
            "-1.0000 13.8066 20.6742\n",
            "13.8066\n"
          ]
        }
      ]
    },
    {
      "cell_type": "markdown",
      "source": [
        "4. Посчитайте расстояние Хэмминга между двумя переданными на вход нуклеотидными последовательностями\n",
        "\n"
      ],
      "metadata": {
        "id": "RyBQwarDQBl5"
      }
    },
    {
      "cell_type": "code",
      "source": [
        "a = input().strip()\n",
        "b = input().strip()\n",
        "\n",
        "dist = 0\n",
        "for i in range(len(a)):\n",
        "    if a[i] != b[i]:\n",
        "        dist += 1\n",
        "\n",
        "print(dist)"
      ],
      "metadata": {
        "id": "HNdDJu94ceoI"
      },
      "execution_count": null,
      "outputs": []
    },
    {
      "cell_type": "markdown",
      "source": [
        "5. На вход дается две строки, содержащие слова, разделенные пробелами. Вывести слова, общие между наборами,\n",
        "\n",
        "в алфавитном порядке. Дубликаты удалить"
      ],
      "metadata": {
        "id": "zRpCMzEPQFzs"
      }
    },
    {
      "cell_type": "code",
      "source": [
        "a = input().split()\n",
        "b = input().split()\n",
        "c = []\n",
        "for sl in a:\n",
        "    if sl in b:\n",
        "        c.append(sl)\n",
        "\n",
        "c = sorted(c)\n",
        "for sl in c:\n",
        "    print(f\"{sl} \")"
      ],
      "metadata": {
        "id": "s6RySLPbasdK"
      },
      "execution_count": null,
      "outputs": []
    },
    {
      "cell_type": "markdown",
      "source": [
        "6. Пользователь вводит количество провереннных студенческих работ, а затем оценки студентов. Программа подсчитывает средний балл для каждого студента и средние баллы студеентов в алфавитном порядке, с точностью в 2 знака после запятой"
      ],
      "metadata": {
        "id": "j_lmq7LAQJK0"
      }
    },
    {
      "cell_type": "markdown",
      "source": [
        "Input  \n",
        "5  \n",
        "\n",
        "Andrew 6.818  \n",
        "\n",
        "Tim 5.455  \n",
        "\n",
        "Tim 9.058  \n",
        "\n",
        "Andrew 8.54  \n",
        "\n",
        "Tim 8.0  \n",
        "\n",
        "\n",
        "\t\t\t\t\n",
        "\t\t\t\t\n",
        "\t\t\t\t\n",
        "\t\t\t\t\n",
        "\t\t\t\t\n",
        "\t\t\t\t\n",
        "\t\t\t\n",
        "Output  \n",
        "Andrew 7.68  \n",
        "\n",
        "Tim 7.50  "
      ],
      "metadata": {
        "id": "4qw1dF1LqHaU"
      }
    },
    {
      "cell_type": "code",
      "source": [
        "N = int(input())\n",
        "dt = {}\n",
        "for i in range(N):\n",
        "    k = input().split()\n",
        "    if k[0] in dt:\n",
        "        dt[k[0]].append(float(k[1]))\n",
        "    else:\n",
        "        dt[k[0]] = [float(k[1])]\n",
        "\n",
        "c = sorted(dt)\n",
        "\n",
        "for name in c:\n",
        "    av = 0\n",
        "    for i in dt[name]:\n",
        "        av += i\n",
        "    av /= len(dt[name])\n",
        "    print(f\"{name} {av:.2f}\\n\")"
      ],
      "metadata": {
        "colab": {
          "base_uri": "https://localhost:8080/"
        },
        "id": "voXCjookt9Iv",
        "outputId": "35fd77aa-7dd9-4155-cba6-24de96a87f8f"
      },
      "execution_count": null,
      "outputs": [
        {
          "output_type": "stream",
          "name": "stdout",
          "text": [
            "2\n",
            "An 1\n",
            "An 2\n",
            "An 1.50\n",
            "\n"
          ]
        }
      ]
    },
    {
      "cell_type": "markdown",
      "source": [
        "7. На вход вам дается имя файла в формате .fasta с одной последовательностью.\n",
        "\n",
        "Выведите, оканчивается ли последовательность на стопкодон"
      ],
      "metadata": {
        "id": "fD_cQkuhQMVz"
      }
    },
    {
      "cell_type": "code",
      "source": [
        "infile = input()\n",
        "b = open(infile, \"r\")\n",
        "file = open(\"out.txt\", \"w\") \n",
        "dt = {}\n",
        "\n",
        "for line in b:\n",
        "    line = line.strip() \n",
        "    if line.startswith(\">\"): \n",
        "        fields = line.split() \n",
        "        name = fields[0][1:] \n",
        "\n",
        "        dt[name] = \"\"\n",
        "    else:\n",
        "        dt[name] =  dt[name] + line.strip() \n",
        "\n",
        "\n",
        "for c in dt.values():\n",
        "  if c[-3:] == \"TAA\" or c[-3:] == \"TAG\" or c[-3:] == \"TGA\":\n",
        "    print(\"Yes\")\n",
        "  else:\n",
        "    print(\"No\")\n",
        "\n",
        "\n"
      ],
      "metadata": {
        "id": "-2aNLXLrZbpA"
      },
      "execution_count": null,
      "outputs": []
    },
    {
      "cell_type": "markdown",
      "source": [
        "8. На вход дается имя файла в формате fasta, содержащего последовательности, кодируующие белки.\n",
        "\n",
        "Вывести использование каждого кодона, кодирующего аминокислоту глицин ( в следующем порядке - GGA, GGT, GGC,GGG),\n",
        "\n",
        "Записывать выход в файл out.txt"
      ],
      "metadata": {
        "id": "vfn0k6KTQP4U"
      }
    },
    {
      "cell_type": "code",
      "source": [
        "infile = input()\n",
        "b = open(infile, \"r\")\n",
        "file = open(\"out.txt\", \"w\") \n",
        "dt = {}\n",
        "\n",
        "for line in b:\n",
        "    line = line.strip() \n",
        "    if line.startswith(\">\"): \n",
        "        fields = line.split() \n",
        "        name = fields[0][1:] \n",
        "\n",
        "        dt[name] = \"\"\n",
        "    else:\n",
        "        dt[name] =  dt[name] + line.strip() \n",
        "\n",
        "dt1 = {\"GGA\":0, \"GGT\":0, \"GGC\":0, \"GGG\":0}\n",
        "\n",
        "for c in dt.values():\n",
        "  for i in range(0, len(c), 3):\n",
        "    if c[i:i+3] in dt1:\n",
        "        dt1[c[i:i+3]] += 1\n",
        "\n",
        "\n",
        "\n",
        "file.write(f\"GGA {dt1['GGA']}\\nGGT {dt1['GGT']}\\nGGC {dt1['GGC']}\\nGGG {dt1['GGG']}\")"
      ],
      "metadata": {
        "id": "SLJ2Pu-GYRmP"
      },
      "execution_count": null,
      "outputs": []
    },
    {
      "cell_type": "markdown",
      "source": [
        "9. На вход даны N последовательностей одинаковой длины, состоящие из символов A,C,G,T. Выпишите в порядке возрастания индексы всех таких позиций, в которых буквы всех последовательностей совпадают.\n",
        "\n",
        "Входные данные\n",
        "В начале идёт число N. Затем на отдельных строчках идут N последовательностей одинаковой длины, состоящих из символов A,C,G,T (большие латинские). 2 ⩽ N ⩽ 10**3. Суммарная длина последовательностей не превышает 10**5 символов.\n",
        "\n",
        "Выходные данные\n",
        "Индексы совпадающих позиций в порядке возрастания."
      ],
      "metadata": {
        "id": "bXZXaIKkQT2R"
      }
    },
    {
      "cell_type": "markdown",
      "source": [
        "Input  \n",
        "2  \n",
        "AAA  \n",
        "ACA  \n",
        "Output  \n",
        "0 2  \n",
        "Input  \n",
        "2  \n",
        "ACGTACGT  \n",
        "ACGTTGCA  \n",
        "Output  \n",
        "0 1 2 3  \n",
        "Input  \n",
        "2  \n",
        "ACGT  \n",
        "TGCA  "
      ],
      "metadata": {
        "id": "POsRuc45n_O_"
      }
    },
    {
      "cell_type": "markdown",
      "source": [
        "3\n",
        "ACACACAC\n",
        "ACTACTAC\n",
        "GCGCGCGC"
      ],
      "metadata": {
        "id": "rt3Gdu8GvXF1"
      }
    },
    {
      "cell_type": "code",
      "source": [
        "N = int(input())\n",
        "dt = []\n",
        "for i in range(N):\n",
        "    dt.append(input().strip())\n",
        "\n",
        "for i in range (len(dt[0])):\n",
        "    key = 1\n",
        "    for j in range(N-1):\n",
        "        if dt[j][i] != dt[j+1][i]:\n",
        "            key = 0;\n",
        "    if key == 1:\n",
        "        print(f\"{i} \")"
      ],
      "metadata": {
        "id": "XICcbja2We6S",
        "colab": {
          "base_uri": "https://localhost:8080/"
        },
        "outputId": "bd2902d4-eb46-4ef5-deb2-5ba18c431f03"
      },
      "execution_count": null,
      "outputs": [
        {
          "output_type": "stream",
          "name": "stdout",
          "text": [
            "2\n",
            "Aac\n",
            "Acs\n",
            "0 \n"
          ]
        }
      ]
    },
    {
      "cell_type": "markdown",
      "source": [
        "10. Напишите функцию get_A_indexes(s) (между словами подчеркивание, как принято в питоне), возвращающая массив, состоящий из индексов, на которых стоит буква A (большая, латинская!). Индексы, как это принято в программировании, начинаются с нуля.\n",
        "\n",
        "Входные данные\n",
        "Аргументы функции: s - последовательность, состоящая из символов A,C,G,T\n",
        "\n",
        "Выходные данные\n",
        "Функция возвращает массив, состоящий из индексов буквы А в порядке возрастания. Если буква А в последовательности не встречается, верните пустой массив."
      ],
      "metadata": {
        "id": "7A5FpToxQXMC"
      }
    },
    {
      "cell_type": "code",
      "source": [
        "def get_A_indexes(s):\n",
        "    ansv = []\n",
        "    for i in range(len(s)):\n",
        "        if s[i] == \"A\":\n",
        "            ansv.append(i)\n",
        "    return(ansv)"
      ],
      "metadata": {
        "id": "0OJG2IktUMEx"
      },
      "execution_count": null,
      "outputs": []
    },
    {
      "cell_type": "code",
      "source": [
        "with open( ) as file:\n",
        "    print('Repeat after me:', file.readline().strip())\n",
        "    for line in file:\n",
        "        print(line.strip() + '!')"
      ],
      "metadata": {
        "id": "SPZiLuaZN_yN"
      },
      "execution_count": null,
      "outputs": []
    },
    {
      "cell_type": "code",
      "source": [
        "text1 = \"\"\"header1,header2,header3\n",
        "1,2,3\n",
        "\"\"\"\n",
        "with open(\"file1.txt\", \"w\") as f:\n",
        "    f.write(text1)"
      ],
      "metadata": {
        "id": "tf6CNOg8PSoq"
      },
      "execution_count": null,
      "outputs": []
    },
    {
      "cell_type": "code",
      "source": [
        "dct= []\n",
        "dct1=[]\n",
        "with open('input.csv', 'r') as text:\n",
        "    a = text.readline()\n",
        "    for line in text:\n",
        "        dct.append(str(line))\n",
        "print(dct[0])"
      ],
      "metadata": {
        "id": "2G3xp0MbN_vb"
      },
      "execution_count": null,
      "outputs": []
    },
    {
      "cell_type": "code",
      "source": [],
      "metadata": {
        "id": "5WGjvWx-N_sl"
      },
      "execution_count": null,
      "outputs": []
    },
    {
      "cell_type": "code",
      "source": [],
      "metadata": {
        "id": "-l5DPVuEN_om"
      },
      "execution_count": null,
      "outputs": []
    },
    {
      "cell_type": "code",
      "source": [],
      "metadata": {
        "id": "PtkRwJgUN_X-"
      },
      "execution_count": null,
      "outputs": []
    }
  ]
}