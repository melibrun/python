{
  "nbformat": 4,
  "nbformat_minor": 0,
  "metadata": {
    "colab": {
      "provenance": [],
      "authorship_tag": "ABX9TyMYzUIQlnmflmIj+ET2QRwf",
      "include_colab_link": true
    },
    "kernelspec": {
      "name": "python3",
      "display_name": "Python 3"
    },
    "language_info": {
      "name": "python"
    }
  },
  "cells": [
    {
      "cell_type": "markdown",
      "metadata": {
        "id": "view-in-github",
        "colab_type": "text"
      },
      "source": [
        "<a href=\"https://colab.research.google.com/github/melibrun/python/blob/main/%D0%92%D0%B0%D0%B6%D0%BD%D0%BE%D0%B5.ipynb\" target=\"_parent\"><img src=\"https://colab.research.google.com/assets/colab-badge.svg\" alt=\"Open In Colab\"/></a>"
      ]
    },
    {
      "cell_type": "code",
      "source": [
        "s = 0.876688\n",
        "print(f\"{s:.2f}\")"
      ],
      "metadata": {
        "colab": {
          "base_uri": "https://localhost:8080/"
        },
        "id": "Ef4K7OWo73V7",
        "outputId": "f928308c-3827-4093-d69b-f9de06965a4a"
      },
      "execution_count": null,
      "outputs": [
        {
          "output_type": "stream",
          "name": "stdout",
          "text": [
            "0.88\n"
          ]
        }
      ]
    },
    {
      "cell_type": "code",
      "source": [
        "open with(\"long_seqs.txt\") as long_seqs:\n",
        "open with(\"short_seqs.txt\") as short_seqs:\n",
        "dt = {}\n",
        "for line in long_seqs:\n",
        "  dt[line] = []\n",
        "  if line in short_seqs:\n",
        "    dt[line] = line\n",
        "\n",
        "print(dt)"
      ],
      "metadata": {
        "id": "20dK6CgqkBW6"
      },
      "execution_count": null,
      "outputs": []
    },
    {
      "cell_type": "code",
      "source": [
        "a = input().lower().split()\n",
        "dt = {}\n",
        "for item in a:\n",
        "  dt[item] = 0\n",
        "for item in a:\n",
        "  dt[item] += 1\n",
        "\n",
        "strings = []\n",
        "for key,item in dt.items():\n",
        "    strings.append(\"{} {}\".format(key, item))\n",
        "result = \"\\n\".join(strings)\n",
        "print(result)\n"
      ],
      "metadata": {
        "colab": {
          "base_uri": "https://localhost:8080/"
        },
        "id": "T6xM34t3vZCU",
        "outputId": "667e36b7-e163-42a2-cb5a-3db71ca992f7"
      },
      "execution_count": null,
      "outputs": [
        {
          "output_type": "stream",
          "name": "stdout",
          "text": [
            "A s S a a S d\n",
            "a 3\n",
            "s 3\n",
            "d 1\n"
          ]
        }
      ]
    },
    {
      "cell_type": "code",
      "source": [
        "# put your python code here\n",
        "new = []\n",
        "sum = 0\n",
        "d = int(input())\n",
        "while d != 0:\n",
        "    #d = int(input())\n",
        "    new.append(d)\n",
        "for elem in new:\n",
        "    sum += elem\n",
        "print(sum)\n",
        "\n",
        "\n"
      ],
      "metadata": {
        "colab": {
          "base_uri": "https://localhost:8080/",
          "height": 253
        },
        "id": "pBi7vZck68Zf",
        "outputId": "fc1776ab-e1b4-4f99-be21-5c2406b27edd"
      },
      "execution_count": null,
      "outputs": [
        {
          "name": "stdout",
          "output_type": "stream",
          "text": [
            "1\n"
          ]
        },
        {
          "output_type": "error",
          "ename": "KeyboardInterrupt",
          "evalue": "ignored",
          "traceback": [
            "\u001b[0;31m---------------------------------------------------------------------------\u001b[0m",
            "\u001b[0;31mKeyboardInterrupt\u001b[0m                         Traceback (most recent call last)",
            "\u001b[0;32m<ipython-input-11-300c4a5fe74c>\u001b[0m in \u001b[0;36m<module>\u001b[0;34m()\u001b[0m\n\u001b[1;32m      5\u001b[0m \u001b[0;32mwhile\u001b[0m \u001b[0md\u001b[0m \u001b[0;34m!=\u001b[0m \u001b[0;36m0\u001b[0m\u001b[0;34m:\u001b[0m\u001b[0;34m\u001b[0m\u001b[0;34m\u001b[0m\u001b[0m\n\u001b[1;32m      6\u001b[0m     \u001b[0;31m#d = int(input())\u001b[0m\u001b[0;34m\u001b[0m\u001b[0;34m\u001b[0m\u001b[0;34m\u001b[0m\u001b[0m\n\u001b[0;32m----> 7\u001b[0;31m     \u001b[0mnew\u001b[0m\u001b[0;34m.\u001b[0m\u001b[0mappend\u001b[0m\u001b[0;34m(\u001b[0m\u001b[0md\u001b[0m\u001b[0;34m)\u001b[0m\u001b[0;34m\u001b[0m\u001b[0;34m\u001b[0m\u001b[0m\n\u001b[0m\u001b[1;32m      8\u001b[0m \u001b[0;32mfor\u001b[0m \u001b[0melem\u001b[0m \u001b[0;32min\u001b[0m \u001b[0mnew\u001b[0m\u001b[0;34m:\u001b[0m\u001b[0;34m\u001b[0m\u001b[0;34m\u001b[0m\u001b[0m\n\u001b[1;32m      9\u001b[0m     \u001b[0msum\u001b[0m \u001b[0;34m+=\u001b[0m \u001b[0melem\u001b[0m\u001b[0;34m\u001b[0m\u001b[0;34m\u001b[0m\u001b[0m\n",
            "\u001b[0;31mKeyboardInterrupt\u001b[0m: "
          ]
        }
      ]
    },
    {
      "cell_type": "code",
      "source": [
        "i = 0\n",
        "while i < 5:\n",
        "    print('*')\n",
        "    if i % 2 == 0:\n",
        "        print('**')\n",
        "    if i > 2:\n",
        "        print('***')\n",
        "    i = i + 1"
      ],
      "metadata": {
        "colab": {
          "base_uri": "https://localhost:8080/"
        },
        "id": "792toOF05rAN",
        "outputId": "39ed1c1a-ef9c-4745-87d3-79bc3216cb8b"
      },
      "execution_count": null,
      "outputs": [
        {
          "output_type": "stream",
          "name": "stdout",
          "text": [
            "*\n",
            "**\n",
            "*\n",
            "*\n",
            "**\n",
            "*\n",
            "***\n",
            "*\n",
            "**\n",
            "***\n"
          ]
        }
      ]
    },
    {
      "cell_type": "markdown",
      "source": [
        "На первой строке вводятся числа N и M.\n",
        "\n",
        "На второй строке - максимальное время T\n",
        "\n",
        "Дальше идет N строк, на каждой - номер песни, ее название и ее длительность (в минутах), разделенные табами.\n",
        "\n",
        "Дальше идет M строк с номера песен\n",
        "\n",
        "Необходимо вывести для каждой из M строк имя соответствующей песни до тех пор, пока суммарное время напечатанных песен меньше T\n",
        "\n"
      ],
      "metadata": {
        "id": "fV0Bj_6I5u33"
      }
    },
    {
      "cell_type": "code",
      "execution_count": null,
      "metadata": {
        "colab": {
          "base_uri": "https://localhost:8080/"
        },
        "id": "8ww35RTsJBz-",
        "outputId": "5fd78c76-4b03-4998-a9f7-1e0cecb388c1"
      },
      "outputs": [
        {
          "output_type": "stream",
          "name": "stdout",
          "text": [
            "Ff fF FF ff Gg\n",
            "{'ff': 1, 'gg': 3}\n"
          ]
        }
      ],
      "source": [
        "a = input()\n",
        "a = a.split()\n",
        "n = int(a[0])\n",
        "m = int(a[1])\n",
        "T = int(input())\n",
        "dtn = {}\n",
        "for i in range(n):\n",
        "  N = input()\n",
        "  N = N.split()\n",
        "  dtn[int(N[0])] = [\" \".join(N[1:-1]), int(N[-1])]\n",
        "g = []\n",
        "for i in range(m):\n",
        "  g.append(int(input()))\n",
        "  \n",
        "for M in g:\n",
        "  if T-dtn[M][1] >= 0:\n",
        "    T = T - dtn[M][1]\n",
        "    print(dtn[M][0])\n",
        "  else:\n",
        "    break"
      ]
    },
    {
      "cell_type": "markdown",
      "source": [],
      "metadata": {
        "id": "ibvwwh3ZofGl"
      }
    },
    {
      "cell_type": "markdown",
      "source": [
        "Дана нуклеотидная последовательность.\n",
        "\n",
        "Нуклеотиды могут быть записаны как с малой, так и с большой буквы.\n",
        "\n",
        "Выведите обратную комплементарную последовательность. Выводить только буками в верхнем регистре.\n",
        "\n",
        "Если в последовательности встретилась буква, не соотвветствующая нуклеотиду - напечатать \"error\" и больше ничего."
      ],
      "metadata": {
        "id": "sxMRK8gV50JX"
      }
    },
    {
      "cell_type": "code",
      "source": [
        "a = input()\n",
        "b = a.upper()\n",
        "new = [] \n",
        "dt = {\"A\":\"T\", \"T\":\"A\", \"G\":\"C\", \"C\":\"G\"}\n",
        "cnt = 0\n",
        "for it in range(len(b)):\n",
        "  if b[it] != \"A\" and b[it] != \"T\" and b[it] != \"G\" and b[it] != \"C\":\n",
        "    cnt += 1\n",
        "  for i in dt.keys():\n",
        "     if b[it] == i:\n",
        "      new.append(dt[i])\n",
        "new1 = \"\".join(reversed(new))\n",
        "if cnt == 0:\n",
        " print(new1)\n",
        "else:\n",
        "  print(\"error\")"
      ],
      "metadata": {
        "id": "NIEdLLo954_S"
      },
      "execution_count": null,
      "outputs": []
    },
    {
      "cell_type": "markdown",
      "source": [
        "Сначала дается число N.\n",
        "\n",
        "Далее вводится N кодирующих белок нуклеотидных последовательностей.\n",
        "\n",
        "Вывести для стопкодонов \"TAA\", \"TAG\", \"TGA\" частоту их использования"
      ],
      "metadata": {
        "id": "jH5iEqdn6CAh"
      }
    },
    {
      "cell_type": "code",
      "source": [
        "a = int(input())\n",
        "dt = {\"TAA\":0, \"TAG\":0, \"TGA\":0}\n",
        "new = []\n",
        "for i in range(a):\n",
        "  d = input()\n",
        "  new.append(d)\n",
        "c = \"\".join(new)\n",
        "\n",
        "\n",
        "for item in range(0, len(c), 3):\n",
        "  if c[item:item+3] == \"TAA\":\n",
        "    dt[\"TAA\"] += 1\n",
        "  if c[item:item+3] == \"TAG\":\n",
        "     dt[\"TAG\"] += 1\n",
        "  if c[item:item+3] == \"TGA\":\n",
        "      dt[\"TGA\"] += 1\n",
        "\n",
        "strings = []\n",
        "for key,item in dt.items():\n",
        "    strings.append(\"{} {}\".format(key, item))\n",
        "result = \"\\n\".join(strings)\n",
        "print(result)"
      ],
      "metadata": {
        "id": "873XW4EO6Cq1"
      },
      "execution_count": null,
      "outputs": []
    },
    {
      "cell_type": "markdown",
      "source": [
        "Сначала дается число N.\n",
        "\n",
        "Далее вводится нуклеотидных последовательностей.\n",
        "\n",
        "Вывести уникальные (=избавится от дупликатов), предварительно отсортировав их лексикографически"
      ],
      "metadata": {
        "id": "LrZwQ_sX6UU_"
      }
    },
    {
      "cell_type": "code",
      "source": [
        "N = int(input())\n",
        "new = set()\n",
        "for i in range(N):\n",
        "  d = input()\n",
        "  new.add(d)\n",
        "\n",
        "n = sorted(new)\n",
        "\n",
        "for i in n:\n",
        "  print(i)"
      ],
      "metadata": {
        "id": "ZO5ka_iY6a6X"
      },
      "execution_count": null,
      "outputs": []
    },
    {
      "cell_type": "code",
      "source": [
        "N = int(input())\n",
        "new = []\n",
        "for i in range(N):\n",
        "  d = input()\n",
        "  new.append(d)\n",
        "new2=[]\n",
        "for elem in new:\n",
        "        if elem in new2:\n",
        "            continue\n",
        "        else:\n",
        "            new2.append(elem)\n",
        "new2.sort()\n",
        "new3=\"\\n\".join(new2)\n",
        "print(new3)"
      ],
      "metadata": {
        "id": "tmyOkwwH6gUi"
      },
      "execution_count": null,
      "outputs": []
    },
    {
      "cell_type": "markdown",
      "source": [
        "Пользователь вводит количество провереннных студенческих работ, а затем оценки студентов. Программа подсчитывает средний балл для каждого студента и средние баллы студеентов в алфавитном порядке, с точностью в 2 знака после запятой"
      ],
      "metadata": {
        "id": "MHZOjC0LcQAv"
      }
    },
    {
      "cell_type": "code",
      "source": [
        "a = int(input())\n",
        "new = []\n",
        "for i in range(a):\n",
        "  d = input()\n",
        "  new.append(d)\n",
        "dt={}\n",
        "for elem in new:\n",
        "  elem1 = elem.split()\n",
        "  name = elem1[0]\n",
        "  mark = elem1[-1]\n",
        "  dt[name] = []\n",
        "  dt[name].append(mark)\n",
        "\n",
        "\n",
        "\n",
        "print(dt)\n"
      ],
      "metadata": {
        "colab": {
          "base_uri": "https://localhost:8080/",
          "height": 287
        },
        "id": "gMAPpNUpcQvo",
        "outputId": "1e294969-b4fe-43ce-ed59-41649c3556fd"
      },
      "execution_count": null,
      "outputs": [
        {
          "name": "stdout",
          "output_type": "stream",
          "text": [
            "2\n",
            "an 1\n",
            "an 2\n"
          ]
        },
        {
          "output_type": "error",
          "ename": "IndexError",
          "evalue": "ignored",
          "traceback": [
            "\u001b[0;31m---------------------------------------------------------------------------\u001b[0m",
            "\u001b[0;31mIndexError\u001b[0m                                Traceback (most recent call last)",
            "\u001b[0;32m<ipython-input-28-2affad498e96>\u001b[0m in \u001b[0;36m<module>\u001b[0;34m()\u001b[0m\n\u001b[1;32m     10\u001b[0m   \u001b[0mmark\u001b[0m \u001b[0;34m=\u001b[0m \u001b[0melem1\u001b[0m\u001b[0;34m[\u001b[0m\u001b[0;34m-\u001b[0m\u001b[0;36m1\u001b[0m\u001b[0;34m]\u001b[0m\u001b[0;34m\u001b[0m\u001b[0;34m\u001b[0m\u001b[0m\n\u001b[1;32m     11\u001b[0m   \u001b[0mdt\u001b[0m\u001b[0;34m[\u001b[0m\u001b[0mname\u001b[0m\u001b[0;34m]\u001b[0m \u001b[0;34m=\u001b[0m \u001b[0;34m[\u001b[0m\u001b[0;34m]\u001b[0m\u001b[0;34m\u001b[0m\u001b[0;34m\u001b[0m\u001b[0m\n\u001b[0;32m---> 12\u001b[0;31m   \u001b[0mdt\u001b[0m\u001b[0;34m[\u001b[0m\u001b[0mname\u001b[0m\u001b[0;34m]\u001b[0m\u001b[0;34m[\u001b[0m\u001b[0;36m0\u001b[0m\u001b[0;34m]\u001b[0m\u001b[0;34m.\u001b[0m\u001b[0mappend\u001b[0m\u001b[0;34m(\u001b[0m\u001b[0mmark\u001b[0m\u001b[0;34m)\u001b[0m\u001b[0;34m\u001b[0m\u001b[0;34m\u001b[0m\u001b[0m\n\u001b[0m\u001b[1;32m     13\u001b[0m \u001b[0;34m\u001b[0m\u001b[0m\n\u001b[1;32m     14\u001b[0m \u001b[0;34m\u001b[0m\u001b[0m\n",
            "\u001b[0;31mIndexError\u001b[0m: list index out of range"
          ]
        }
      ]
    },
    {
      "cell_type": "code",
      "source": [
        "n = int(input())\n",
        "dt = {}\n",
        "for i in range(n):\n",
        "    k = input().split()\n",
        "    if k[0] in dt:\n",
        "        dt[k[0]].append(float(k[1]))\n",
        "    else:\n",
        "        dt[k[0]] = [float(k[1])]\n",
        "\n",
        "c = sorted(dt)\n",
        "\n",
        "for name in c:\n",
        "    av = 0\n",
        "    for i in dt[name]:\n",
        "        av += i\n",
        "    av = av/(len(dt[name]))\n",
        "    print(f\"{name} {av:.2f}\\n\")"
      ],
      "metadata": {
        "colab": {
          "base_uri": "https://localhost:8080/"
        },
        "id": "QttsiJZQwkdT",
        "outputId": "7ef4b96c-342d-4855-c69e-051a5502cd57"
      },
      "execution_count": null,
      "outputs": [
        {
          "output_type": "stream",
          "name": "stdout",
          "text": [
            "3\n",
            "an 5\n",
            "an 4\n",
            "an 3\n",
            "an 4.00\n",
            "\n"
          ]
        }
      ]
    },
    {
      "cell_type": "markdown",
      "source": [
        "Сначала дается число N.\n",
        "\n",
        "Далее вводится N записей в формате \"<id> <позиция, где был встречен>\". Позиция - целое положительное число.\n",
        "\n",
        "Необходимо для каждого id вывести отсортированный список позиций, где он был встречен.\n",
        "\n",
        "id выводить в порядке лексикографического возрастания."
      ],
      "metadata": {
        "id": "6NSxTtk46pwx"
      }
    },
    {
      "cell_type": "code",
      "source": [
        "n = int(input())\n",
        "new = []\n",
        "for i in range(n):\n",
        "  d = input()\n",
        "  new.append(d)\n",
        "dt = {}\n",
        "c = []\n",
        "for item in new:\n",
        "  id = item.split()[0]\n",
        "  name = int(item.split()[-1])\n",
        "  if id in dt.keys():\n",
        "    dt[id].append(name)\n",
        "  else:\n",
        "    dt[id] = []\n",
        "    dt[id].append(name)\n",
        "#dt.values() = sorted(dt.values())\n",
        "for i in dt.keys():\n",
        "  dt[i] = sorted(dt[i])\n",
        "end = sorted(dt.items(), key=lambda x: x[0])\n",
        "t = dict(end)\n",
        "strings = []\n",
        "for key,item in t.items():\n",
        "  strings.append(\"{} {}\".format(key, item))\n",
        "result = \"\\n\".join(strings)\n",
        "\n",
        "\n",
        "print(result)"
      ],
      "metadata": {
        "id": "4B0jSEad6tdt"
      },
      "execution_count": null,
      "outputs": []
    },
    {
      "cell_type": "code",
      "source": [
        "infile = input()\n",
        "b = open(infile, \"r\")\n",
        "file = open(\"out.txt\", \"w\") \n",
        "dt = {}\n",
        "\n",
        "for line in b:\n",
        "    line = line.strip() \n",
        "    if line.startswith(\">\"): \n",
        "        fields = line.split() \n",
        "        name = fields[0][1:] \n",
        "\n",
        "        dt[name] = \"\"\n",
        "    else:\n",
        "        dt[name] =  dt[name] + line.strip() \n",
        "\n",
        "dt1 = {\"GGA\":0, \"GGT\":0, \"GGC\":0, \"GGG\":0}\n",
        "\n",
        "for c in dt():\n",
        "  for i in range(0, len(c), 3):\n",
        "    if c[i:i+3] in dt:\n",
        "        dt1[c[i:i+3]] += 1\n",
        "\n",
        "\n",
        "\n",
        "file.write(f\"GGA {dt1['GGA']}ntGGT {dt1['GGT']}\\nGGC {dt1['GGC']}\\nGGG {dt1['GGG']}\")"
      ],
      "metadata": {
        "id": "RmavkrOrir6k"
      },
      "execution_count": null,
      "outputs": []
    },
    {
      "cell_type": "markdown",
      "source": [
        "На вход даны N последовательностей одинаковой длины, состоящие из символов A,C,G,T. Выпишите в порядке возрастания индексы всех таких позиций, в которых буквы всех последовательностей совпадают.\n",
        "\n",
        "Входные данные\n",
        "В начале идёт число N. Затем на отдельных строчках идут N последовательностей одинаковой длины, состоящих из символов A,C,G,T (большие латинские). 2 ⩽ N ⩽ 10**3. Суммарная длина последовательностей не превышает 10**5 символов.\n",
        "\n",
        "Выходные данные\n",
        "Индексы совпадающих позиций в порядке возрастания."
      ],
      "metadata": {
        "id": "MBl1x-2vlEJz"
      }
    },
    {
      "cell_type": "code",
      "source": [
        "n = int(input())\n",
        "new = []\n",
        "for i in range(n):\n",
        "  d = input()\n",
        "  new.append(d)\n",
        "\n",
        "new1 = []\n",
        "for elem in range(len(d)):\n",
        " for i in range(len(elem)):\n",
        "    if elem[i] != [i]:\n",
        "      new1.append(i)\n",
        "print(new1)\n"
      ],
      "metadata": {
        "colab": {
          "base_uri": "https://localhost:8080/",
          "height": 287
        },
        "id": "3Mx92J-9lFIb",
        "outputId": "f8b764fb-7e86-41c9-83d7-04415f96a84e"
      },
      "execution_count": null,
      "outputs": [
        {
          "name": "stdout",
          "output_type": "stream",
          "text": [
            "2\n",
            "aaa\n",
            "aca\n"
          ]
        },
        {
          "output_type": "error",
          "ename": "TypeError",
          "evalue": "ignored",
          "traceback": [
            "\u001b[0;31m---------------------------------------------------------------------------\u001b[0m",
            "\u001b[0;31mTypeError\u001b[0m                                 Traceback (most recent call last)",
            "\u001b[0;32m<ipython-input-8-9264938e7b95>\u001b[0m in \u001b[0;36m<module>\u001b[0;34m()\u001b[0m\n\u001b[1;32m      5\u001b[0m   \u001b[0mnew\u001b[0m\u001b[0;34m.\u001b[0m\u001b[0mappend\u001b[0m\u001b[0;34m(\u001b[0m\u001b[0md\u001b[0m\u001b[0;34m)\u001b[0m\u001b[0;34m\u001b[0m\u001b[0;34m\u001b[0m\u001b[0m\n\u001b[1;32m      6\u001b[0m \u001b[0mnew1\u001b[0m \u001b[0;34m=\u001b[0m \u001b[0;34m[\u001b[0m\u001b[0;34m]\u001b[0m\u001b[0;34m\u001b[0m\u001b[0;34m\u001b[0m\u001b[0m\n\u001b[0;32m----> 7\u001b[0;31m \u001b[0;32mfor\u001b[0m \u001b[0mi\u001b[0m \u001b[0;32min\u001b[0m \u001b[0mrange\u001b[0m\u001b[0;34m(\u001b[0m\u001b[0mlen\u001b[0m\u001b[0;34m(\u001b[0m\u001b[0ma\u001b[0m\u001b[0;34m)\u001b[0m\u001b[0;34m)\u001b[0m\u001b[0;34m:\u001b[0m\u001b[0;34m\u001b[0m\u001b[0;34m\u001b[0m\u001b[0m\n\u001b[0m\u001b[1;32m      8\u001b[0m     \u001b[0;32mif\u001b[0m \u001b[0ma\u001b[0m\u001b[0;34m[\u001b[0m\u001b[0mi\u001b[0m\u001b[0;34m]\u001b[0m \u001b[0;34m!=\u001b[0m \u001b[0mb\u001b[0m\u001b[0;34m[\u001b[0m\u001b[0mi\u001b[0m\u001b[0;34m]\u001b[0m\u001b[0;34m:\u001b[0m\u001b[0;34m\u001b[0m\u001b[0;34m\u001b[0m\u001b[0m\n\u001b[1;32m      9\u001b[0m       \u001b[0mnew1\u001b[0m\u001b[0;34m.\u001b[0m\u001b[0mappend\u001b[0m\u001b[0;34m(\u001b[0m\u001b[0mi\u001b[0m\u001b[0;34m)\u001b[0m\u001b[0;34m\u001b[0m\u001b[0;34m\u001b[0m\u001b[0m\n",
            "\u001b[0;31mTypeError\u001b[0m: object of type 'int' has no len()"
          ]
        }
      ]
    },
    {
      "cell_type": "code",
      "source": [
        "n = int(input())\n",
        "new = []\n",
        "for i in range(n):\n",
        "  d = input()\n",
        "  new.append(d)\n",
        "new1 = []\n",
        "for i in range (len(new[0])):\n",
        "    for j in range(n-1):\n",
        "        if new[j][i] == new[j+1][i]:\n",
        "            new1.append(i);\n",
        "new1 = set(new1)\n",
        "print(\" \".join(map(str,new1)))"
      ],
      "metadata": {
        "colab": {
          "base_uri": "https://localhost:8080/"
        },
        "id": "MdUss1DSnS2B",
        "outputId": "e5a3a16d-1255-45a7-ab85-4cedeb3fa37b"
      },
      "execution_count": null,
      "outputs": [
        {
          "output_type": "stream",
          "name": "stdout",
          "text": [
            "3\n",
            "ACACACAC\n",
            "ACTACTAC\n",
            "GCGCGCGC\n",
            "0 1 6 7\n"
          ]
        }
      ]
    },
    {
      "cell_type": "code",
      "source": [
        "#ну вроде работает\n",
        "n = int(input())\n",
        "new = []\n",
        "for i in range(n):\n",
        "  d = input()\n",
        "  new.append(d)\n",
        "new1 = []\n",
        "for i in range (len(new[0])):\n",
        "    key = 1\n",
        "    for j in range(n-1):\n",
        "        if new[j][i] != new[j+1][i]:\n",
        "            key = 0;\n",
        "    if key == 1:\n",
        "        new1.append(i)\n",
        "\n",
        "print(\" \".join(map(str,new1)))"
      ],
      "metadata": {
        "colab": {
          "base_uri": "https://localhost:8080/",
          "height": 537
        },
        "id": "nCpDBRt6nJM2",
        "outputId": "893d0d4b-c64d-4c36-c80c-72f4537f9caf"
      },
      "execution_count": null,
      "outputs": [
        {
          "output_type": "error",
          "ename": "KeyboardInterrupt",
          "evalue": "ignored",
          "traceback": [
            "\u001b[0;31m---------------------------------------------------------------------------\u001b[0m",
            "\u001b[0;31mKeyboardInterrupt\u001b[0m                         Traceback (most recent call last)",
            "\u001b[0;32m/usr/local/lib/python3.7/dist-packages/ipykernel/kernelbase.py\u001b[0m in \u001b[0;36m_input_request\u001b[0;34m(self, prompt, ident, parent, password)\u001b[0m\n\u001b[1;32m    728\u001b[0m             \u001b[0;32mtry\u001b[0m\u001b[0;34m:\u001b[0m\u001b[0;34m\u001b[0m\u001b[0;34m\u001b[0m\u001b[0m\n\u001b[0;32m--> 729\u001b[0;31m                 \u001b[0mident\u001b[0m\u001b[0;34m,\u001b[0m \u001b[0mreply\u001b[0m \u001b[0;34m=\u001b[0m \u001b[0mself\u001b[0m\u001b[0;34m.\u001b[0m\u001b[0msession\u001b[0m\u001b[0;34m.\u001b[0m\u001b[0mrecv\u001b[0m\u001b[0;34m(\u001b[0m\u001b[0mself\u001b[0m\u001b[0;34m.\u001b[0m\u001b[0mstdin_socket\u001b[0m\u001b[0;34m,\u001b[0m \u001b[0;36m0\u001b[0m\u001b[0;34m)\u001b[0m\u001b[0;34m\u001b[0m\u001b[0;34m\u001b[0m\u001b[0m\n\u001b[0m\u001b[1;32m    730\u001b[0m             \u001b[0;32mexcept\u001b[0m \u001b[0mException\u001b[0m\u001b[0;34m:\u001b[0m\u001b[0;34m\u001b[0m\u001b[0;34m\u001b[0m\u001b[0m\n",
            "\u001b[0;32m/usr/local/lib/python3.7/dist-packages/jupyter_client/session.py\u001b[0m in \u001b[0;36mrecv\u001b[0;34m(self, socket, mode, content, copy)\u001b[0m\n\u001b[1;32m    802\u001b[0m         \u001b[0;32mtry\u001b[0m\u001b[0;34m:\u001b[0m\u001b[0;34m\u001b[0m\u001b[0;34m\u001b[0m\u001b[0m\n\u001b[0;32m--> 803\u001b[0;31m             \u001b[0mmsg_list\u001b[0m \u001b[0;34m=\u001b[0m \u001b[0msocket\u001b[0m\u001b[0;34m.\u001b[0m\u001b[0mrecv_multipart\u001b[0m\u001b[0;34m(\u001b[0m\u001b[0mmode\u001b[0m\u001b[0;34m,\u001b[0m \u001b[0mcopy\u001b[0m\u001b[0;34m=\u001b[0m\u001b[0mcopy\u001b[0m\u001b[0;34m)\u001b[0m\u001b[0;34m\u001b[0m\u001b[0;34m\u001b[0m\u001b[0m\n\u001b[0m\u001b[1;32m    804\u001b[0m         \u001b[0;32mexcept\u001b[0m \u001b[0mzmq\u001b[0m\u001b[0;34m.\u001b[0m\u001b[0mZMQError\u001b[0m \u001b[0;32mas\u001b[0m \u001b[0me\u001b[0m\u001b[0;34m:\u001b[0m\u001b[0;34m\u001b[0m\u001b[0;34m\u001b[0m\u001b[0m\n",
            "\u001b[0;32m/usr/local/lib/python3.7/dist-packages/zmq/sugar/socket.py\u001b[0m in \u001b[0;36mrecv_multipart\u001b[0;34m(self, flags, copy, track)\u001b[0m\n\u001b[1;32m    624\u001b[0m         \"\"\"\n\u001b[0;32m--> 625\u001b[0;31m         \u001b[0mparts\u001b[0m \u001b[0;34m=\u001b[0m \u001b[0;34m[\u001b[0m\u001b[0mself\u001b[0m\u001b[0;34m.\u001b[0m\u001b[0mrecv\u001b[0m\u001b[0;34m(\u001b[0m\u001b[0mflags\u001b[0m\u001b[0;34m,\u001b[0m \u001b[0mcopy\u001b[0m\u001b[0;34m=\u001b[0m\u001b[0mcopy\u001b[0m\u001b[0;34m,\u001b[0m \u001b[0mtrack\u001b[0m\u001b[0;34m=\u001b[0m\u001b[0mtrack\u001b[0m\u001b[0;34m)\u001b[0m\u001b[0;34m]\u001b[0m\u001b[0;34m\u001b[0m\u001b[0;34m\u001b[0m\u001b[0m\n\u001b[0m\u001b[1;32m    626\u001b[0m         \u001b[0;31m# have first part already, only loop while more to receive\u001b[0m\u001b[0;34m\u001b[0m\u001b[0;34m\u001b[0m\u001b[0;34m\u001b[0m\u001b[0m\n",
            "\u001b[0;32mzmq/backend/cython/socket.pyx\u001b[0m in \u001b[0;36mzmq.backend.cython.socket.Socket.recv\u001b[0;34m()\u001b[0m\n",
            "\u001b[0;32mzmq/backend/cython/socket.pyx\u001b[0m in \u001b[0;36mzmq.backend.cython.socket.Socket.recv\u001b[0;34m()\u001b[0m\n",
            "\u001b[0;32mzmq/backend/cython/socket.pyx\u001b[0m in \u001b[0;36mzmq.backend.cython.socket._recv_copy\u001b[0;34m()\u001b[0m\n",
            "\u001b[0;32m/usr/local/lib/python3.7/dist-packages/zmq/backend/cython/checkrc.pxd\u001b[0m in \u001b[0;36mzmq.backend.cython.checkrc._check_rc\u001b[0;34m()\u001b[0m\n",
            "\u001b[0;31mKeyboardInterrupt\u001b[0m: ",
            "\nDuring handling of the above exception, another exception occurred:\n",
            "\u001b[0;31mKeyboardInterrupt\u001b[0m                         Traceback (most recent call last)",
            "\u001b[0;32m<ipython-input-27-b31e4df95781>\u001b[0m in \u001b[0;36m<module>\u001b[0;34m()\u001b[0m\n\u001b[1;32m      1\u001b[0m \u001b[0;31m#ну вроде работает\u001b[0m\u001b[0;34m\u001b[0m\u001b[0;34m\u001b[0m\u001b[0;34m\u001b[0m\u001b[0m\n\u001b[0;32m----> 2\u001b[0;31m \u001b[0mn\u001b[0m \u001b[0;34m=\u001b[0m \u001b[0mint\u001b[0m\u001b[0;34m(\u001b[0m\u001b[0minput\u001b[0m\u001b[0;34m(\u001b[0m\u001b[0;34m)\u001b[0m\u001b[0;34m)\u001b[0m\u001b[0;34m\u001b[0m\u001b[0;34m\u001b[0m\u001b[0m\n\u001b[0m\u001b[1;32m      3\u001b[0m \u001b[0mnew\u001b[0m \u001b[0;34m=\u001b[0m \u001b[0;34m[\u001b[0m\u001b[0;34m]\u001b[0m\u001b[0;34m\u001b[0m\u001b[0;34m\u001b[0m\u001b[0m\n\u001b[1;32m      4\u001b[0m \u001b[0;32mfor\u001b[0m \u001b[0mi\u001b[0m \u001b[0;32min\u001b[0m \u001b[0mrange\u001b[0m\u001b[0;34m(\u001b[0m\u001b[0mn\u001b[0m\u001b[0;34m)\u001b[0m\u001b[0;34m:\u001b[0m\u001b[0;34m\u001b[0m\u001b[0;34m\u001b[0m\u001b[0m\n\u001b[1;32m      5\u001b[0m   \u001b[0md\u001b[0m \u001b[0;34m=\u001b[0m \u001b[0minput\u001b[0m\u001b[0;34m(\u001b[0m\u001b[0;34m)\u001b[0m\u001b[0;34m\u001b[0m\u001b[0;34m\u001b[0m\u001b[0m\n",
            "\u001b[0;32m/usr/local/lib/python3.7/dist-packages/ipykernel/kernelbase.py\u001b[0m in \u001b[0;36mraw_input\u001b[0;34m(self, prompt)\u001b[0m\n\u001b[1;32m    702\u001b[0m             \u001b[0mself\u001b[0m\u001b[0;34m.\u001b[0m\u001b[0m_parent_ident\u001b[0m\u001b[0;34m,\u001b[0m\u001b[0;34m\u001b[0m\u001b[0;34m\u001b[0m\u001b[0m\n\u001b[1;32m    703\u001b[0m             \u001b[0mself\u001b[0m\u001b[0;34m.\u001b[0m\u001b[0m_parent_header\u001b[0m\u001b[0;34m,\u001b[0m\u001b[0;34m\u001b[0m\u001b[0;34m\u001b[0m\u001b[0m\n\u001b[0;32m--> 704\u001b[0;31m             \u001b[0mpassword\u001b[0m\u001b[0;34m=\u001b[0m\u001b[0;32mFalse\u001b[0m\u001b[0;34m,\u001b[0m\u001b[0;34m\u001b[0m\u001b[0;34m\u001b[0m\u001b[0m\n\u001b[0m\u001b[1;32m    705\u001b[0m         )\n\u001b[1;32m    706\u001b[0m \u001b[0;34m\u001b[0m\u001b[0m\n",
            "\u001b[0;32m/usr/local/lib/python3.7/dist-packages/ipykernel/kernelbase.py\u001b[0m in \u001b[0;36m_input_request\u001b[0;34m(self, prompt, ident, parent, password)\u001b[0m\n\u001b[1;32m    732\u001b[0m             \u001b[0;32mexcept\u001b[0m \u001b[0mKeyboardInterrupt\u001b[0m\u001b[0;34m:\u001b[0m\u001b[0;34m\u001b[0m\u001b[0;34m\u001b[0m\u001b[0m\n\u001b[1;32m    733\u001b[0m                 \u001b[0;31m# re-raise KeyboardInterrupt, to truncate traceback\u001b[0m\u001b[0;34m\u001b[0m\u001b[0;34m\u001b[0m\u001b[0;34m\u001b[0m\u001b[0m\n\u001b[0;32m--> 734\u001b[0;31m                 \u001b[0;32mraise\u001b[0m \u001b[0mKeyboardInterrupt\u001b[0m\u001b[0;34m\u001b[0m\u001b[0;34m\u001b[0m\u001b[0m\n\u001b[0m\u001b[1;32m    735\u001b[0m             \u001b[0;32melse\u001b[0m\u001b[0;34m:\u001b[0m\u001b[0;34m\u001b[0m\u001b[0;34m\u001b[0m\u001b[0m\n\u001b[1;32m    736\u001b[0m                 \u001b[0;32mbreak\u001b[0m\u001b[0;34m\u001b[0m\u001b[0;34m\u001b[0m\u001b[0m\n",
            "\u001b[0;31mKeyboardInterrupt\u001b[0m: "
          ]
        }
      ]
    },
    {
      "cell_type": "code",
      "source": [
        "N = int(input())\n",
        "dt = {}\n",
        "for i in range(N):\n",
        "    k = input.split()\n",
        "    if k[0] in dt:\n",
        "        dt[k[0]].append(float(k[1]))\n",
        "    else:\n",
        "        dt[k[0]] = [k[1]]\n",
        "\n",
        "c = sorted(dt)\n",
        "\n",
        "for name in c:\n",
        "    av = 0\n",
        "    for i in range(len(dt[c])):\n",
        "        av += dt[c][i]\n",
        "    av /= len(dt[c])\n",
        "    print(f\"{c} {av:.2f}\\n\")"
      ],
      "metadata": {
        "id": "f4gQQWT2vdwK"
      },
      "execution_count": null,
      "outputs": []
    },
    {
      "cell_type": "markdown",
      "source": [],
      "metadata": {
        "id": "0ThTWIm-6ptE"
      }
    }
  ]
}