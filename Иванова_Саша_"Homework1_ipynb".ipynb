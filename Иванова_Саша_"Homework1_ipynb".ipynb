{
  "nbformat": 4,
  "nbformat_minor": 0,
  "metadata": {
    "kernelspec": {
      "display_name": "Python 3",
      "language": "python",
      "name": "python3"
    },
    "language_info": {
      "codemirror_mode": {
        "name": "ipython",
        "version": 3
      },
      "file_extension": ".py",
      "mimetype": "text/x-python",
      "name": "python",
      "nbconvert_exporter": "python",
      "pygments_lexer": "ipython3",
      "version": "3.7.10"
    },
    "colab": {
      "provenance": [],
      "include_colab_link": true
    }
  },
  "cells": [
    {
      "cell_type": "markdown",
      "metadata": {
        "id": "view-in-github",
        "colab_type": "text"
      },
      "source": [
        "<a href=\"https://colab.research.google.com/github/melibrun/python/blob/main/%D0%98%D0%B2%D0%B0%D0%BD%D0%BE%D0%B2%D0%B0_%D0%A1%D0%B0%D1%88%D0%B0_%22Homework1_ipynb%22.ipynb\" target=\"_parent\"><img src=\"https://colab.research.google.com/assets/colab-badge.svg\" alt=\"Open In Colab\"/></a>"
      ]
    },
    {
      "cell_type": "markdown",
      "metadata": {
        "id": "F81y5pDYSdtI"
      },
      "source": [
        "# Домашнее задание 1 \n",
        "\n",
        "Домашнее задание присылать на почту pddrandomshuffle@gmail.com. Дедлайн - 12:00 14 числа. \n",
        "\n",
        "\n",
        "Присылать можно ссылку на colab. \n",
        "\n",
        "НЕ ЗАБУДЬТЕ \n",
        "\n",
        "1.  СКОПИРОВАТЬ СЕБЕ НА ГУГЛ-ДИСК ЭТОТ ФАЙЛ\n",
        "2. ОТКРЫТЬ ЕГО НА ЧТЕНИЕ\n",
        "Тема письма обязательно должна выглядеть следующим образом: \n",
        "\n",
        "Python\\_<Фамилия>\\_<Имя>\\_Магистратура\\_ДЗ\\_<номер_дз>\n",
        "\n"
      ]
    },
    {
      "cell_type": "markdown",
      "metadata": {
        "id": "3_SJsO1bUBPK"
      },
      "source": [
        "## Задание 1 "
      ]
    },
    {
      "cell_type": "markdown",
      "metadata": {
        "id": "4zQl6a_SUEM3"
      },
      "source": [
        "Напишите програму, которой пользователь на вход подает последовательно:\n",
        "\n",
        "1. имя\n",
        "\n",
        "2. фамилию\n",
        "\n",
        "3. номер домашнего задания\n",
        "\n",
        "Программа выводит тему письма, которую надо вставить в письмо с домашним заданием\n"
      ]
    },
    {
      "cell_type": "code",
      "metadata": {
        "colab": {
          "base_uri": "https://localhost:8080/"
        },
        "id": "RyvU0tBsV2q-",
        "outputId": "79ac85fa-6808-4f25-eefa-ba3ba1964a12"
      },
      "source": [
        "a = input ()\n",
        "b = input ()\n",
        "c = input ()\n",
        "\n",
        "\n",
        "print(print (\"Python_\" + str(b)+ \"_\" + (a) + \"_Магистратура_ДЗ_\" + (c)) )"
      ],
      "execution_count": null,
      "outputs": [
        {
          "output_type": "stream",
          "name": "stdout",
          "text": [
            "Саша\n",
            "Иванова\n",
            "1\n",
            "Python_Иванова_Саша_Магистратура_ДЗ_1\n",
            "None\n"
          ]
        }
      ]
    },
    {
      "cell_type": "markdown",
      "metadata": {
        "id": "ziGwMwlQWjqe"
      },
      "source": [
        "## Задание 2 \n",
        "\n",
        "Расстояние от точки в трехмерном пространстве до начала координат рассчитывается по формуле \n",
        "\n",
        "$$\\sqrt{x^2 + y^2 + z^2}$$\n",
        "\n",
        "Напишите программу, которая принимает на вход три числа, соответстующие координатам точки и выдающую расстояние от нее до начала координат"
      ]
    },
    {
      "cell_type": "code",
      "metadata": {
        "colab": {
          "base_uri": "https://localhost:8080/"
        },
        "id": "3YdMo8QjXH59",
        "outputId": "b9162bc6-bc8a-4f96-b354-f33806ee742e"
      },
      "source": [
        "x = input ()\n",
        "y = input ()\n",
        "z = input ()\n",
        "x = int (x)\n",
        "y = int (y)\n",
        "z = int (z)\n",
        "\n",
        "dist = (x**2+y**2+z**2)**0.5\n",
        "print(dist)"
      ],
      "execution_count": null,
      "outputs": [
        {
          "output_type": "stream",
          "name": "stdout",
          "text": [
            "3\n",
            "5\n",
            "4\n",
            "7.0710678118654755\n"
          ]
        }
      ]
    },
    {
      "cell_type": "markdown",
      "metadata": {
        "id": "KXXuOHhqXcx8"
      },
      "source": [
        "## Задание 3 \n",
        "\n",
        "Модифицируйте предыдущую программу, чтобы она выдавала расстояние после его округления до 3го знака после запятой"
      ]
    },
    {
      "cell_type": "code",
      "metadata": {
        "colab": {
          "base_uri": "https://localhost:8080/"
        },
        "id": "L9GpdBz8XWYY",
        "outputId": "9d4f472b-3be1-49fd-9811-e912be566d68"
      },
      "source": [
        "x = input ()\n",
        "y = input ()\n",
        "z = input ()\n",
        "x = int (x)\n",
        "y = int (y)\n",
        "z = int (z)\n",
        "\n",
        "dist = (x**2+y**2+z**2)**0.5\n",
        "c = round(dist, 3)\n",
        "print(c)"
      ],
      "execution_count": null,
      "outputs": [
        {
          "output_type": "stream",
          "name": "stdout",
          "text": [
            "3\n",
            "4\n",
            "5\n",
            "7.071\n"
          ]
        }
      ]
    },
    {
      "cell_type": "markdown",
      "metadata": {
        "id": "_rZRMclbXrue"
      },
      "source": [
        "## Задание 4 "
      ]
    },
    {
      "cell_type": "markdown",
      "metadata": {
        "id": "8_EnEjTdXy1y"
      },
      "source": [
        "Напишите программу, которая запрашивает у пользователя два натуральных числа и выводит их в порядке возрастания\n",
        "\n"
      ]
    },
    {
      "cell_type": "code",
      "metadata": {
        "id": "EKBWt-GsX-fa",
        "colab": {
          "base_uri": "https://localhost:8080/"
        },
        "outputId": "8a6a9be4-bd78-4e71-b454-4d91499ab89c"
      },
      "source": [
        "x = input ()\n",
        "y = input ()\n",
        "\n",
        "x = int (x)\n",
        "y = int (y)\n",
        "\n",
        "print (min (x,y), \",\", max (x,y))\n"
      ],
      "execution_count": null,
      "outputs": [
        {
          "output_type": "stream",
          "name": "stdout",
          "text": [
            "3\n",
            "4\n",
            "3 , 4\n"
          ]
        }
      ]
    },
    {
      "cell_type": "markdown",
      "metadata": {
        "id": "XgTIUei0YV30"
      },
      "source": [
        "## Задание 5 \n",
        "\n",
        "Напишите программу, которая запрашивает у пользователя три натуральных числа и выводит их в порядке возрастания. \n",
        "Эту задачу МОЖНО сделать, не зная конструкций с условием. Подумайте, как зная минимум и максимум, получить третье число \n",
        "\n"
      ]
    },
    {
      "cell_type": "code",
      "metadata": {
        "id": "TjKx-_2qYOZ0",
        "colab": {
          "base_uri": "https://localhost:8080/"
        },
        "outputId": "05cbafaa-6221-4d79-b9e5-05f3aba13464"
      },
      "source": [
        "x = input ()\n",
        "y = input ()\n",
        "z = input ()\n",
        "x = int (x)\n",
        "y = int (y)\n",
        "z = int (z)\n",
        "\n",
        "a = max (x,y,z)\n",
        "b = min (y,z,x)\n",
        "c = (min( max(x,y), max(y,z), max(z,x)))\n",
        "\n",
        "\n",
        "\n",
        "\n",
        "print (b, c, a)\n"
      ],
      "execution_count": null,
      "outputs": [
        {
          "output_type": "stream",
          "name": "stdout",
          "text": [
            "4\n",
            "5\n",
            "3\n",
            "3 4 5\n"
          ]
        }
      ]
    },
    {
      "cell_type": "markdown",
      "metadata": {
        "id": "Dnda0BR-SdtR"
      },
      "source": [
        "## Задача 6\n",
        "\n",
        "Напишите программу, которая принимает на вход:\n",
        "\n",
        "1. Время в часах (от 0 до 23)\n",
        "2. Время (в часах), через которое напомнить пользователю о запланированном делее\n",
        "\n",
        "Выводит время (в часах), когда прозвенит напоминание и то, через сколько дней это произойдет\n"
      ]
    },
    {
      "cell_type": "code",
      "metadata": {
        "colab": {
          "base_uri": "https://localhost:8080/"
        },
        "id": "O4_408hQSdtS",
        "outputId": "20f738c0-114d-474c-e5e4-0d27c0e9d303"
      },
      "source": [
        "a = input()\n",
        "b=input()\n",
        "a = int (a)\n",
        "b = int (b)\n",
        "c = (a + b)%24\n",
        "d = b//24\n",
        "print (c,d)\n",
        "\n"
      ],
      "execution_count": null,
      "outputs": [
        {
          "output_type": "stream",
          "name": "stdout",
          "text": [
            "3\n",
            "48\n",
            "3 2\n"
          ]
        }
      ]
    },
    {
      "cell_type": "markdown",
      "metadata": {
        "id": "ARSkzJnZZKuG"
      },
      "source": [
        "## Задача 7 \n",
        "\n",
        "Напишите программу, которая принимает на вход три числа и выводит True, если первое число больше двух других и False иначе. "
      ]
    },
    {
      "cell_type": "code",
      "metadata": {
        "id": "uh0Qb4UTZUFJ",
        "colab": {
          "base_uri": "https://localhost:8080/"
        },
        "outputId": "e9e5eca7-a77a-4894-883e-5f6cf8031f0a"
      },
      "source": [
        "a = input()\n",
        "b = input()\n",
        "c = input()\n",
        "a = int (a)\n",
        "b = int (b)\n",
        "c = int (c)\n",
        "\n",
        "d = max (a,b,c)\n",
        "d > b and d > c\n",
        "\n",
        "\n"
      ],
      "execution_count": null,
      "outputs": [
        {
          "name": "stdout",
          "output_type": "stream",
          "text": [
            "4\n",
            "8\n",
            "0\n"
          ]
        },
        {
          "output_type": "execute_result",
          "data": {
            "text/plain": [
              "False"
            ]
          },
          "metadata": {},
          "execution_count": 29
        }
      ]
    },
    {
      "cell_type": "markdown",
      "metadata": {
        "id": "jVSq72fTSdtU"
      },
      "source": [
        "## Задача 8\n",
        "\n",
        "Напишите программу, которая запрашивает три целых числа, представляющие собой часы (от 0 до 23), минуты (от 0 до 59) и секунды (от 0 до 59).\n",
        "\n",
        "Программа выводит True, если все три числа удолетворяют заданным условиям, иначе выводит False"
      ]
    },
    {
      "cell_type": "code",
      "metadata": {
        "id": "uBK7OScRSdtU",
        "colab": {
          "base_uri": "https://localhost:8080/"
        },
        "outputId": "83028b3e-9af6-4834-fc95-4043da67a2c1"
      },
      "source": [
        "a = input()\n",
        "b = input()\n",
        "c = input()\n",
        "a = int (a)\n",
        "b = int (b)\n",
        "c = int (c)\n",
        "23 - a >= 0 and 59 - b >= 0 and 59 - c >= 0\n"
      ],
      "execution_count": null,
      "outputs": [
        {
          "name": "stdout",
          "output_type": "stream",
          "text": [
            "23\n",
            "80\n",
            "20\n"
          ]
        },
        {
          "output_type": "execute_result",
          "data": {
            "text/plain": [
              "False"
            ]
          },
          "metadata": {},
          "execution_count": 65
        }
      ]
    },
    {
      "cell_type": "markdown",
      "metadata": {
        "id": "kqmMq-QuSdtU"
      },
      "source": [
        "## Задача 9\n",
        "\n",
        "Программа запрашивает у пользователя строку и выводит количество букв в ней"
      ]
    },
    {
      "cell_type": "code",
      "metadata": {
        "id": "BIeXr_zHSdtU",
        "colab": {
          "base_uri": "https://localhost:8080/"
        },
        "outputId": "f00139c0-fb2c-47f8-d460-5c2c736af252"
      },
      "source": [
        "a = input()\n",
        "print (len(a))"
      ],
      "execution_count": null,
      "outputs": [
        {
          "output_type": "stream",
          "name": "stdout",
          "text": [
            "lkrg\n",
            "4\n"
          ]
        }
      ]
    },
    {
      "cell_type": "markdown",
      "metadata": {
        "id": "IXVhJcFZSdtV"
      },
      "source": [
        "## Задача 10\n",
        "\n",
        "Программа запрашивает у пользователя строку и выводит символ, который находится в ней посередине. \n",
        "Если число символов в строке четное, то программа выводит \"левый\" из двух центральных символов\n",
        "\n",
        "То есть для строки \"atgc\" надо вывести \"t\"\n"
      ]
    },
    {
      "cell_type": "code",
      "metadata": {
        "id": "Ta8NJqvCSdtV",
        "colab": {
          "base_uri": "https://localhost:8080/"
        },
        "outputId": "59db8b61-0a6c-43d3-d3e3-74c6e7f74510"
      },
      "source": [
        "a = input()\n",
        "b = len(a)\n",
        "c = b // 2 \n",
        "l = b%2\n",
        "c = c + l\n",
        "d = a[(c-1):(c)]\n",
        "print (d)"
      ],
      "execution_count": null,
      "outputs": [
        {
          "output_type": "stream",
          "name": "stdout",
          "text": [
            "arch\n",
            "r\n"
          ]
        }
      ]
    },
    {
      "cell_type": "markdown",
      "metadata": {
        "id": "e5Nw7bIqbM97"
      },
      "source": [
        "## Задание 11"
      ]
    },
    {
      "cell_type": "markdown",
      "metadata": {
        "id": "UNwy4qcYdF5R"
      },
      "source": [
        "Ниже приведен код функции на Python для общения с [Балаболой](https://yandex.ru/lab/yalm). \n",
        "\n",
        "Сейчас вам не важно понимать, что здесь написано. Часто можно использовать код, написанный вашими коллегами, который вы не до конца понимаете (хоть так делать и не стоит, но время не всегда есть)\n",
        "\n"
      ]
    },
    {
      "cell_type": "code",
      "metadata": {
        "id": "t1lu_IqUbNZf"
      },
      "source": [
        "import requests\n",
        "import json\n",
        "\n",
        "def ask_balabola(text):\n",
        "    url = \"https://yandex.ru/lab/api/yalm/text3\"\n",
        "\n",
        "    payload = json.dumps({\n",
        "      \"filter\": 1,\n",
        "      \"into\": 0,\n",
        "      \"query\": text,\n",
        "      \"style\": 2\n",
        "    })\n",
        "    headers = {\n",
        "      'Content-Type': 'application/json'\n",
        "    }\n",
        "\n",
        "    response = requests.request(\"POST\", url, headers=headers, data=payload)\n",
        "\n",
        "    response = json.loads(response.text)\n",
        "    return response['query'] + response['text']\n"
      ],
      "execution_count": null,
      "outputs": []
    },
    {
      "cell_type": "markdown",
      "metadata": {
        "id": "DNyCIaqodtfB"
      },
      "source": [
        "Пример работы функции"
      ]
    },
    {
      "cell_type": "code",
      "metadata": {
        "colab": {
          "base_uri": "https://localhost:8080/",
          "height": 165
        },
        "id": "95srXdMwbYmG",
        "outputId": "2c4b34ae-be69-4613-a51a-f7f3e7f74404"
      },
      "source": [
        "ask_balabola('заходят в бар 2 биоинформатика')"
      ],
      "execution_count": null,
      "outputs": [
        {
          "output_type": "error",
          "ename": "NameError",
          "evalue": "ignored",
          "traceback": [
            "\u001b[0;31m---------------------------------------------------------------------------\u001b[0m",
            "\u001b[0;31mNameError\u001b[0m                                 Traceback (most recent call last)",
            "\u001b[0;32m<ipython-input-54-f8a789df24d6>\u001b[0m in \u001b[0;36m<module>\u001b[0;34m()\u001b[0m\n\u001b[0;32m----> 1\u001b[0;31m \u001b[0mask_balabola\u001b[0m\u001b[0;34m(\u001b[0m\u001b[0;34m'заходят в бар 2 биоинформатика'\u001b[0m\u001b[0;34m)\u001b[0m\u001b[0;34m\u001b[0m\u001b[0;34m\u001b[0m\u001b[0m\n\u001b[0m",
            "\u001b[0;31mNameError\u001b[0m: name 'ask_balabola' is not defined"
          ]
        }
      ]
    },
    {
      "cell_type": "markdown",
      "metadata": {
        "id": "V2Vp-kTKdtBV"
      },
      "source": [
        "Вашей задачей является написать программу, которая принимает от пользователя, кто именно вдвоем заходит в бар, и выдающую то, что сгенерирует балабола. \n",
        " \n",
        "Учтите, что ответ балаболы от запуска к запуску может меняться - это не проблема"
      ]
    },
    {
      "cell_type": "code",
      "metadata": {
        "id": "Y-ax4Rc7cH7S",
        "colab": {
          "base_uri": "https://localhost:8080/",
          "height": 52
        },
        "outputId": "9704dc9a-50d6-4928-d500-3661201232c5"
      },
      "source": [
        "import requests\n",
        "import json\n",
        "\n",
        "def ask_balabola(text):\n",
        "    url = \"https://yandex.ru/lab/api/yalm/text3\"\n",
        "\n",
        "    payload = json.dumps({\n",
        "      \"filter\": 1,\n",
        "      \"into\": 0,\n",
        "      \"query\": text,\n",
        "      \"style\": 2\n",
        "    })\n",
        "    headers = {\n",
        "      'Content-Type': 'application/json'\n",
        "    }\n",
        "\n",
        "    response = requests.request(\"POST\", url, headers=headers, data=payload)\n",
        "\n",
        "    response = json.loads(response.text)\n",
        "    return response['query'] + response['text']\n",
        "a = input()\n",
        "ask_balabola(a)\n",
        "    "
      ],
      "execution_count": null,
      "outputs": [
        {
          "name": "stdout",
          "output_type": "stream",
          "text": [
            "заходят в бар 2 информатика\n"
          ]
        },
        {
          "output_type": "execute_result",
          "data": {
            "application/vnd.google.colaboratory.intrinsic+json": {
              "type": "string"
            },
            "text/plain": [
              "'заходят в бар 2 информатика и у одного из них телефон сломался:D'"
            ]
          },
          "metadata": {},
          "execution_count": 19
        }
      ]
    }
  ]
}