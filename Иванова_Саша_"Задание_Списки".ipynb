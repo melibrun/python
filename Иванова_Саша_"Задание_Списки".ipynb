{
  "nbformat": 4,
  "nbformat_minor": 0,
  "metadata": {
    "colab": {
      "provenance": [],
      "include_colab_link": true
    },
    "kernelspec": {
      "name": "python3",
      "display_name": "Python 3"
    },
    "language_info": {
      "name": "python"
    }
  },
  "cells": [
    {
      "cell_type": "markdown",
      "metadata": {
        "id": "view-in-github",
        "colab_type": "text"
      },
      "source": [
        "<a href=\"https://colab.research.google.com/github/melibrun/python/blob/main/%D0%98%D0%B2%D0%B0%D0%BD%D0%BE%D0%B2%D0%B0_%D0%A1%D0%B0%D1%88%D0%B0_%22%D0%97%D0%B0%D0%B4%D0%B0%D0%BD%D0%B8%D0%B5_%D0%A1%D0%BF%D0%B8%D1%81%D0%BA%D0%B8%22.ipynb\" target=\"_parent\"><img src=\"https://colab.research.google.com/assets/colab-badge.svg\" alt=\"Open In Colab\"/></a>"
      ]
    },
    {
      "cell_type": "markdown",
      "metadata": {
        "id": "TuFtfsRrM1QE"
      },
      "source": [
        "## Задание 1\n",
        "\n",
        "Напишите программу, которая принимает на вход два списка одинаковой длины, содержащие числа и создает список, в котором записаны частные элементов на соответствующих позициях"
      ]
    },
    {
      "cell_type": "code",
      "metadata": {
        "id": "uxLZfdFtNR4y"
      },
      "source": [
        "a = [1, 3, 4, -5]\n",
        "b = [2, 4, 9, 1]\n",
        "...\n",
        "print(c)   # [0.5, 0.75, 0.4444444444444444, -5.0]"
      ],
      "execution_count": null,
      "outputs": []
    },
    {
      "cell_type": "code",
      "metadata": {
        "colab": {
          "base_uri": "https://localhost:8080/"
        },
        "id": "kMZuj2hBk5K9",
        "outputId": "202d5bbb-0a0a-4e7f-df0c-90f474baefa5"
      },
      "source": [
        "a = [1, 3, 4, -5]\n",
        "b = [2, 4, 9, 1]\n",
        "new = []\n",
        "i = 0\n",
        "c = len (a)\n",
        "while i < c:\n",
        "  d = a[i]/b[i]\n",
        "  new.append(d)\n",
        "  i = i + 1\n",
        "print (new)\n"
      ],
      "execution_count": null,
      "outputs": [
        {
          "output_type": "stream",
          "name": "stdout",
          "text": [
            "[0.5, 0.75, 0.4444444444444444, -5.0]\n"
          ]
        }
      ]
    },
    {
      "cell_type": "markdown",
      "metadata": {
        "id": "vhY9x823N8oH"
      },
      "source": [
        "## Задание 2\n",
        "\n",
        "Напишите программу, которая считает квадратичный корень из каждого элемента списка и записывает их в выходной список"
      ]
    },
    {
      "cell_type": "code",
      "metadata": {
        "colab": {
          "base_uri": "https://localhost:8080/"
        },
        "id": "KdtqllNGNwV-",
        "outputId": "fa6735d1-e1e1-438c-808c-0ec8f4df2fe4"
      },
      "source": [
        "a = [1, 2, 4, 9]\n",
        "\n",
        "...\n",
        "print(c)# 1.0, 1.4142135623730951, 2.0, 3.0"
      ],
      "execution_count": null,
      "outputs": [
        {
          "output_type": "execute_result",
          "data": {
            "text/plain": [
              "[1.0, 1.4142135623730951, 2.0, 3.0]"
            ]
          },
          "metadata": {},
          "execution_count": 5
        }
      ]
    },
    {
      "cell_type": "code",
      "metadata": {
        "colab": {
          "base_uri": "https://localhost:8080/"
        },
        "id": "ypuzo3m5ppuP",
        "outputId": "472683cf-9a12-450c-99d7-900bc5706f09"
      },
      "source": [
        "a = [1, 3, 4, 5]\n",
        "\n",
        "new = []\n",
        "i = 0\n",
        "c = len (a)\n",
        "for i in range (c):\n",
        "  d = a[i]**0.5\n",
        "  new.append(d)\n",
        "  i = i + 1\n",
        "print (new)"
      ],
      "execution_count": null,
      "outputs": [
        {
          "output_type": "stream",
          "name": "stdout",
          "text": [
            "[1.0, 1.7320508075688772, 2.0, 2.23606797749979]\n"
          ]
        }
      ]
    },
    {
      "cell_type": "markdown",
      "metadata": {
        "id": "ffIds8ZgMAfJ"
      },
      "source": [
        "## Задание 3\n",
        "\n",
        "На вход дается список. Напишите программу, которая переворачивает его \n"
      ]
    },
    {
      "cell_type": "code",
      "metadata": {
        "id": "XOldv4hPMIo2"
      },
      "source": [
        "a = [1, 2, ,4, 9]\n",
        "\n",
        "...\n",
        "\n",
        "print(c) # 9, 4, 2, 1"
      ],
      "execution_count": null,
      "outputs": []
    },
    {
      "cell_type": "code",
      "metadata": {
        "colab": {
          "base_uri": "https://localhost:8080/"
        },
        "id": "XPTyQJUcrJRk",
        "outputId": "3b76d62f-5e87-44ac-81bd-12513af92f6f"
      },
      "source": [
        "a = [1, 2, 4, 9]\n",
        "new = []\n",
        "b = len(a)\n",
        "i = 0\n",
        "while i < b:\n",
        "  d = a[b-i-1]\n",
        "  new.append(d)\n",
        "  i = i + 1\n",
        "print (new) "
      ],
      "execution_count": null,
      "outputs": [
        {
          "output_type": "stream",
          "name": "stdout",
          "text": [
            "[9, 4, 2, 1]\n"
          ]
        }
      ]
    },
    {
      "cell_type": "markdown",
      "metadata": {
        "id": "BJ8WPat0OSSl"
      },
      "source": [
        "## Задание 4\n",
        "\n",
        "Напишите программу, которой на вход передаются два массива из чисел. Для каждого числа из первого массива программа пишет все вхождения этого числа во второй массив\n"
      ]
    },
    {
      "cell_type": "code",
      "metadata": {
        "id": "rJn_ukX3Nwqb",
        "colab": {
          "base_uri": "https://localhost:8080/"
        },
        "outputId": "6edf2e53-2de5-415b-fe65-017d552a6b3d"
      },
      "source": [
        "a = [1, 9, 2, 4]\n",
        "b = [1, 1, 0, 1, 9, 9, 2]\n",
        "b1 = len (b)\n",
        "a1 = len (a)\n",
        "\n",
        "new = []\n",
        "i = 0\n",
        "d = 0\n",
        "for d in range (a1):\n",
        " for i in range (b1):\n",
        "     if a[d]==b[i]:\n",
        "      new.append(i)\n",
        "     \n",
        "  \n",
        "print (new)\n",
        "\n",
        "\n",
        "\n",
        "# 1: 0, 1, 3\n",
        "# 9: 4, 5\n",
        "# 2: 6\n",
        "# 4: -1"
      ],
      "execution_count": null,
      "outputs": [
        {
          "output_type": "stream",
          "name": "stdout",
          "text": [
            "[0, 1, 3, 4, 5, 6]\n"
          ]
        }
      ]
    },
    {
      "cell_type": "code",
      "metadata": {
        "id": "4MhhYqx7tvQR"
      },
      "source": [
        "a = [1, 9, 2, 4]\n",
        "b = [1, 1, 0, 1, 9, 9, 2]\n",
        "\n",
        "new=[]"
      ],
      "execution_count": null,
      "outputs": []
    },
    {
      "cell_type": "markdown",
      "metadata": {
        "id": "DBE_0wcgMo2L"
      },
      "source": [
        "## Задание 5\n",
        "\n",
        "На вход дается список. Надо создать список списков, в котором первые список включает 1й элемент первого, 2й - первый и второй, 3й - первый, второй и третьй и т.д"
      ]
    },
    {
      "cell_type": "code",
      "metadata": {
        "id": "Ku2LmG4EMreo",
        "colab": {
          "base_uri": "https://localhost:8080/"
        },
        "outputId": "f039f2c1-4fa1-4325-da84-cf26bb38eaee"
      },
      "source": [
        "a = [ 9, 2, 4]\n",
        "new = []\n",
        "for i in range (len(a)):\n",
        "  new.append(a[i])\n",
        "  a[i] = new.copy()\n",
        "print (a)\n",
        "\n",
        "...\n",
        "# [[1], [1, 9], [1, 9, 2], [1, 9, 2, 4]]"
      ],
      "execution_count": null,
      "outputs": [
        {
          "output_type": "stream",
          "name": "stdout",
          "text": [
            "[[9], [9, 2], [9, 2, 4]]\n"
          ]
        },
        {
          "output_type": "execute_result",
          "data": {
            "text/plain": [
              "Ellipsis"
            ]
          },
          "metadata": {},
          "execution_count": 12
        }
      ]
    },
    {
      "cell_type": "markdown",
      "metadata": {
        "id": "kY6mNrB2NNrC"
      },
      "source": [
        "## Задание 6\n",
        "\n",
        "На вход дается список с числами. Найдите индекс самого маленького элемента"
      ]
    },
    {
      "cell_type": "code",
      "metadata": {
        "id": "CwEu0TBrNT4g",
        "colab": {
          "base_uri": "https://localhost:8080/"
        },
        "outputId": "4cbbbc94-530d-41a3-f755-057e3b171c7e"
      },
      "source": [
        "a = [10, 13, 7, 0, 1]\n",
        "b = min (a)\n",
        "for i in range (len(a)):\n",
        "  if a[i]==b:\n",
        "    print (i)\n",
        "\n"
      ],
      "execution_count": null,
      "outputs": [
        {
          "output_type": "stream",
          "name": "stdout",
          "text": [
            "3\n"
          ]
        }
      ]
    },
    {
      "cell_type": "markdown",
      "metadata": {
        "id": "ZPA4lS4cNZub"
      },
      "source": []
    },
    {
      "cell_type": "markdown",
      "metadata": {
        "id": "Njk3ZPCvNZ1I"
      },
      "source": [
        "## Задание 7\n",
        "\n",
        "На вход дается список с числами. Поменяйтся местами самое большое и самое маленькое числа в списке. "
      ]
    },
    {
      "cell_type": "code",
      "metadata": {
        "id": "gJZHnAJUNm1z",
        "colab": {
          "base_uri": "https://localhost:8080/"
        },
        "outputId": "2d865ebb-a1e9-42bb-c44f-da5e6ed5e0ba"
      },
      "source": [
        "a = [10, 13, 7, 0, 1]\n",
        "\n",
        "amax = max (a)\n",
        "amin = min (a)\n",
        "i = 0\n",
        "for i in range (len(a)):\n",
        "  if a[i]==amax:\n",
        "    d = i\n",
        "\n",
        "t = 0\n",
        "for l in range (len(a)):\n",
        "  if a[l]==amin:\n",
        "    t = l\n",
        "\n",
        "a[d] = a[t]\n",
        "a[t] = amax\n",
        "\n",
        "\n",
        "print(a)\n",
        "\n",
        "\n",
        " # [10, 0, 7, 13, 1]"
      ],
      "execution_count": null,
      "outputs": [
        {
          "output_type": "stream",
          "name": "stdout",
          "text": [
            "[10, 0, 7, 13, 1]\n"
          ]
        }
      ]
    }
  ]
}